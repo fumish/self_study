{
 "cells": [
  {
   "cell_type": "markdown",
   "metadata": {},
   "source": [
    "# 技術者のための線形代数学 1章 デモ\n",
    "1. 1次変換\n",
    "    + 行列の要素を色々変更するとどうなるか\n",
    "\n",
    "2. 固有値関連の内容\n",
    "\n",
    "3. 最小二乗法"
   ]
  },
  {
   "cell_type": "code",
   "execution_count": 31,
   "metadata": {},
   "outputs": [],
   "source": [
    "import numpy as np\n",
    "import matplotlib.pyplot as plt\n",
    "from ipywidgets import interact"
   ]
  },
  {
   "cell_type": "markdown",
   "metadata": {},
   "source": [
    "# 1次変換"
   ]
  },
  {
   "cell_type": "markdown",
   "metadata": {},
   "source": [
    "## 画像を回転させる\n",
    "+ 回転行列$R(\\theta)$は\n",
    "$$\n",
    "R(\\theta) = \\left[\\begin{array}{cc}\n",
    "    \\cos(\\theta) & -\\sin(\\theta) \\\\\n",
    "    \\sin(\\theta) & \\cos(\\theta) \\\\\n",
    "\\end{array}\\right]\n",
    "$$\n",
    "特に$(a,b)$周りで回転したとき、回転先の位置$(x', y')$は\n",
    "$$\n",
    "\\left[\\begin{array}{c}\n",
    "    x' \\\\\n",
    "    y' \\\\\n",
    "\\end{array}\\right] = \n",
    "\\left[\\begin{array}{cc}\n",
    "    \\cos(\\theta) & -\\sin(\\theta) \\\\\n",
    "    \\sin(\\theta) & \\cos(\\theta) \\\\\n",
    "\\end{array}\\right]\n",
    "\\left[\\begin{array}{c}\n",
    "    x - a \\\\\n",
    "    y - b \\\\\n",
    "\\end{array}\\right]\n",
    "+\n",
    "\\left[\\begin{array}{c}\n",
    "    a \\\\\n",
    "    b \\\\\n",
    "\\end{array}\\right]\n",
    "$$\n",
    "+ ** 画像の行き先をドット上にしてするため四捨五入しているので割と粗いです **"
   ]
  },
  {
   "cell_type": "code",
   "execution_count": 3,
   "metadata": {},
   "outputs": [],
   "source": [
    "np.random.seed(20191012)\n",
    "X = np.random.normal(size = (100, 100))"
   ]
  },
  {
   "cell_type": "code",
   "execution_count": 4,
   "metadata": {},
   "outputs": [],
   "source": [
    "X = np.array([[1,1,1],[0,0,1],[0,0,1]])"
   ]
  },
  {
   "cell_type": "code",
   "execution_count": 5,
   "metadata": {},
   "outputs": [],
   "source": [
    "X = np.array([[0,0,0,0,0,0,0],[0,1,1,1,1,1,0],[0,0,0,1,0,0,0],[0,0,0,1,0,0,0],[0,0,0,1,0,0,0],[0,0,0,1,0,0,0],[0,0,0,0,0,0,0]])\n",
    "(pos_x, pos_y) = np.where(X == 1)"
   ]
  },
  {
   "cell_type": "code",
   "execution_count": 21,
   "metadata": {},
   "outputs": [],
   "source": [
    "theta = np.pi / 5\n",
    "R = np.array([[np.cos(theta), -np.sin(theta)],[np.sin(theta), np.cos(theta)]])\n",
    "offset_x = 3\n",
    "offset_y = 3"
   ]
  },
  {
   "cell_type": "code",
   "execution_count": 40,
   "metadata": {},
   "outputs": [],
   "source": [
    "offset_x = 3\n",
    "offset_y = 3"
   ]
  },
  {
   "cell_type": "code",
   "execution_count": 43,
   "metadata": {},
   "outputs": [],
   "source": [
    "def im_rotate(theta, offset_x, offset_y):\n",
    "    R = np.array([[np.cos(theta), -np.sin(theta)],[np.sin(theta), np.cos(theta)]])\n",
    "    pos_dash = np.zeros((len(pos_x), 2))\n",
    "    X_dash = np.zeros(X.shape)\n",
    "    for i, (i_pos_x, i_pos_y) in enumerate(zip(pos_x, pos_y)):\n",
    "        pos_dash[i,:] = np.round(R @ np.array([i_pos_x - offset_x, i_pos_y - offset_y])) + np.array([offset_x, offset_y])\n",
    "        \n",
    "    for i in range(len(pos_x)):\n",
    "        X_dash[int(pos_dash[i,0]), int(pos_dash[i,1])] = X[pos_x[i], pos_y[i]]\n",
    "    \n",
    "    plt.imshow(X)\n",
    "    plt.show()\n",
    "    \n",
    "    plt.imshow(X_dash)\n",
    "    plt.show()"
   ]
  },
  {
   "cell_type": "code",
   "execution_count": 44,
   "metadata": {},
   "outputs": [
    {
     "data": {
      "application/vnd.jupyter.widget-view+json": {
       "model_id": "4b06b0ac01f54a758df373191759f05c",
       "version_major": 2,
       "version_minor": 0
      },
      "text/plain": [
       "interactive(children=(FloatSlider(value=0.0, description='theta', max=3.241592653589793, min=-3.14159265358979…"
      ]
     },
     "metadata": {},
     "output_type": "display_data"
    },
    {
     "data": {
      "text/plain": [
       "<function __main__.im_rotate(theta, offset_x, offset_y)>"
      ]
     },
     "execution_count": 44,
     "metadata": {},
     "output_type": "execute_result"
    }
   ],
   "source": [
    "interact(im_rotate, theta=(-np.pi, np.pi+0.1, 0.1*np.pi), offset_x = (0, 7, 1), offset_y=(0, 7, 1))"
   ]
  },
  {
   "cell_type": "code",
   "execution_count": 22,
   "metadata": {},
   "outputs": [],
   "source": [
    "# pos = np.array(list(itertools.product(np.arange(0,4), np.arange(0,4))))\n",
    "pos_dash = np.zeros((len(pos_x), 2))\n",
    "X_dash = np.zeros(X.shape)\n",
    "for i, (i_pos_x, i_pos_y) in enumerate(zip(pos_x, pos_y)):\n",
    "    pos_dash[i,:] = np.round(R @ np.array([i_pos_x - offset_x, i_pos_y - offset_y])) + np.array([offset_x, offset_y])\n",
    "#     print((i_pos_x, i_pos_y), i_pos_dash)\n",
    "#     pos_dash[i,:] = np.round(R @ i_pos)\n",
    "#     X_dash[int(pos_dash[i,0]), int(pos_dash[i,1])] = X[int(i_pos[0]-3), int(i_pos[1]-3)]"
   ]
  },
  {
   "cell_type": "code",
   "execution_count": 23,
   "metadata": {},
   "outputs": [],
   "source": [
    "# offset_pos_dash = pos_dash - pos_dash.min(axis = 0)\n",
    "pos_dash_x = pos_dash[:,0]\n",
    "pos_dash_y = pos_dash[:,1]"
   ]
  },
  {
   "cell_type": "code",
   "execution_count": 25,
   "metadata": {},
   "outputs": [],
   "source": [
    "for i in range(len(pos_x)):\n",
    "    X_dash[int(pos_dash_x[i]), int(pos_dash_y[i])] = X[pos_x[i], pos_y[i]]"
   ]
  },
  {
   "cell_type": "code",
   "execution_count": 26,
   "metadata": {},
   "outputs": [
    {
     "data": {
      "image/png": "[encoded data removed]",
      "text/plain": [
       "<Figure size 432x288 with 1 Axes>"
      ]
     },
     "metadata": {
      "needs_background": "light"
     },
     "output_type": "display_data"
    }
   ],
   "source": [
    "plt.imshow(X_dash)\n",
    "plt.show()"
   ]
  },
  {
   "cell_type": "code",
   "execution_count": 27,
   "metadata": {},
   "outputs": [
    {
     "data": {
      "image/png": "[encoded data removed]",
      "text/plain": [
       "<Figure size 432x288 with 1 Axes>"
      ]
     },
     "metadata": {
      "needs_background": "light"
     },
     "output_type": "display_data"
    }
   ],
   "source": [
    "plt.imshow(X)\n",
    "plt.show()"
   ]
  },
  {
   "cell_type": "code",
   "execution_count": null,
   "metadata": {},
   "outputs": [],
   "source": []
  },
  {
   "cell_type": "markdown",
   "metadata": {},
   "source": [
    "# 固有値関連の内容"
   ]
  },
  {
   "cell_type": "code",
   "execution_count": null,
   "metadata": {},
   "outputs": [],
   "source": []
  },
  {
   "cell_type": "markdown",
   "metadata": {},
   "source": [
    "# 最小二乗法"
   ]
  },
  {
   "cell_type": "code",
   "execution_count": null,
   "metadata": {},
   "outputs": [],
   "source": []
  }
 ],
 "metadata": {
  "jupytext": {
   "text_representation": {
    "extension": ".py",
    "format_name": "light",
    "format_version": "1.4",
    "jupytext_version": "1.1.3"
   }
  },
  "kernelspec": {
   "display_name": "Python 3",
   "language": "python",
   "name": "python3"
  },
  "language_info": {
   "codemirror_mode": {
    "name": "ipython",
    "version": 3
   },
   "file_extension": ".py",
   "mimetype": "text/x-python",
   "name": "python",
   "nbconvert_exporter": "python",
   "pygments_lexer": "ipython3",
   "version": "3.7.3"
  },
  "toc-autonumbering": true,
  "toc-showcode": true,
  "toc-showmarkdowntxt": false,
  "toc-showtags": false
 },
 "nbformat": 4,
 "nbformat_minor": 4
}

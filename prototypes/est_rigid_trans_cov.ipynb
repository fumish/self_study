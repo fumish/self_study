{
 "cells": [
  {
   "cell_type": "markdown",
   "id": "c39e56d9-5ab5-4adb-be21-3dde4cfa7107",
   "metadata": {},
   "source": [
    "# Estimation for Rigid Transformation\n",
    "+ Formalization\n",
    "$$\n",
    "q_i = R_{xyz} p_i + t + \\epsilon, \\epsilon \\sim N(0,1),\n",
    "$$\n",
    "+ $t$ and $R_{xyz}$ is targets to estimate and $R_{xyz} = R_x(\\theta_x) R_y(\\theta_y) R_z(\\theta_z)$.\n",
    "+ Optimizing each parameters $t$, $R_x(\\theta_x)$, $R_y(\\theta_y)$, and $R_z(\\theta_z)$ are considered here.\n",
    "+ First, this notebook consider about $t$ and $R_x(\\theta_x)$"
   ]
  },
  {
   "cell_type": "code",
   "execution_count": 1,
   "id": "bb3e6d8e-132b-45fc-83c5-108320b7c9b6",
   "metadata": {},
   "outputs": [],
   "source": [
    "import numpy as np\n",
    "import scipy"
   ]
  },
  {
   "cell_type": "code",
   "execution_count": 2,
   "id": "bf230a7d-0b73-40eb-8fe2-f69d47151eb9",
   "metadata": {},
   "outputs": [],
   "source": [
    "def rot_x(theta_x: float) -> np.ndarray:\n",
    "    ct = np.cos(theta_x)\n",
    "    st = np.sin(theta_x)\n",
    "    return np.array([\n",
    "        [1, 0, 0],\n",
    "        [0, ct, -st],\n",
    "        [0, st, ct]\n",
    "    ])\n",
    "    pass\n",
    "\n",
    "def rot_y(theta_y: float) -> np.ndarray:\n",
    "    ct = np.cos(theta_y)\n",
    "    st = np.sin(theta_y)\n",
    "    return np.array([\n",
    "        [ct, 0, -st],\n",
    "        [0, 1, 0],\n",
    "        [st, 0, ct]\n",
    "    ])\n",
    "\n",
    "def rot_z(theta_z: float) -> np.ndarray:\n",
    "    ct = np.cos(theta_z)\n",
    "    st = np.sin(theta_z)\n",
    "    return np.array([\n",
    "        [ct, -st, 0],\n",
    "        [st, ct, 0],\n",
    "        [0, 0, 1],\n",
    "    ])"
   ]
  },
  {
   "cell_type": "markdown",
   "id": "e82879bb-573f-4356-b235-e0f28dc4e2ce",
   "metadata": {},
   "source": [
    "# Loop to estimate R_x, R_y, R_z, and t with a covariance noise"
   ]
  },
  {
   "cell_type": "code",
   "execution_count": 80,
   "id": "59b6d1b1-27f1-4bcc-b2bb-e4891a57f283",
   "metadata": {},
   "outputs": [],
   "source": [
    "n_sample = 1000\n",
    "n_test = 10000\n",
    "data_seed = 20240630\n",
    "np.random.seed(data_seed)"
   ]
  },
  {
   "cell_type": "code",
   "execution_count": 81,
   "id": "0ac0bc94-8722-43a6-bdc1-9c8c576159e4",
   "metadata": {},
   "outputs": [],
   "source": [
    "scale = np.array([\n",
    "    [1, 0.5, 0.1],\n",
    "    [0.5, 1, 0.8],\n",
    "    [0.1, 0.8, 1],\n",
    "])"
   ]
  },
  {
   "cell_type": "code",
   "execution_count": 82,
   "id": "84b977e0-5367-4d94-b680-e63abb1c26f6",
   "metadata": {},
   "outputs": [],
   "source": [
    "cov = scipy.stats.wishart.rvs(df=10, scale=scale)\n",
    "sq_cov = scipy.linalg.sqrtm(cov)\n",
    "\n",
    "# cov = np.eye(3)"
   ]
  },
  {
   "cell_type": "code",
   "execution_count": 83,
   "id": "b73a6b20-4f0d-48bc-9caa-8e2279ce906f",
   "metadata": {},
   "outputs": [],
   "source": [
    "true_theta_x = np.random.uniform(low=0, high=2*np.pi)\n",
    "true_theta_y = np.random.uniform(low=0, high=2*np.pi)\n",
    "true_theta_z = np.random.uniform(low=0, high=2*np.pi)\n",
    "true_trans_vec = np.random.normal(size=3)\n",
    "true_rot = rot_x(true_theta_x) @ rot_y(true_theta_y) @ rot_z(true_theta_z)\n",
    "\n",
    "train_noise = np.random.normal(size=(n_sample,3))\n",
    "test_noise = np.random.normal(size=(n_test,3))\n",
    "# np.random.multivariate_normal(mean=np.zeros(3), cov=cov, size=n_sample)\n",
    "# test_noise = np.random.multivariate_normal(mean=np.zeros(3), cov=cov, size=n_test)\n",
    "\n",
    "p_i = np.random.normal(size=(n_sample, 3))\n",
    "p_i_dash = np.linalg.solve(sq_cov, p_i.T).T\n",
    "# p_i_dash = p_i @ sq_cov.T\n",
    "q_i = p_i @ true_rot.T + true_trans_vec + train_noise @ sq_cov.T\n",
    "q_i_dash = np.linalg.solve(sq_cov, q_i.T).T\n",
    "# q_i_dash = q_i_dash = p_i_dash @ true_rot.T + true_trans_vec + train_noise @ sq_cov.T\n",
    "\n",
    "test_p_i = np.random.normal(size=(n_test, 3))\n",
    "test_p_i_dash = np.linalg.solve(sq_cov, test_p_i.T).T\n",
    "# test_p_i_dash = test_p_i @ sq_cov.T\n",
    "test_q_i = test_p_i @ true_rot.T + true_trans_vec + test_noise @ sq_cov.T\n",
    "test_q_i_dash = test_p_i_dash @ true_rot.T + true_trans_vec + test_noise @ sq_cov.T\n",
    "\n",
    "# np.random.normal(scale=1, size=(n_sample, 3))"
   ]
  },
  {
   "cell_type": "code",
   "execution_count": 84,
   "id": "cba93877-8f1c-4f0c-9456-676788638192",
   "metadata": {},
   "outputs": [],
   "source": [
    "# p_i_dash = np.linalg.solve(sq_cov, p_i.T).T\n",
    "# test_p_i_dash = np.linalg.solve(sq_cov, test_p_i.T).T\n",
    "\n",
    "# q_i_dash = p_i_dash @ true_rot.T + true_trans_vec + np.random.multivariate_normal(mean=np.zeros(3), cov=cov, size=n_sample)"
   ]
  },
  {
   "cell_type": "code",
   "execution_count": 85,
   "id": "d5970e22-ee7a-42a5-a5dc-afbdef65c0c3",
   "metadata": {},
   "outputs": [],
   "source": [
    "def estimate_theta(sin_coef: float, cos_coef: float) -> float:\n",
    "    \"\"\" estimate maximizing theta of sin_coef sin(theta) + cos_coef cos(theta),\n",
    "    where theta in [0,2pi].\n",
    "    consider the 1st and 2nd order derivative, the value is obtained.\n",
    "    \"\"\"\n",
    "    \n",
    "    dist = np.sqrt(sin_coef**2 + cos_coef**2)\n",
    "    if sin_coef >= 0:\n",
    "        delta = np.arcsin(cos_coef/dist)\n",
    "        pass\n",
    "    else:\n",
    "        delta = np.pi - np.arcsin(cos_coef/dist)\n",
    "        pass\n",
    "    candidate_est_theta = np.arange(4) * np.pi - delta\n",
    "    est_theta = min(\n",
    "        filter(\n",
    "            lambda theta: \n",
    "            0 <= theta and theta <= 2*np.pi # for range of theta\n",
    "            and np.cos(theta + delta) < 0, # for 2nd order derivative is negative\n",
    "            candidate_est_theta,\n",
    "        )\n",
    "    )\n",
    "    return est_theta\n",
    "    pass"
   ]
  },
  {
   "cell_type": "code",
   "execution_count": 86,
   "id": "e8d6894f-7541-4648-a327-ca145abcc668",
   "metadata": {},
   "outputs": [],
   "source": [
    "n_ite = 100\n",
    "ln_seed = 20240701"
   ]
  },
  {
   "cell_type": "code",
   "execution_count": 87,
   "id": "5146d20a-065f-4152-aad7-6c663b1f6579",
   "metadata": {},
   "outputs": [],
   "source": [
    "def estimate_theta_x(x_i: np.ndarray, y_i: np.ndarray, theta_y: float, theta_z: float, trans_vec: np.ndarray) -> float:\n",
    "    tilde_y_i = y_i - trans_vec\n",
    "    tilde_x_i = x_i @ rot_z(theta_z).T @ rot_y(theta_y).T    \n",
    "    sin_coef = -(tilde_x_i[:,1]*tilde_y_i[:,1] + tilde_x_i[:,2]*tilde_y_i[:,2]).sum()\n",
    "    cos_coef = (-tilde_x_i[:,2]*tilde_y_i[:,1] + tilde_x_i[:,1]*tilde_y_i[:,2]).sum()\n",
    "    return estimate_theta(sin_coef=sin_coef, cos_coef=cos_coef)\n",
    "\n",
    "def estimate_theta_y(x_i: np.ndarray, y_i: np.ndarray, theta_x: float, theta_z: float, trans_vec: np.ndarray) -> float:\n",
    "    tilde_y_i = (y_i - trans_vec) @ rot_x(theta_x)\n",
    "    tilde_x_i = x_i @ rot_z(theta_z).T\n",
    "    sin_coef = -(tilde_x_i[:,0]*tilde_y_i[:,0] + tilde_x_i[:,2]*tilde_y_i[:,2]).sum()\n",
    "    cos_coef = (-tilde_x_i[:,2]*tilde_y_i[:,0] + tilde_x_i[:,0]*tilde_y_i[:,2]).sum()\n",
    "    return estimate_theta(sin_coef=sin_coef, cos_coef=cos_coef)\n",
    "\n",
    "def estimate_theta_z(x_i: np.ndarray, y_i: np.ndarray, theta_x: float, theta_y: float, trans_vec: np.ndarray) -> float:\n",
    "    tilde_y_i = (y_i - trans_vec) @ rot_x(theta_x) @ rot_y(theta_y)\n",
    "    tilde_x_i = x_i\n",
    "    sin_coef = -(tilde_x_i[:,0]*tilde_y_i[:,0] + tilde_x_i[:,1]*tilde_y_i[:,1]).sum()\n",
    "    cos_coef = (-tilde_x_i[:,1]*tilde_y_i[:,0] + tilde_x_i[:,0]*tilde_y_i[:,1]).sum()    \n",
    "    return estimate_theta(sin_coef=sin_coef, cos_coef=cos_coef)\n",
    "\n",
    "def estimate_trans_vec(x_i: np.ndarray, y_i: np.ndarray, theta_x: float, theta_y: float, theta_z: float) -> np.ndarray:\n",
    "    est_rot = rot_x(theta_x) @ rot_y(theta_y) @ rot_z(theta_z)\n",
    "    return (y_i - x_i @ est_rot.T).mean(axis=0)"
   ]
  },
  {
   "cell_type": "code",
   "execution_count": 88,
   "id": "9c577568-7ae2-4009-8c07-95d4403767a5",
   "metadata": {},
   "outputs": [],
   "source": [
    "train_loglik = []\n",
    "test_loglik = []\n",
    "np.random.seed(ln_seed)\n",
    "\n",
    "# initialize\n",
    "est_theta_x = np.random.uniform(low=0, high=2*np.pi)\n",
    "est_theta_y = np.random.uniform(low=0, high=2*np.pi)\n",
    "est_theta_z = np.random.uniform(low=0, high=2*np.pi)\n",
    "est_trans_vec = np.random.normal(size=3)\n",
    "\n",
    "for _ in range(n_ite):\n",
    "    # estimate theta_z\n",
    "    est_theta_z = estimate_theta_z(x_i=p_i, y_i=q_i, theta_x=est_theta_x, theta_y=est_theta_y, trans_vec=est_trans_vec)\n",
    "    # est_theta_z = estimate_theta_z(x_i=p_i, y_i=q_i, theta_x=est_theta_x, theta_y=est_theta_y, trans_vec=est_trans_vec)\n",
    "    \n",
    "    # estimate theta_y\n",
    "    est_theta_y = estimate_theta_y(x_i=p_i, y_i=q_i, theta_x=est_theta_x, theta_z=est_theta_z, trans_vec=est_trans_vec)\n",
    "    # est_theta_y = estimate_theta_y(x_i=p_i, y_i=q_i, theta_x=est_theta_x, theta_z=est_theta_z, trans_vec=est_trans_vec)\n",
    "    \n",
    "    # estimate theta_x\n",
    "    est_theta_x = estimate_theta_x(x_i=p_i, y_i=q_i, theta_y=est_theta_y, theta_z=est_theta_z, trans_vec=est_trans_vec)\n",
    "    # est_theta_x = estimate_theta_x(x_i=p_i, y_i=q_i, theta_y=est_theta_y, theta_z=est_theta_z, trans_vec=est_trans_vec)\n",
    "\n",
    "    # estimate translation vector\n",
    "    est_trans_vec = estimate_trans_vec(x_i=p_i, y_i=q_i, theta_x=est_theta_x, theta_y=est_theta_y, theta_z=est_theta_z)\n",
    "    # est_trans_vec = estimate_trans_vec(x_i=p_i, y_i=q_i, theta_x=est_theta_x, theta_y=est_theta_y, theta_z=est_theta_z)\n",
    "    \n",
    "    est_rot = rot_x(est_theta_x) @ rot_y(est_theta_y) @ rot_z(est_theta_z)\n",
    "    train_loglik.append(-((q_i - (p_i @ est_rot.T + est_trans_vec))**2).sum(axis=1).sum()/2)\n",
    "    test_loglik.append(-((test_q_i - (test_p_i @ est_rot.T + est_trans_vec))**2).sum(axis=1).sum()/2)\n",
    "    # test_res = test_q_i - (test_p_i @ est_rot.T + est_trans_vec)\n",
    "    # test_loglik.append(-((test_res * np.linalg.solve(cov, test_res.T).T)**2).sum(axis=1).sum()/2)\n",
    "    "
   ]
  },
  {
   "cell_type": "code",
   "execution_count": 89,
   "id": "ca1bfa34-86ef-461e-895c-db22740af088",
   "metadata": {},
   "outputs": [
    {
     "data": {
      "text/plain": [
       "array([[-0.50048746,  1.16108848, -1.33158083],\n",
       "       [-0.08867117,  0.33696559, -0.57193993],\n",
       "       [-0.46161828,  1.13011273, -1.21780028],\n",
       "       ...,\n",
       "       [-0.053953  ,  0.2047059 , -0.25716161],\n",
       "       [-0.21510446,  0.85970422, -1.1046678 ],\n",
       "       [-0.23027783,  0.47492961, -0.68186508]])"
      ]
     },
     "execution_count": 89,
     "metadata": {},
     "output_type": "execute_result"
    }
   ],
   "source": [
    "np.linalg.solve(cov, (test_p_i @ est_rot.T + est_trans_vec).T).T"
   ]
  },
  {
   "cell_type": "code",
   "execution_count": 90,
   "id": "8c9e6ea2-ccb6-4f37-9ecf-792e2226eb48",
   "metadata": {},
   "outputs": [
    {
     "data": {
      "text/plain": [
       "([-19581.73701101075,\n",
       "  -19578.568180585404,\n",
       "  -19578.554032835025,\n",
       "  -19578.55402917855,\n",
       "  -19578.55402917762,\n",
       "  -19578.55402917762,\n",
       "  -19578.55402917762,\n",
       "  -19578.55402917762,\n",
       "  -19578.55402917762,\n",
       "  -19578.55402917762],\n",
       " [-196223.0868967063,\n",
       "  -196196.53465251153,\n",
       "  -196198.5418353558,\n",
       "  -196198.59090393357,\n",
       "  -196198.59179635008,\n",
       "  -196198.591809031,\n",
       "  -196198.59180916747,\n",
       "  -196198.59180916817,\n",
       "  -196198.59180916817,\n",
       "  -196198.59180916817])"
      ]
     },
     "execution_count": 90,
     "metadata": {},
     "output_type": "execute_result"
    }
   ],
   "source": [
    "train_loglik[:10], test_loglik[:10]"
   ]
  },
  {
   "cell_type": "code",
   "execution_count": 91,
   "id": "24168aff-e85c-49ba-9e73-892c0f54098c",
   "metadata": {},
   "outputs": [
    {
     "data": {
      "text/plain": [
       "((3.8500985902986082, 2.9812548743263596, 5.237219391899544),\n",
       " (0.7390459478398709, 0.09773281292055837, 2.1352211603377387))"
      ]
     },
     "execution_count": 91,
     "metadata": {},
     "output_type": "execute_result"
    }
   ],
   "source": [
    "(est_theta_x, est_theta_y, est_theta_z), (true_theta_x, true_theta_y, true_theta_z)"
   ]
  },
  {
   "cell_type": "code",
   "execution_count": 92,
   "id": "c5e65838-9741-4312-8f24-ad96946d7ac0",
   "metadata": {},
   "outputs": [
    {
     "data": {
      "text/plain": [
       "array([[ 0.99766375, -0.03671538, -0.05761101],\n",
       "       [ 0.03450808,  0.99864894, -0.03885222],\n",
       "       [ 0.05895965,  0.0367734 ,  0.99758282]])"
      ]
     },
     "execution_count": 92,
     "metadata": {},
     "output_type": "execute_result"
    }
   ],
   "source": [
    "est_rot.T @ true_rot"
   ]
  },
  {
   "cell_type": "code",
   "execution_count": 93,
   "id": "94c2b5eb-5f03-48bf-be5d-0b0e82104cfe",
   "metadata": {},
   "outputs": [
    {
     "data": {
      "text/plain": [
       "(array([[-0.49463928, -0.85430869, -0.15965166],\n",
       "        [ 0.70918865, -0.2905738 , -0.64235374],\n",
       "        [ 0.50237779, -0.43095654,  0.74959523]]),\n",
       " array([[-0.53237724, -0.84086453, -0.0975773 ],\n",
       "        [ 0.65963171, -0.33984088, -0.67036869],\n",
       "        [ 0.5305285 , -0.42125411,  0.73558445]]))"
      ]
     },
     "execution_count": 93,
     "metadata": {},
     "output_type": "execute_result"
    }
   ],
   "source": [
    "est_rot, true_rot"
   ]
  },
  {
   "cell_type": "code",
   "execution_count": 94,
   "id": "d75017f5-3f1e-4693-9742-18b9dc69ba21",
   "metadata": {},
   "outputs": [
    {
     "data": {
      "text/plain": [
       "0.31328851146130243"
      ]
     },
     "execution_count": 94,
     "metadata": {},
     "output_type": "execute_result"
    }
   ],
   "source": [
    "np.sqrt(((est_trans_vec - true_trans_vec)**2).sum())"
   ]
  },
  {
   "cell_type": "code",
   "execution_count": null,
   "id": "09dea2db-0a9d-4573-8a7e-b0fbc7c821f4",
   "metadata": {},
   "outputs": [],
   "source": []
  },
  {
   "cell_type": "code",
   "execution_count": 95,
   "id": "7362ebae-9a14-4023-9431-48ee0d8fcb02",
   "metadata": {},
   "outputs": [],
   "source": [
    "train_loglik = []\n",
    "test_loglik = []\n",
    "np.random.seed(ln_seed)\n",
    "\n",
    "# initialize\n",
    "est_theta_x = np.random.uniform(low=0, high=2*np.pi)\n",
    "est_theta_y = np.random.uniform(low=0, high=2*np.pi)\n",
    "est_theta_z = np.random.uniform(low=0, high=2*np.pi)\n",
    "est_trans_vec = np.random.normal(size=3)\n",
    "\n",
    "for _ in range(n_ite):\n",
    "    # estimate theta_z\n",
    "    est_theta_z = estimate_theta_z(x_i=p_i_dash, y_i=q_i, theta_x=est_theta_x, theta_y=est_theta_y, trans_vec=est_trans_vec)\n",
    "    # est_theta_z = estimate_theta_z(x_i=p_i, y_i=q_i, theta_x=est_theta_x, theta_y=est_theta_y, trans_vec=est_trans_vec)\n",
    "    \n",
    "    # estimate theta_y\n",
    "    est_theta_y = estimate_theta_y(x_i=p_i_dash, y_i=q_i, theta_x=est_theta_x, theta_z=est_theta_z, trans_vec=est_trans_vec)\n",
    "    # est_theta_y = estimate_theta_y(x_i=p_i, y_i=q_i, theta_x=est_theta_x, theta_z=est_theta_z, trans_vec=est_trans_vec)\n",
    "    \n",
    "    # estimate theta_x\n",
    "    est_theta_x = estimate_theta_x(x_i=p_i_dash, y_i=q_i, theta_y=est_theta_y, theta_z=est_theta_z, trans_vec=est_trans_vec)\n",
    "    # est_theta_x = estimate_theta_x(x_i=p_i, y_i=q_i, theta_y=est_theta_y, theta_z=est_theta_z, trans_vec=est_trans_vec)\n",
    "\n",
    "    # estimate translation vector\n",
    "    est_trans_vec = estimate_trans_vec(x_i=p_i_dash, y_i=q_i, theta_x=est_theta_x, theta_y=est_theta_y, theta_z=est_theta_z)\n",
    "    # est_trans_vec = estimate_trans_vec(x_i=p_i, y_i=q_i, theta_x=est_theta_x, theta_y=est_theta_y, theta_z=est_theta_z)\n",
    "    \n",
    "    est_rot = rot_x(est_theta_x) @ rot_y(est_theta_y) @ rot_z(est_theta_z)\n",
    "    train_loglik.append(-((q_i - (p_i_dash @ est_rot.T + est_trans_vec))**2).sum(axis=1).sum()/2)\n",
    "    test_loglik.append(-((test_q_i - (test_p_i_dash @ est_rot.T + est_trans_vec))**2).sum(axis=1).sum()/2)\n",
    "    # test_res = test_q_i - (test_p_i @ est_rot.T + est_trans_vec)\n",
    "    # test_loglik.append(-((test_res * np.linalg.solve(cov, test_res.T).T)**2).sum(axis=1).sum()/2)\n"
   ]
  },
  {
   "cell_type": "code",
   "execution_count": 96,
   "id": "1e4c7063-7e8d-400b-b32b-448cb42a7c98",
   "metadata": {},
   "outputs": [
    {
     "data": {
      "text/plain": [
       "([-20424.61476106367,\n",
       "  -20415.44512767668,\n",
       "  -20414.685449419492,\n",
       "  -20414.6130036549,\n",
       "  -20414.6064210166,\n",
       "  -20414.605834878617,\n",
       "  -20414.605782961513,\n",
       "  -20414.605778370926,\n",
       "  -20414.605777965215,\n",
       "  -20414.605777929366],\n",
       " [-202606.22838279532,\n",
       "  -202507.92015856295,\n",
       "  -202492.9422163909,\n",
       "  -202489.6761891549,\n",
       "  -202488.81555450693,\n",
       "  -202488.57011761784,\n",
       "  -202488.49807278498,\n",
       "  -202488.47673887448,\n",
       "  -202488.47040447558,\n",
       "  -202488.46852219073])"
      ]
     },
     "execution_count": 96,
     "metadata": {},
     "output_type": "execute_result"
    }
   ],
   "source": [
    "train_loglik[:10], test_loglik[:10]"
   ]
  },
  {
   "cell_type": "code",
   "execution_count": 97,
   "id": "b32fe12a-a7b9-40f4-8481-154e83c98717",
   "metadata": {},
   "outputs": [
    {
     "data": {
      "text/plain": [
       "((3.7952088443357317, 3.019237399458046, 5.221838580371456),\n",
       " (0.7390459478398709, 0.09773281292055837, 2.1352211603377387))"
      ]
     },
     "execution_count": 97,
     "metadata": {},
     "output_type": "execute_result"
    }
   ],
   "source": [
    "(est_theta_x, est_theta_y, est_theta_z), (true_theta_x, true_theta_y, true_theta_z)"
   ]
  },
  {
   "cell_type": "code",
   "execution_count": 98,
   "id": "14dd8c88-772a-426a-b184-4666aacf71aa",
   "metadata": {},
   "outputs": [
    {
     "data": {
      "text/plain": [
       "array([[ 0.99530591, -0.04452918, -0.08592617],\n",
       "       [ 0.04643489,  0.99871487,  0.02030777],\n",
       "       [ 0.08491145, -0.02420241,  0.99609452]])"
      ]
     },
     "execution_count": 98,
     "metadata": {},
     "output_type": "execute_result"
    }
   ],
   "source": [
    "est_rot.T @ true_rot"
   ]
  },
  {
   "cell_type": "code",
   "execution_count": 99,
   "id": "cc20525a-f420-4126-9fef-db02d5168f19",
   "metadata": {},
   "outputs": [
    {
     "data": {
      "text/plain": [
       "(array([[-0.48405076, -0.86648636, -0.12205019],\n",
       "        [ 0.72927038, -0.3223879 , -0.60351532],\n",
       "        [ 0.48359029, -0.38113964,  0.78795495]]),\n",
       " array([[-0.53237724, -0.84086453, -0.0975773 ],\n",
       "        [ 0.65963171, -0.33984088, -0.67036869],\n",
       "        [ 0.5305285 , -0.42125411,  0.73558445]]))"
      ]
     },
     "execution_count": 99,
     "metadata": {},
     "output_type": "execute_result"
    }
   ],
   "source": [
    "est_rot, true_rot"
   ]
  },
  {
   "cell_type": "code",
   "execution_count": 100,
   "id": "eba1352f-f839-4b7f-b613-664e2ae86a63",
   "metadata": {},
   "outputs": [
    {
     "data": {
      "text/plain": [
       "(array([-0.01174337, -0.69702611, -1.15265375]),\n",
       " array([ 0.325998  , -0.73163138, -1.26774885]))"
      ]
     },
     "execution_count": 100,
     "metadata": {},
     "output_type": "execute_result"
    }
   ],
   "source": [
    "est_trans_vec, true_trans_vec"
   ]
  },
  {
   "cell_type": "code",
   "execution_count": 101,
   "id": "8e00dd26-1dc0-4baa-976c-27a6ac79ea84",
   "metadata": {},
   "outputs": [
    {
     "data": {
      "text/plain": [
       "0.35848799099798717"
      ]
     },
     "execution_count": 101,
     "metadata": {},
     "output_type": "execute_result"
    }
   ],
   "source": [
    "np.sqrt(((est_trans_vec - true_trans_vec)**2).sum())"
   ]
  },
  {
   "cell_type": "code",
   "execution_count": null,
   "id": "f0d73540-b987-41d1-87ad-1377c27b7ee8",
   "metadata": {},
   "outputs": [],
   "source": []
  },
  {
   "cell_type": "code",
   "execution_count": null,
   "id": "9da5fb46-023a-4cb1-a222-10086072e57c",
   "metadata": {},
   "outputs": [],
   "source": []
  },
  {
   "cell_type": "code",
   "execution_count": 102,
   "id": "33b05c88-d75b-4739-be31-21986e2ec7d6",
   "metadata": {},
   "outputs": [],
   "source": [
    "train_loglik = []\n",
    "test_loglik = []\n",
    "np.random.seed(ln_seed)\n",
    "\n",
    "# initialize\n",
    "est_theta_x = np.random.uniform(low=0, high=2*np.pi)\n",
    "est_theta_y = np.random.uniform(low=0, high=2*np.pi)\n",
    "est_theta_z = np.random.uniform(low=0, high=2*np.pi)\n",
    "est_trans_vec = np.random.normal(size=3)\n",
    "\n",
    "for _ in range(n_ite):\n",
    "    # estimate theta_z\n",
    "    est_theta_z = estimate_theta_z(x_i=p_i, y_i=q_i_dash, theta_x=est_theta_x, theta_y=est_theta_y, trans_vec=est_trans_vec)\n",
    "    # est_theta_z = estimate_theta_z(x_i=p_i, y_i=q_i, theta_x=est_theta_x, theta_y=est_theta_y, trans_vec=est_trans_vec)\n",
    "    \n",
    "    # estimate theta_y\n",
    "    est_theta_y = estimate_theta_y(x_i=p_i, y_i=q_i_dash, theta_x=est_theta_x, theta_z=est_theta_z, trans_vec=est_trans_vec)\n",
    "    # est_theta_y = estimate_theta_y(x_i=p_i, y_i=q_i, theta_x=est_theta_x, theta_z=est_theta_z, trans_vec=est_trans_vec)\n",
    "    \n",
    "    # estimate theta_x\n",
    "    est_theta_x = estimate_theta_x(x_i=p_i, y_i=q_i_dash, theta_y=est_theta_y, theta_z=est_theta_z, trans_vec=est_trans_vec)\n",
    "    # est_theta_x = estimate_theta_x(x_i=p_i, y_i=q_i, theta_y=est_theta_y, theta_z=est_theta_z, trans_vec=est_trans_vec)\n",
    "\n",
    "    # estimate translation vector\n",
    "    est_trans_vec = estimate_trans_vec(x_i=p_i, y_i=q_i_dash, theta_x=est_theta_x, theta_y=est_theta_y, theta_z=est_theta_z)\n",
    "    # est_trans_vec = estimate_trans_vec(x_i=p_i, y_i=q_i, theta_x=est_theta_x, theta_y=est_theta_y, theta_z=est_theta_z)\n",
    "    \n",
    "    est_rot = rot_x(est_theta_x) @ rot_y(est_theta_y) @ rot_z(est_theta_z)\n",
    "    train_loglik.append(-((q_i_dash - (p_i @ est_rot.T + est_trans_vec))**2).sum(axis=1).sum()/2)\n",
    "    test_loglik.append(-((test_q_i - (test_p_i_dash @ est_rot.T + est_trans_vec))**2).sum(axis=1).sum()/2)"
   ]
  },
  {
   "cell_type": "code",
   "execution_count": 103,
   "id": "799ab01a-2a6b-4589-8ad2-3c4aa22fb5f5",
   "metadata": {},
   "outputs": [
    {
     "data": {
      "text/plain": [
       "([-2018.8980945768308,\n",
       "  -2016.3039280663475,\n",
       "  -2016.2756457195442,\n",
       "  -2016.2749798069776,\n",
       "  -2016.2749644502485,\n",
       "  -2016.2749640958955,\n",
       "  -2016.274964087719,\n",
       "  -2016.2749640875302,\n",
       "  -2016.2749640875259,\n",
       "  -2016.2749640875256],\n",
       " [-208561.45201103424,\n",
       "  -208570.09869975803,\n",
       "  -208573.0499177628,\n",
       "  -208573.5532766191,\n",
       "  -208573.630838654,\n",
       "  -208573.64264674872,\n",
       "  -208573.6444410577,\n",
       "  -208573.64471363643,\n",
       "  -208573.64475504291,\n",
       "  -208573.64476133278])"
      ]
     },
     "execution_count": 103,
     "metadata": {},
     "output_type": "execute_result"
    }
   ],
   "source": [
    "train_loglik[:10], test_loglik[:10]"
   ]
  },
  {
   "cell_type": "code",
   "execution_count": 104,
   "id": "46f9f675-249d-4a7c-88b9-6c9abd7ba807",
   "metadata": {},
   "outputs": [
    {
     "data": {
      "text/plain": [
       "((3.8440454081121747, 2.990630600996062, 5.229159760434147),\n",
       " (0.7390459478398709, 0.09773281292055837, 2.1352211603377387))"
      ]
     },
     "execution_count": 104,
     "metadata": {},
     "output_type": "execute_result"
    }
   ],
   "source": [
    "(est_theta_x, est_theta_y, est_theta_z), (true_theta_x, true_theta_y, true_theta_z)"
   ]
  },
  {
   "cell_type": "code",
   "execution_count": 105,
   "id": "441203af-ea68-4d15-8b53-8d855909012b",
   "metadata": {},
   "outputs": [
    {
     "data": {
      "text/plain": [
       "array([[ 0.99735957, -0.04384354, -0.05789326],\n",
       "       [ 0.0422671 ,  0.99870885, -0.02818006],\n",
       "       [ 0.05905402,  0.02565867,  0.99792497]])"
      ]
     },
     "execution_count": 105,
     "metadata": {},
     "output_type": "execute_result"
    }
   ],
   "source": [
    "est_rot.T @ true_rot"
   ]
  },
  {
   "cell_type": "code",
   "execution_count": 106,
   "id": "bbc00132-7fa8-4848-970e-0b5d1379cb55",
   "metadata": {},
   "outputs": [
    {
     "data": {
      "text/plain": [
       "(array([[-0.48845598, -0.85953116, -0.15038931],\n",
       "        [ 0.71159966, -0.29263034, -0.63874362],\n",
       "        [ 0.50501157, -0.41901513,  0.75457911]]),\n",
       " array([[-0.53237724, -0.84086453, -0.0975773 ],\n",
       "        [ 0.65963171, -0.33984088, -0.67036869],\n",
       "        [ 0.5305285 , -0.42125411,  0.73558445]]))"
      ]
     },
     "execution_count": 106,
     "metadata": {},
     "output_type": "execute_result"
    }
   ],
   "source": [
    "est_rot, true_rot"
   ]
  },
  {
   "cell_type": "code",
   "execution_count": 107,
   "id": "ebb2eb0c-a683-440c-b56d-f0c7318b4dcd",
   "metadata": {},
   "outputs": [
    {
     "data": {
      "text/plain": [
       "(array([ 0.0061391 ,  0.04209442, -0.48001622]),\n",
       " array([ 0.325998  , -0.73163138, -1.26774885]))"
      ]
     },
     "execution_count": 107,
     "metadata": {},
     "output_type": "execute_result"
    }
   ],
   "source": [
    "est_trans_vec, true_trans_vec"
   ]
  },
  {
   "cell_type": "code",
   "execution_count": 79,
   "id": "87f49e88-91a1-4e3c-a428-c2197abf8ca5",
   "metadata": {},
   "outputs": [
    {
     "data": {
      "text/plain": [
       "1.4001985615514452"
      ]
     },
     "execution_count": 79,
     "metadata": {},
     "output_type": "execute_result"
    }
   ],
   "source": [
    "np.sqrt(((est_trans_vec - true_trans_vec)**2).sum())"
   ]
  },
  {
   "cell_type": "code",
   "execution_count": null,
   "id": "e259d149-4746-4ab2-b067-08ef6dc14171",
   "metadata": {},
   "outputs": [],
   "source": []
  },
  {
   "cell_type": "code",
   "execution_count": null,
   "id": "59b8b24f-f76f-4da7-bcca-afe7a7faa2ea",
   "metadata": {},
   "outputs": [],
   "source": []
  },
  {
   "cell_type": "code",
   "execution_count": null,
   "id": "237eda31-18e6-4ce3-adef-696ca3b8eea0",
   "metadata": {},
   "outputs": [],
   "source": []
  },
  {
   "cell_type": "code",
   "execution_count": 29,
   "id": "e904a265-7ecd-4338-8645-9b82e0d66864",
   "metadata": {},
   "outputs": [
    {
     "data": {
      "text/plain": [
       "[-6326.812401881012,\n",
       " -6308.634723421868,\n",
       " -6308.40471523716,\n",
       " -6308.403234952914,\n",
       " -6308.403224972835,\n",
       " -6308.403224905259,\n",
       " -6308.403224904801,\n",
       " -6308.403224904798,\n",
       " -6308.403224904798,\n",
       " -6308.403224904798,\n",
       " -6308.403224904798,\n",
       " -6308.403224904798,\n",
       " -6308.403224904798,\n",
       " -6308.403224904798,\n",
       " -6308.403224904798,\n",
       " -6308.403224904798,\n",
       " -6308.403224904798,\n",
       " -6308.403224904798,\n",
       " -6308.403224904798,\n",
       " -6308.403224904798,\n",
       " -6308.403224904798,\n",
       " -6308.403224904798,\n",
       " -6308.403224904798,\n",
       " -6308.403224904798,\n",
       " -6308.403224904798,\n",
       " -6308.403224904798,\n",
       " -6308.403224904798,\n",
       " -6308.403224904798,\n",
       " -6308.403224904798,\n",
       " -6308.403224904798,\n",
       " -6308.403224904798,\n",
       " -6308.403224904798,\n",
       " -6308.403224904798,\n",
       " -6308.403224904798,\n",
       " -6308.403224904798,\n",
       " -6308.403224904798,\n",
       " -6308.403224904798,\n",
       " -6308.403224904798,\n",
       " -6308.403224904798,\n",
       " -6308.403224904798,\n",
       " -6308.403224904798,\n",
       " -6308.403224904798,\n",
       " -6308.403224904798,\n",
       " -6308.403224904798,\n",
       " -6308.403224904798,\n",
       " -6308.403224904798,\n",
       " -6308.403224904798,\n",
       " -6308.403224904798,\n",
       " -6308.403224904798,\n",
       " -6308.403224904798,\n",
       " -6308.403224904798,\n",
       " -6308.403224904798,\n",
       " -6308.403224904798,\n",
       " -6308.403224904798,\n",
       " -6308.403224904798,\n",
       " -6308.403224904798,\n",
       " -6308.403224904798,\n",
       " -6308.403224904798,\n",
       " -6308.403224904798,\n",
       " -6308.403224904798,\n",
       " -6308.403224904798,\n",
       " -6308.403224904798,\n",
       " -6308.403224904798,\n",
       " -6308.403224904798,\n",
       " -6308.403224904798,\n",
       " -6308.403224904798,\n",
       " -6308.403224904798,\n",
       " -6308.403224904798,\n",
       " -6308.403224904798,\n",
       " -6308.403224904798,\n",
       " -6308.403224904798,\n",
       " -6308.403224904798,\n",
       " -6308.403224904798,\n",
       " -6308.403224904798,\n",
       " -6308.403224904798,\n",
       " -6308.403224904798,\n",
       " -6308.403224904798,\n",
       " -6308.403224904798,\n",
       " -6308.403224904798,\n",
       " -6308.403224904798,\n",
       " -6308.403224904798,\n",
       " -6308.403224904798,\n",
       " -6308.403224904798,\n",
       " -6308.403224904798,\n",
       " -6308.403224904798,\n",
       " -6308.403224904798,\n",
       " -6308.403224904798,\n",
       " -6308.403224904798,\n",
       " -6308.403224904798,\n",
       " -6308.403224904798,\n",
       " -6308.403224904798,\n",
       " -6308.403224904798,\n",
       " -6308.403224904798,\n",
       " -6308.403224904798,\n",
       " -6308.403224904798,\n",
       " -6308.403224904798,\n",
       " -6308.403224904798,\n",
       " -6308.403224904798,\n",
       " -6308.403224904798,\n",
       " -6308.403224904798]"
      ]
     },
     "execution_count": 29,
     "metadata": {},
     "output_type": "execute_result"
    }
   ],
   "source": [
    "loglik"
   ]
  },
  {
   "cell_type": "code",
   "execution_count": 31,
   "id": "5026d46a-63b6-49b2-b56c-49b5d7d44e54",
   "metadata": {},
   "outputs": [
    {
     "data": {
      "text/plain": [
       "array([[ 0.96195309,  0.21698008,  0.16602983],\n",
       "       [-0.15632946,  0.93550722, -0.31683961],\n",
       "       [-0.22406999,  0.27882949,  0.93383444]])"
      ]
     },
     "execution_count": 31,
     "metadata": {},
     "output_type": "execute_result"
    }
   ],
   "source": [
    "est_rot"
   ]
  },
  {
   "cell_type": "code",
   "execution_count": 32,
   "id": "5af05f41-31af-4f03-8275-270679d323bf",
   "metadata": {},
   "outputs": [
    {
     "data": {
      "text/plain": [
       "array([[ 0.97001203,  0.19408688,  0.1463111 ],\n",
       "       [-0.12798579,  0.91961591, -0.37138418],\n",
       "       [-0.20663082,  0.34152138,  0.91687886]])"
      ]
     },
     "execution_count": 32,
     "metadata": {},
     "output_type": "execute_result"
    }
   ],
   "source": [
    "true_rot"
   ]
  },
  {
   "cell_type": "code",
   "execution_count": null,
   "id": "a2d51377-321f-4bc9-80b7-a10ed21fb12b",
   "metadata": {},
   "outputs": [],
   "source": []
  },
  {
   "cell_type": "code",
   "execution_count": null,
   "id": "03f3e5d2-1534-48a2-9366-b077522945fe",
   "metadata": {},
   "outputs": [],
   "source": []
  },
  {
   "cell_type": "markdown",
   "id": "bb8352e3-70ca-4c38-a942-02fff8b2924c",
   "metadata": {},
   "source": [
    "### estimated rot mat\n",
    "+ optimized function is\n",
    "$$\n",
    "L(\\theta_x) = \\sum_i <R_x(\\theta_x)p_i, q_i - t>,\n",
    "$$\n",
    "where redundant terms to optimize $\\theta_x$ are omitted.\n",
    "By calculating max value of $L(\\theta_x)$, estimated $\\theta_x$ is obtained."
   ]
  },
  {
   "cell_type": "code",
   "execution_count": 36,
   "id": "07329856-78f0-4cec-963e-057747b5fbdd",
   "metadata": {},
   "outputs": [],
   "source": [
    "tilde_q_i = q_i - est_trans_vec\n",
    "# tilde_q_i = q_i - true_trans_vec\n",
    "alpha_x = (-p_i[:,2]*tilde_q_i[:,1] + p_i[:,1]*tilde_q_i[:,2]).sum()\n",
    "beta_x = -(p_i[:,1]*tilde_q_i[:,1] + p_i[:,2]*tilde_q_i[:,2]).sum()"
   ]
  },
  {
   "cell_type": "code",
   "execution_count": 37,
   "id": "2b48070f-0177-44bc-b0b6-3b29d85c787e",
   "metadata": {},
   "outputs": [],
   "source": [
    "if beta_x >= 0:\n",
    "    gamma_x = np.arcsin(alpha_x/np.sqrt(alpha_x**2 + beta_x**2))\n",
    "else:\n",
    "    gamma_x = np.pi - np.arcsin(alpha_x/np.sqrt(alpha_x**2 + beta_x**2))"
   ]
  },
  {
   "cell_type": "code",
   "execution_count": 38,
   "id": "be971352-6af1-4253-b6da-2dd29071117c",
   "metadata": {},
   "outputs": [],
   "source": [
    "candidate_est_theta_x = np.arange(4) * np.pi - gamma_x\n",
    "candidate_est_theta_x = candidate_est_theta_x[(0<=candidate_est_theta_x) & (candidate_est_theta_x <= 2*np.pi)]\n",
    "est_theta_x = min(candidate_est_theta_x[np.cos(candidate_est_theta_x + gamma_x) < 0])\n",
    "# candidate_est_theta_x[np.argmax(alpha_x*np.sin(candidate_est_theta_x) + beta_x*np.cos(candidate_est_theta_x))]"
   ]
  },
  {
   "cell_type": "code",
   "execution_count": null,
   "id": "4dbd0b3e-eb57-458f-bf37-78d68f3ebce2",
   "metadata": {},
   "outputs": [],
   "source": []
  },
  {
   "cell_type": "code",
   "execution_count": null,
   "id": "d546ceb5-8e94-426d-8fd6-1500cc04fbdb",
   "metadata": {},
   "outputs": [],
   "source": []
  },
  {
   "cell_type": "code",
   "execution_count": null,
   "id": "77be38c0-843b-4af5-99f8-f51115df5151",
   "metadata": {},
   "outputs": [],
   "source": []
  },
  {
   "cell_type": "code",
   "execution_count": null,
   "id": "0effc53a-3150-4866-abbc-7b7d79d27d10",
   "metadata": {},
   "outputs": [],
   "source": []
  },
  {
   "cell_type": "code",
   "execution_count": 39,
   "id": "c6759b1d-080d-4fa0-8ebe-b71c4131601e",
   "metadata": {},
   "outputs": [
    {
     "data": {
      "text/plain": [
       "-163.38790035034546"
      ]
     },
     "execution_count": 39,
     "metadata": {},
     "output_type": "execute_result"
    }
   ],
   "source": [
    "est_rot = rot_x(est_theta_x)\n",
    "-((q_i - (p_i @ est_rot.T + est_trans_vec))**2).sum(axis=1).sum()/2"
   ]
  },
  {
   "cell_type": "code",
   "execution_count": 40,
   "id": "bdfd2ff8-33c8-4524-948c-cc6c39ea7d05",
   "metadata": {},
   "outputs": [
    {
     "data": {
      "text/plain": [
       "4.247931759760334"
      ]
     },
     "execution_count": 40,
     "metadata": {},
     "output_type": "execute_result"
    }
   ],
   "source": [
    "true_theta_x"
   ]
  },
  {
   "cell_type": "code",
   "execution_count": 41,
   "id": "65007bff-127f-4bff-8149-7de299c7d9f0",
   "metadata": {},
   "outputs": [
    {
     "data": {
      "text/plain": [
       "4.262658203214274"
      ]
     },
     "execution_count": 41,
     "metadata": {},
     "output_type": "execute_result"
    }
   ],
   "source": [
    "est_theta_x"
   ]
  },
  {
   "cell_type": "code",
   "execution_count": 42,
   "id": "ea342b66-9c26-47ec-80ad-5cbd3343f118",
   "metadata": {},
   "outputs": [
    {
     "data": {
      "text/plain": [
       "4.262658203214274"
      ]
     },
     "execution_count": 42,
     "metadata": {},
     "output_type": "execute_result"
    }
   ],
   "source": [
    "est_theta_x"
   ]
  },
  {
   "cell_type": "code",
   "execution_count": 43,
   "id": "64572a13-3cd6-467b-be65-1cf983278b6a",
   "metadata": {},
   "outputs": [
    {
     "data": {
      "text/plain": [
       "[array([False,  True])]"
      ]
     },
     "execution_count": 43,
     "metadata": {},
     "output_type": "execute_result"
    }
   ],
   "source": [
    "[np.cos(candidate_est_theta_x + gamma_x) < 0]"
   ]
  },
  {
   "cell_type": "code",
   "execution_count": 44,
   "id": "90ef3055-8651-4785-b8d2-317673406be1",
   "metadata": {},
   "outputs": [
    {
     "data": {
      "text/plain": [
       "(array([-1.51060822,  1.47331913,  1.14509845]),\n",
       " 244.2323245509967,\n",
       " 243.3885614938479)"
      ]
     },
     "execution_count": 44,
     "metadata": {},
     "output_type": "execute_result"
    }
   ],
   "source": [
    "est_trans_vec, np.rad2deg(est_theta_x), np.rad2deg(true_theta_x)"
   ]
  },
  {
   "cell_type": "code",
   "execution_count": 45,
   "id": "6e2ef072-7aec-4be8-b957-af19df411ac7",
   "metadata": {},
   "outputs": [
    {
     "data": {
      "text/plain": [
       "array([[ 1.        ,  0.        ,  0.        ],\n",
       "       [ 0.        , -0.44793759,  0.89406483],\n",
       "       [ 0.        , -0.89406483, -0.44793759]])"
      ]
     },
     "execution_count": 45,
     "metadata": {},
     "output_type": "execute_result"
    }
   ],
   "source": [
    "rot_x(true_theta_x)"
   ]
  },
  {
   "cell_type": "code",
   "execution_count": 46,
   "id": "32dfcdc5-bd30-4bc4-b28d-7c08b77ed05e",
   "metadata": {},
   "outputs": [
    {
     "data": {
      "text/plain": [
       "array([[ 1.        ,  0.        ,  0.        ],\n",
       "       [ 0.        , -0.4347231 ,  0.90056417],\n",
       "       [ 0.        , -0.90056417, -0.4347231 ]])"
      ]
     },
     "execution_count": 46,
     "metadata": {},
     "output_type": "execute_result"
    }
   ],
   "source": [
    "rot_x(est_theta_x)"
   ]
  },
  {
   "cell_type": "code",
   "execution_count": 47,
   "id": "d0a71636-dfe7-466f-a06b-275ba1c37405",
   "metadata": {},
   "outputs": [
    {
     "data": {
      "text/plain": [
       "4.262658203214274"
      ]
     },
     "execution_count": 47,
     "metadata": {},
     "output_type": "execute_result"
    }
   ],
   "source": [
    "est_theta_x"
   ]
  },
  {
   "cell_type": "code",
   "execution_count": 48,
   "id": "5f6b4d13-27bc-44c1-a55c-5825d7ece93a",
   "metadata": {},
   "outputs": [
    {
     "data": {
      "text/plain": [
       "244.2323245509967"
      ]
     },
     "execution_count": 48,
     "metadata": {},
     "output_type": "execute_result"
    }
   ],
   "source": [
    "np.rad2deg(est_theta_x)"
   ]
  },
  {
   "cell_type": "code",
   "execution_count": 49,
   "id": "682a29c7-9ff5-4460-8a19-e74a789ffa8d",
   "metadata": {},
   "outputs": [
    {
     "data": {
      "text/plain": [
       "243.3885614938479"
      ]
     },
     "execution_count": 49,
     "metadata": {},
     "output_type": "execute_result"
    }
   ],
   "source": [
    "np.rad2deg(true_theta_x)"
   ]
  },
  {
   "cell_type": "code",
   "execution_count": null,
   "id": "4d619dd1-f0b3-4d87-89e5-9f402d09f5b0",
   "metadata": {},
   "outputs": [],
   "source": []
  },
  {
   "cell_type": "code",
   "execution_count": null,
   "id": "7ade4744-b712-442a-8d9d-841ede274db5",
   "metadata": {},
   "outputs": [],
   "source": []
  },
  {
   "cell_type": "code",
   "execution_count": 50,
   "id": "06dd1fe8-35f5-44b0-bde1-6567236934bf",
   "metadata": {},
   "outputs": [
    {
     "data": {
      "text/plain": [
       "4.262658203214274"
      ]
     },
     "execution_count": 50,
     "metadata": {},
     "output_type": "execute_result"
    }
   ],
   "source": [
    "est_theta_x"
   ]
  },
  {
   "cell_type": "code",
   "execution_count": 51,
   "id": "1937fe99-1f61-442c-8d45-c500ca6bf335",
   "metadata": {},
   "outputs": [
    {
     "data": {
      "text/plain": [
       "array([-1.51060822,  1.47331913,  1.14509845])"
      ]
     },
     "execution_count": 51,
     "metadata": {},
     "output_type": "execute_result"
    }
   ],
   "source": [
    "est_trans_vec"
   ]
  },
  {
   "cell_type": "code",
   "execution_count": 52,
   "id": "652ec52c-58f0-471f-946a-5267485d289c",
   "metadata": {},
   "outputs": [
    {
     "data": {
      "text/plain": [
       "array([-1.33375912,  1.30214425,  1.31281983])"
      ]
     },
     "execution_count": 52,
     "metadata": {},
     "output_type": "execute_result"
    }
   ],
   "source": [
    "true_trans_vec"
   ]
  },
  {
   "cell_type": "code",
   "execution_count": 53,
   "id": "2ef8e5ab-5999-43ab-bc29-0793495e1819",
   "metadata": {},
   "outputs": [
    {
     "data": {
      "text/plain": [
       "5.037827037954152e-14"
      ]
     },
     "execution_count": 53,
     "metadata": {},
     "output_type": "execute_result"
    }
   ],
   "source": [
    "np.sqrt(alpha_x**2 + beta_x**2) * np.sin(est_theta_x + gamma_x)"
   ]
  },
  {
   "cell_type": "code",
   "execution_count": 54,
   "id": "0272a599-8504-48d4-b60b-4168b66ce9b0",
   "metadata": {},
   "outputs": [
    {
     "data": {
      "text/plain": [
       "69.62406943783711"
      ]
     },
     "execution_count": 54,
     "metadata": {},
     "output_type": "execute_result"
    }
   ],
   "source": [
    "alpha_x * np.cos(est_theta_x) - beta_x * np.sin(est_theta_x)"
   ]
  },
  {
   "cell_type": "code",
   "execution_count": 55,
   "id": "970cedd5-905a-4306-8798-eda3c28bf7e2",
   "metadata": {},
   "outputs": [],
   "source": [
    "gamma_x = np.arccos(-beta_x / np.sqrt(alpha_x**2 + beta_x**2))\n",
    "candidate_est_theta_x = np.arange(3) * np.pi - gamma_x\n",
    "est_theta_x = min(candidate_est_theta_x[(0<=candidate_est_theta_x) & (candidate_est_theta_x <= 2*np.pi)].tolist())"
   ]
  },
  {
   "cell_type": "code",
   "execution_count": 56,
   "id": "2307eb68-5f98-4ee1-99c9-aca30376f454",
   "metadata": {},
   "outputs": [
    {
     "data": {
      "text/plain": [
       "243.3885614938479"
      ]
     },
     "execution_count": 56,
     "metadata": {},
     "output_type": "execute_result"
    }
   ],
   "source": [
    "np.rad2deg(true_theta_x)"
   ]
  },
  {
   "cell_type": "code",
   "execution_count": 57,
   "id": "2f37b9e4-32d5-415a-8e95-e582cc89ff02",
   "metadata": {},
   "outputs": [
    {
     "data": {
      "text/plain": [
       "64.23232455099672"
      ]
     },
     "execution_count": 57,
     "metadata": {},
     "output_type": "execute_result"
    }
   ],
   "source": [
    "np.rad2deg(est_theta_x)"
   ]
  },
  {
   "cell_type": "code",
   "execution_count": null,
   "id": "7cc60ed1-9051-49ca-8ed6-e5421e177993",
   "metadata": {},
   "outputs": [],
   "source": []
  },
  {
   "cell_type": "code",
   "execution_count": null,
   "id": "c7be6557-2b35-4a55-93e5-b295148a378e",
   "metadata": {},
   "outputs": [],
   "source": []
  },
  {
   "cell_type": "code",
   "execution_count": null,
   "id": "558656b7-80e5-4842-85c0-7471268a51ec",
   "metadata": {},
   "outputs": [],
   "source": []
  },
  {
   "cell_type": "code",
   "execution_count": null,
   "id": "815af3e4-e682-4d03-ad7d-e3796839e1b2",
   "metadata": {},
   "outputs": [],
   "source": []
  },
  {
   "cell_type": "code",
   "execution_count": null,
   "id": "fc47ec7e-ef0d-40b5-bfa5-276136e1bdba",
   "metadata": {},
   "outputs": [],
   "source": []
  },
  {
   "cell_type": "code",
   "execution_count": null,
   "id": "2db6d382-67e6-452c-b81a-444c26121cbf",
   "metadata": {},
   "outputs": [],
   "source": []
  }
 ],
 "metadata": {
  "kernelspec": {
   "display_name": "Python 3 (ipykernel)",
   "language": "python",
   "name": "python3"
  },
  "language_info": {
   "codemirror_mode": {
    "name": "ipython",
    "version": 3
   },
   "file_extension": ".py",
   "mimetype": "text/x-python",
   "name": "python",
   "nbconvert_exporter": "python",
   "pygments_lexer": "ipython3",
   "version": "3.12.4"
  }
 },
 "nbformat": 4,
 "nbformat_minor": 5
}

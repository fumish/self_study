{
 "cells": [
  {
   "cell_type": "markdown",
   "id": "c39e56d9-5ab5-4adb-be21-3dde4cfa7107",
   "metadata": {},
   "source": [
    "# Estimation for Rigid Transformation\n",
    "+ Formalization\n",
    "$$\n",
    "q_i = R_{xyz} p_i + t + \\epsilon, \\epsilon \\sim N(0,1),\n",
    "$$\n",
    "+ $t$ and $R_{xyz}$ is targets to estimate and $R_{xyz} = R_x(\\theta_x) R_y(\\theta_y) R_z(\\theta_z)$.\n",
    "+ Optimizing each parameters $t$, $R_x(\\theta_x)$, $R_y(\\theta_y)$, and $R_z(\\theta_z)$ are considered here.\n",
    "+ First, this notebook consider about $t$ and $R_x(\\theta_x)$"
   ]
  },
  {
   "cell_type": "code",
   "execution_count": 2,
   "id": "52501203-5f91-491f-9a3f-e61d8c7f059a",
   "metadata": {},
   "outputs": [],
   "source": [
    "import numpy as np"
   ]
  },
  {
   "cell_type": "code",
   "execution_count": 3,
   "id": "bf230a7d-0b73-40eb-8fe2-f69d47151eb9",
   "metadata": {},
   "outputs": [],
   "source": [
    "def rot_x(theta_x: float) -> np.ndarray:\n",
    "    ct = np.cos(theta_x)\n",
    "    st = np.sin(theta_x)\n",
    "    return np.array([\n",
    "        [1, 0, 0],\n",
    "        [0, ct, -st],\n",
    "        [0, st, ct]\n",
    "    ])\n",
    "    pass\n",
    "\n",
    "def rot_y(theta_y: float) -> np.ndarray:\n",
    "    ct = np.cos(theta_y)\n",
    "    st = np.sin(theta_y)\n",
    "    return np.array([\n",
    "        [ct, 0, -st],\n",
    "        [0, 1, 0],\n",
    "        [st, 0, ct]\n",
    "    ])\n",
    "\n",
    "def rot_z(theta_z: float) -> np.ndarray:\n",
    "    ct = np.cos(theta_z)\n",
    "    st = np.sin(theta_z)\n",
    "    return np.array([\n",
    "        [ct, -st, 0],\n",
    "        [st, ct, 0],\n",
    "        [0, 0, 1],\n",
    "    ])"
   ]
  },
  {
   "cell_type": "markdown",
   "id": "bbbef57c-bd2a-4d5d-9c3a-11902c94fb5e",
   "metadata": {},
   "source": [
    "## Data generation"
   ]
  },
  {
   "cell_type": "code",
   "execution_count": 3,
   "id": "c447ab0e-5b25-4703-b960-0dbbf2d43c55",
   "metadata": {},
   "outputs": [],
   "source": [
    "n_sample = 50\n",
    "data_seed = 20240630"
   ]
  },
  {
   "cell_type": "code",
   "execution_count": 4,
   "id": "7ab33508-8d7d-415f-abdd-9a80c5c89461",
   "metadata": {},
   "outputs": [],
   "source": [
    "np.random.seed(data_seed)\n",
    "\n",
    "true_theta_x = np.random.uniform(low=0, high=2*np.pi)\n",
    "true_trans_vec = np.random.normal(size=3)\n",
    "true_rot = rot_x(true_theta_x)\n",
    "\n",
    "p_i = np.random.normal(size=(n_sample, 3))\n",
    "q_i = p_i @ true_rot.T + true_trans_vec + np.random.normal(scale=1, size=(n_sample, 3))"
   ]
  },
  {
   "cell_type": "markdown",
   "id": "6a358be1-77dc-4370-b157-888226217087",
   "metadata": {},
   "source": [
    "### log likelihood without constant term"
   ]
  },
  {
   "cell_type": "code",
   "execution_count": 5,
   "id": "4929d97e-f7b2-46d1-81bf-6081649482c0",
   "metadata": {},
   "outputs": [
    {
     "data": {
      "text/plain": [
       "-75.2004109842694"
      ]
     },
     "execution_count": 5,
     "metadata": {},
     "output_type": "execute_result"
    }
   ],
   "source": [
    "-((q_i - (p_i @ true_rot.T + true_trans_vec))**2).sum(axis=1).sum()/2"
   ]
  },
  {
   "cell_type": "code",
   "execution_count": 6,
   "id": "4922390d-c854-4e7a-a0d4-d13ff2547910",
   "metadata": {},
   "outputs": [],
   "source": [
    "ln_seed = 20240701\n",
    "np.random.seed(ln_seed)"
   ]
  },
  {
   "cell_type": "markdown",
   "id": "bbba276a-4d99-4e7e-95f7-19ebf164f315",
   "metadata": {},
   "source": [
    "### Initialize theta"
   ]
  },
  {
   "cell_type": "code",
   "execution_count": 7,
   "id": "ce7fa339-c46b-4c55-b16b-18ffcce82596",
   "metadata": {},
   "outputs": [],
   "source": [
    "est_theta_x = np.random.normal()"
   ]
  },
  {
   "cell_type": "markdown",
   "id": "c7be0ab1-ba22-4850-a89f-1c27ccf74024",
   "metadata": {},
   "source": [
    "### estimated trans vec\n",
    "+ translation vector is estimated simply by average of residuals"
   ]
  },
  {
   "cell_type": "code",
   "execution_count": 8,
   "id": "b409f194-4f1d-4fde-9734-c3a169c84347",
   "metadata": {},
   "outputs": [],
   "source": [
    "est_trans_vec = (q_i - p_i @ rot_x(est_theta_x).T).mean(axis=0)"
   ]
  },
  {
   "cell_type": "markdown",
   "id": "1e831597-35e5-4244-875d-ccbbff4d4724",
   "metadata": {},
   "source": [
    "### estimated rot mat\n",
    "+ optimized function is\n",
    "$$\n",
    "L(\\theta_x) = \\sum_i <R_x(\\theta_x)p_i, q_i - t>,\n",
    "$$\n",
    "where redundant terms to optimize $\\theta_x$ are omitted.\n",
    "By calculating max value of $L(\\theta_x)$, estimated $\\theta_x$ is obtained."
   ]
  },
  {
   "cell_type": "code",
   "execution_count": 9,
   "id": "1a880bea-5a2f-4121-a530-14c59b622c3f",
   "metadata": {},
   "outputs": [],
   "source": [
    "tilde_q_i = q_i - est_trans_vec\n",
    "# tilde_q_i = q_i - true_trans_vec\n",
    "alpha_x = (-p_i[:,2]*tilde_q_i[:,1] + p_i[:,1]*tilde_q_i[:,2]).sum()\n",
    "beta_x = -(p_i[:,1]*tilde_q_i[:,1] + p_i[:,2]*tilde_q_i[:,2]).sum()"
   ]
  },
  {
   "cell_type": "code",
   "execution_count": 10,
   "id": "49f72a70-4bef-494d-a308-ad2d846eb5a0",
   "metadata": {},
   "outputs": [],
   "source": [
    "if beta_x >= 0:\n",
    "    gamma_x = np.arcsin(alpha_x/np.sqrt(alpha_x**2 + beta_x**2))\n",
    "else:\n",
    "    gamma_x = np.pi - np.arcsin(alpha_x/np.sqrt(alpha_x**2 + beta_x**2))"
   ]
  },
  {
   "cell_type": "code",
   "execution_count": 11,
   "id": "f95e04c9-fd5d-44b0-8682-79c5f1619fea",
   "metadata": {},
   "outputs": [],
   "source": [
    "candidate_est_theta_x = np.arange(4) * np.pi - gamma_x\n",
    "candidate_est_theta_x = candidate_est_theta_x[(0<=candidate_est_theta_x) & (candidate_est_theta_x <= 2*np.pi)]\n",
    "est_theta_x = min(candidate_est_theta_x[np.cos(candidate_est_theta_x + gamma_x) < 0])\n",
    "# candidate_est_theta_x[np.argmax(alpha_x*np.sin(candidate_est_theta_x) + beta_x*np.cos(candidate_est_theta_x))]"
   ]
  },
  {
   "cell_type": "markdown",
   "id": "3aad9a7f-54c3-4d7e-bdb6-82f39ad854a6",
   "metadata": {},
   "source": [
    "## estimated by loop "
   ]
  },
  {
   "cell_type": "code",
   "execution_count": 14,
   "id": "e0b07e87-4e38-4483-a692-48de116ab171",
   "metadata": {},
   "outputs": [],
   "source": [
    "def est_theta(sin_coef: float, cos_coef: float) -> float:\n",
    "    \"\"\" estimate maximizing theta of sin_coef sin(theta) + cos_coef cos(theta),\n",
    "    where theta in [0,2pi].\n",
    "    consider the 1st and 2nd order derivative, the value is obtained.\n",
    "    \"\"\"\n",
    "    \n",
    "    dist = np.sqrt(sin_coef**2 + cos_coef**2)\n",
    "    if sin_coef >= 0:\n",
    "        delta = np.arcsin(cos_coef/dist)\n",
    "        pass\n",
    "    else:\n",
    "        delta = np.pi - np.arcsin(cos_coef/dist)\n",
    "        pass\n",
    "    candidate_est_theta = np.arange(4) * np.pi - delta\n",
    "    est_theta = min(\n",
    "        filter(\n",
    "            lambda theta: \n",
    "            0 <= theta and theta <= 2*np.pi # for range of theta\n",
    "            and np.cos(theta + delta) < 0, # for 2nd order derivative is negative\n",
    "            candidate_est_theta,\n",
    "        )\n",
    "    )\n",
    "    return est_theta\n",
    "    pass"
   ]
  },
  {
   "cell_type": "code",
   "execution_count": 15,
   "id": "8723fea0-7b80-482f-b7c0-19480e3c317b",
   "metadata": {},
   "outputs": [],
   "source": [
    "n_ite = 100\n",
    "ln_seed = 20240701"
   ]
  },
  {
   "cell_type": "code",
   "execution_count": 16,
   "id": "d86f161d-1e25-4f4f-a7b5-9d2c91c9d05e",
   "metadata": {},
   "outputs": [],
   "source": [
    "loglik = []\n",
    "np.random.seed(ln_seed)\n",
    "\n",
    "# initialize\n",
    "# est_theta_x = np.random.uniform(low=0, high=2*np.pi)\n",
    "est_trans_vec = np.random.normal(size=3)\n",
    "\n",
    "for _ in range(n_ite):\n",
    "    # estimate theta_x\n",
    "    tilde_q_i = q_i - est_trans_vec\n",
    "    alpha_x = (-p_i[:,2]*tilde_q_i[:,1] + p_i[:,1]*tilde_q_i[:,2]).sum()\n",
    "    beta_x = -(p_i[:,1]*tilde_q_i[:,1] + p_i[:,2]*tilde_q_i[:,2]).sum()\n",
    "    est_theta_x = est_theta(sin_coef=beta_x, cos_coef=alpha_x)\n",
    "\n",
    "    # estimate translation vector\n",
    "    est_trans_vec = (q_i - p_i @ rot_x(est_theta_x).T).mean(axis=0)\n",
    "    \n",
    "    est_rot = rot_x(est_theta_x)\n",
    "    loglik.append(-((q_i - (p_i @ est_rot.T + est_trans_vec))**2).sum(axis=1).sum()/2)"
   ]
  },
  {
   "cell_type": "code",
   "execution_count": 17,
   "id": "3d48ca38-abe2-4ba8-975c-2d6393d7a1fd",
   "metadata": {},
   "outputs": [
    {
     "data": {
      "text/plain": [
       "[-74.3712514179364,\n",
       " -74.24325155589148,\n",
       " -74.2432501645077,\n",
       " -74.24325016449257,\n",
       " -74.24325016449255,\n",
       " -74.24325016449257,\n",
       " -74.24325016449257,\n",
       " -74.24325016449257,\n",
       " -74.24325016449257,\n",
       " -74.24325016449257]"
      ]
     },
     "execution_count": 17,
     "metadata": {},
     "output_type": "execute_result"
    }
   ],
   "source": [
    "loglik[:10]"
   ]
  },
  {
   "cell_type": "code",
   "execution_count": 18,
   "id": "21ff5bb9-5c51-47d5-a6f8-800e6cf3594d",
   "metadata": {},
   "outputs": [
    {
     "data": {
      "text/plain": [
       "(4.186908785248823, array([ 0.33507599, -0.24968013, -0.99294305]))"
      ]
     },
     "execution_count": 18,
     "metadata": {},
     "output_type": "execute_result"
    }
   ],
   "source": [
    "est_theta_x, est_trans_vec"
   ]
  },
  {
   "cell_type": "code",
   "execution_count": 19,
   "id": "3f0434a9-7222-4b0f-8844-ffcf521335ab",
   "metadata": {},
   "outputs": [
    {
     "data": {
      "text/plain": [
       "(4.247931759760334, array([ 0.34174339, -0.35949451, -0.85681546]))"
      ]
     },
     "execution_count": 19,
     "metadata": {},
     "output_type": "execute_result"
    }
   ],
   "source": [
    "true_theta_x, true_trans_vec"
   ]
  },
  {
   "cell_type": "markdown",
   "id": "45db1c79-e044-4772-b2ff-a37e03920e48",
   "metadata": {},
   "source": [
    "## Optimize $\\theta_x$ and $\\theta_y$ and $t$"
   ]
  },
  {
   "cell_type": "code",
   "execution_count": 20,
   "id": "9995cedf-0ce4-4f8f-a80d-c0bc3493facc",
   "metadata": {},
   "outputs": [],
   "source": [
    "n_sample = 50\n",
    "data_seed = 20240630"
   ]
  },
  {
   "cell_type": "code",
   "execution_count": 21,
   "id": "a16363db-b5f6-4abd-b87c-b7e3832e56c4",
   "metadata": {},
   "outputs": [],
   "source": [
    "np.random.seed(data_seed)\n",
    "\n",
    "true_theta_x = np.random.uniform(low=0, high=2*np.pi)\n",
    "true_theta_y = np.random.uniform(low=0, high=2*np.pi)\n",
    "true_trans_vec = np.random.normal(size=3)\n",
    "true_rot = rot_x(true_theta_x) @ rot_y(true_theta_y)\n",
    "\n",
    "p_i = np.random.normal(size=(n_sample, 3))\n",
    "q_i = p_i @ true_rot.T + true_trans_vec + np.random.normal(scale=1, size=(n_sample, 3))"
   ]
  },
  {
   "cell_type": "markdown",
   "id": "51f3abfb-aa87-4cd7-b3a7-6f34eab3f7dc",
   "metadata": {},
   "source": [
    "### log likelihood without constant term"
   ]
  },
  {
   "cell_type": "code",
   "execution_count": 22,
   "id": "7b41a2a0-3823-430a-8ab0-883510e38d38",
   "metadata": {},
   "outputs": [
    {
     "data": {
      "text/plain": [
       "-90.0363616229746"
      ]
     },
     "execution_count": 22,
     "metadata": {},
     "output_type": "execute_result"
    }
   ],
   "source": [
    "-((q_i - (p_i @ true_rot.T + true_trans_vec))**2).sum(axis=1).sum()/2"
   ]
  },
  {
   "cell_type": "markdown",
   "id": "1341cc27-fd6e-43c6-91ce-82c0b802b26d",
   "metadata": {},
   "source": [
    "### Initialize translation vector and $\\theta_x$"
   ]
  },
  {
   "cell_type": "code",
   "execution_count": 23,
   "id": "b3a0bffc-4479-423a-ac8d-88e6b8ed138f",
   "metadata": {},
   "outputs": [],
   "source": [
    "ln_seed = 20240701\n",
    "np.random.seed(ln_seed)"
   ]
  },
  {
   "cell_type": "code",
   "execution_count": 24,
   "id": "86c0d390-c7d2-420c-af12-5d6da910c62c",
   "metadata": {},
   "outputs": [],
   "source": [
    "est_trans_vec = np.random.normal(size=3)\n",
    "est_theta_x = np.random.uniform(low=0, high=2*np.pi)"
   ]
  },
  {
   "cell_type": "markdown",
   "id": "0bbf015b-8beb-4665-96b0-895ae838149b",
   "metadata": {},
   "source": [
    "### Estimate $\\theta_y$"
   ]
  },
  {
   "cell_type": "code",
   "execution_count": null,
   "id": "754c3e40-bd31-4a86-a707-bbdb9a1d812d",
   "metadata": {},
   "outputs": [],
   "source": [
    "tilde_q_i = (q_i - est_trans_vec) @ rot_x(est_theta_x)\n",
    "\n",
    "sin_coef = -(p_i[:,0]*tilde_q_i[:,0] + p_i[:,2]*tilde_q_i[:,2]).sum()\n",
    "cos_coef = (-p_i[:,2]*tilde_q_i[:,0] + p_i[:,0]*tilde_q_i[:,2]).sum()\n",
    "\n",
    "est_theta_y = est_theta(sin_coef=sin_coef, cos_coef=cos_coef)"
   ]
  },
  {
   "cell_type": "markdown",
   "id": "105038c2-c08a-426c-898f-c6f8b60ab07d",
   "metadata": {},
   "source": [
    "## Estimate $\\theta_x$"
   ]
  },
  {
   "cell_type": "code",
   "execution_count": null,
   "id": "ec50bb5b-a07e-40bd-9ab4-2c9815936694",
   "metadata": {},
   "outputs": [],
   "source": [
    "tilde_q_i = q_i - est_trans_vec\n",
    "tilde_p_i = p_i @ rot_y(est_theta_y).T\n",
    "\n",
    "sin_coef = -(tilde_p_i[:,1]*tilde_q_i[:,1] + tilde_p_i[:,2]*tilde_q_i[:,2]).sum()\n",
    "cos_coef = (-tilde_p_i[:,2]*tilde_q_i[:,1] + tilde_p_i[:,1]*tilde_q_i[:,2]).sum()\n",
    "\n",
    "est_theta_x = est_theta(sin_coef=sin_coef, cos_coef=cos_coef)"
   ]
  },
  {
   "cell_type": "markdown",
   "id": "b7497b69-f671-4e25-99a6-9bffd733d1f4",
   "metadata": {},
   "source": [
    "## Esimate $t$"
   ]
  },
  {
   "cell_type": "code",
   "execution_count": 32,
   "id": "4713bf99-ba6b-49d8-b019-fd7f3fcca967",
   "metadata": {},
   "outputs": [],
   "source": [
    "est_trans_vec = (q_i - p_i @ rot_y(est_theta_y).T @ rot_x(est_theta_x).T).mean(axis=0)"
   ]
  },
  {
   "cell_type": "code",
   "execution_count": 33,
   "id": "f422668a-bb5f-4d42-9810-79fd92c8b4f2",
   "metadata": {},
   "outputs": [
    {
     "data": {
      "text/plain": [
       "(4.134738317936312, 1.1139391311678266)"
      ]
     },
     "execution_count": 33,
     "metadata": {},
     "output_type": "execute_result"
    }
   ],
   "source": [
    "est_theta_x, est_theta_y"
   ]
  },
  {
   "cell_type": "code",
   "execution_count": 34,
   "id": "abba5df7-527e-4fca-955b-f0e5ecaaee62",
   "metadata": {},
   "outputs": [
    {
     "data": {
      "text/plain": [
       "array([-1.51060822,  1.47331913,  1.14509845])"
      ]
     },
     "execution_count": 34,
     "metadata": {},
     "output_type": "execute_result"
    }
   ],
   "source": [
    "est_trans_vec"
   ]
  },
  {
   "cell_type": "code",
   "execution_count": 35,
   "id": "74b0301b-65e1-4d4f-ab8b-8b8a8c78cd17",
   "metadata": {},
   "outputs": [
    {
     "data": {
      "text/plain": [
       "(4.247931759760334,\n",
       " 1.0004734530637451,\n",
       " array([-1.33375912,  1.30214425,  1.31281983]))"
      ]
     },
     "execution_count": 35,
     "metadata": {},
     "output_type": "execute_result"
    }
   ],
   "source": [
    "true_theta_x, true_theta_y, true_trans_vec"
   ]
  },
  {
   "cell_type": "markdown",
   "id": "b7527268-a082-4320-bf98-a9c6d3ca3852",
   "metadata": {},
   "source": [
    "# Loop to estimate R_x, R_y, R_z, and t"
   ]
  },
  {
   "cell_type": "code",
   "execution_count": 68,
   "id": "21da3bb9-f0a8-46ee-b612-cefb1d0474f1",
   "metadata": {},
   "outputs": [],
   "source": [
    "n_sample = 50\n",
    "data_seed = 20240630"
   ]
  },
  {
   "cell_type": "code",
   "execution_count": 69,
   "id": "f00d7751-30ae-4faf-8e0c-c9048980c067",
   "metadata": {},
   "outputs": [],
   "source": [
    "np.random.seed(data_seed)\n",
    "\n",
    "true_theta_x = np.random.uniform(low=0, high=2*np.pi)\n",
    "true_theta_y = np.random.uniform(low=0, high=2*np.pi)\n",
    "true_theta_z = np.random.uniform(low=0, high=2*np.pi)\n",
    "true_trans_vec = np.random.normal(size=3)\n",
    "true_rot = rot_x(true_theta_x) @ rot_y(true_theta_y) @ rot_z(true_theta_z)\n",
    "\n",
    "p_i = np.random.normal(size=(n_sample, 3))\n",
    "q_i = p_i @ true_rot.T + true_trans_vec + np.random.normal(scale=1, size=(n_sample, 3))"
   ]
  },
  {
   "cell_type": "code",
   "execution_count": 74,
   "id": "a4068f26-39f8-4965-8801-693a68c3832b",
   "metadata": {},
   "outputs": [],
   "source": [
    "def est_theta(sin_coef: float, cos_coef: float) -> float:\n",
    "    \"\"\" estimate maximizing theta of sin_coef sin(theta) + cos_coef cos(theta),\n",
    "    where theta in [0,2pi].\n",
    "    consider the 1st and 2nd order derivative, the value is obtained.\n",
    "    \"\"\"\n",
    "    \n",
    "    dist = np.sqrt(sin_coef**2 + cos_coef**2)\n",
    "    if sin_coef >= 0:\n",
    "        delta = np.arcsin(cos_coef/dist)\n",
    "        pass\n",
    "    else:\n",
    "        delta = np.pi - np.arcsin(cos_coef/dist)\n",
    "        pass\n",
    "    candidate_est_theta = np.arange(4) * np.pi - delta\n",
    "    est_theta = min(\n",
    "        filter(\n",
    "            lambda theta: \n",
    "            0 <= theta and theta <= 2*np.pi # for range of theta\n",
    "            and np.cos(theta + delta) < 0, # for 2nd order derivative is negative\n",
    "            candidate_est_theta,\n",
    "        )\n",
    "    )\n",
    "    return est_theta\n",
    "    pass"
   ]
  },
  {
   "cell_type": "code",
   "execution_count": 78,
   "id": "7d179c93-a643-4092-ba31-fae04aae5910",
   "metadata": {},
   "outputs": [],
   "source": [
    "n_ite = 100\n",
    "ln_seed = 20240701"
   ]
  },
  {
   "cell_type": "code",
   "execution_count": 79,
   "id": "bdafacd0-7ee0-4bae-bb33-f289c6e5629d",
   "metadata": {},
   "outputs": [],
   "source": [
    "loglik = []\n",
    "np.random.seed(ln_seed)\n",
    "\n",
    "# initialize\n",
    "est_theta_x = np.random.uniform(low=0, high=2*np.pi)\n",
    "est_theta_y = np.random.uniform(low=0, high=2*np.pi)\n",
    "est_theta_z = np.random.uniform(low=0, high=2*np.pi)\n",
    "est_trans_vec = np.random.normal(size=3)\n",
    "\n",
    "for _ in range(n_ite):\n",
    "    # estimate theta_z\n",
    "    tilde_q_i = (q_i - est_trans_vec) @ rot_x(est_theta_x) @ rot_y(est_theta_y)\n",
    "    tilde_p_i = p_i\n",
    "    sin_coef = -(tilde_p_i[:,0]*tilde_q_i[:,0] + tilde_p_i[:,1]*tilde_q_i[:,1]).sum()\n",
    "    cos_coef = (-tilde_p_i[:,1]*tilde_q_i[:,0] + tilde_p_i[:,0]*tilde_q_i[:,1]).sum()    \n",
    "    est_theta_z = est_theta(sin_coef=sin_coef, cos_coef=cos_coef)\n",
    "    \n",
    "    # estimate theta_y\n",
    "    tilde_q_i = (q_i - est_trans_vec) @ rot_x(est_theta_x)\n",
    "    tilde_p_i = p_i @ rot_z(est_theta_z).T\n",
    "    sin_coef = -(tilde_p_i[:,0]*tilde_q_i[:,0] + tilde_p_i[:,2]*tilde_q_i[:,2]).sum()\n",
    "    cos_coef = (-tilde_p_i[:,2]*tilde_q_i[:,0] + tilde_p_i[:,0]*tilde_q_i[:,2]).sum()\n",
    "    est_theta_y = est_theta(sin_coef=sin_coef, cos_coef=cos_coef)\n",
    "    \n",
    "    # estimate theta_x\n",
    "    tilde_q_i = q_i - est_trans_vec\n",
    "    tilde_p_i = p_i @ rot_z(est_theta_z).T @ rot_y(est_theta_y).T    \n",
    "    sin_coef = -(tilde_p_i[:,1]*tilde_q_i[:,1] + tilde_p_i[:,2]*tilde_q_i[:,2]).sum()\n",
    "    cos_coef = (-tilde_p_i[:,2]*tilde_q_i[:,1] + tilde_p_i[:,1]*tilde_q_i[:,2]).sum()\n",
    "    est_theta_x = est_theta(sin_coef=sin_coef, cos_coef=cos_coef)\n",
    "\n",
    "    # estimate translation vector\n",
    "    est_rot = rot_x(est_theta_x) @ rot_y(est_theta_y) @ rot_z(est_theta_z)\n",
    "    est_trans_vec = (q_i - p_i @ est_rot.T).mean(axis=0)\n",
    "    \n",
    "    est_rot = rot_x(est_theta_x) @ rot_y(est_theta_y) @ rot_z(est_theta_z)\n",
    "    loglik.append(-((q_i - (p_i @ est_rot.T + est_trans_vec))**2).sum(axis=1).sum()/2)"
   ]
  },
  {
   "cell_type": "code",
   "execution_count": 80,
   "id": "3b9b7b29-4995-470d-960d-7ce1200708fc",
   "metadata": {},
   "outputs": [
    {
     "data": {
      "text/plain": [
       "[-75.35936256579465,\n",
       " -73.80151013457045,\n",
       " -73.61108814470299,\n",
       " -73.54158777442599,\n",
       " -73.51571188186384,\n",
       " -73.50610635006676,\n",
       " -73.50254007113755,\n",
       " -73.5012146496122,\n",
       " -73.50072157272523,\n",
       " -73.5005380084679,\n",
       " -73.50046963730414,\n",
       " -73.50044416346446,\n",
       " -73.50043467049603,\n",
       " -73.50043113245127,\n",
       " -73.50042981371558,\n",
       " -73.50042932216006,\n",
       " -73.50042913892867,\n",
       " -73.50042907062644,\n",
       " -73.5004290451655,\n",
       " -73.50042903567437,\n",
       " -73.50042903213634,\n",
       " -73.50042903081749,\n",
       " -73.50042903032582,\n",
       " -73.50042903014254,\n",
       " -73.50042903007422,\n",
       " -73.50042903004875,\n",
       " -73.50042903003926,\n",
       " -73.50042903003572,\n",
       " -73.50042903003441,\n",
       " -73.50042903003391,\n",
       " -73.50042903003374,\n",
       " -73.50042903003364,\n",
       " -73.50042903003364,\n",
       " -73.50042903003363,\n",
       " -73.50042903003364,\n",
       " -73.50042903003364,\n",
       " -73.50042903003363,\n",
       " -73.5004290300336,\n",
       " -73.50042903003363,\n",
       " -73.50042903003363,\n",
       " -73.50042903003362,\n",
       " -73.50042903003363,\n",
       " -73.50042903003364,\n",
       " -73.50042903003363,\n",
       " -73.50042903003363,\n",
       " -73.50042903003363,\n",
       " -73.50042903003362,\n",
       " -73.50042903003363,\n",
       " -73.50042903003363,\n",
       " -73.50042903003363,\n",
       " -73.50042903003363,\n",
       " -73.50042903003362,\n",
       " -73.50042903003363,\n",
       " -73.50042903003363,\n",
       " -73.50042903003362,\n",
       " -73.50042903003362,\n",
       " -73.50042903003362,\n",
       " -73.50042903003362,\n",
       " -73.50042903003363,\n",
       " -73.50042903003363,\n",
       " -73.50042903003363,\n",
       " -73.50042903003363,\n",
       " -73.50042903003362,\n",
       " -73.50042903003363,\n",
       " -73.50042903003363,\n",
       " -73.50042903003363,\n",
       " -73.50042903003363,\n",
       " -73.50042903003363,\n",
       " -73.50042903003363,\n",
       " -73.50042903003363,\n",
       " -73.50042903003363,\n",
       " -73.50042903003363,\n",
       " -73.50042903003363,\n",
       " -73.50042903003363,\n",
       " -73.50042903003363,\n",
       " -73.50042903003363,\n",
       " -73.50042903003363,\n",
       " -73.50042903003363,\n",
       " -73.50042903003363,\n",
       " -73.50042903003363,\n",
       " -73.50042903003363,\n",
       " -73.50042903003363,\n",
       " -73.50042903003363,\n",
       " -73.50042903003363,\n",
       " -73.50042903003363,\n",
       " -73.50042903003363,\n",
       " -73.50042903003363,\n",
       " -73.50042903003363,\n",
       " -73.50042903003363,\n",
       " -73.50042903003363,\n",
       " -73.50042903003363,\n",
       " -73.50042903003363,\n",
       " -73.50042903003363,\n",
       " -73.50042903003363,\n",
       " -73.50042903003363,\n",
       " -73.50042903003363,\n",
       " -73.50042903003363,\n",
       " -73.50042903003363,\n",
       " -73.50042903003363,\n",
       " -73.50042903003363]"
      ]
     },
     "execution_count": 80,
     "metadata": {},
     "output_type": "execute_result"
    }
   ],
   "source": [
    "loglik"
   ]
  },
  {
   "cell_type": "code",
   "execution_count": null,
   "id": "f47d1520-bde7-499d-8ceb-d643a037dca0",
   "metadata": {},
   "outputs": [],
   "source": []
  },
  {
   "cell_type": "markdown",
   "id": "e82879bb-573f-4356-b235-e0f28dc4e2ce",
   "metadata": {},
   "source": [
    "# Loop to estimate R_x, R_y, R_z, and t with a covariance noise"
   ]
  },
  {
   "cell_type": "code",
   "execution_count": 88,
   "id": "7e96bcb2-49d5-40f9-90d5-a1417b68eba3",
   "metadata": {},
   "outputs": [],
   "source": [
    "import scipy"
   ]
  },
  {
   "cell_type": "code",
   "execution_count": 1,
   "id": "84b977e0-5367-4d94-b680-e63abb1c26f6",
   "metadata": {},
   "outputs": [
    {
     "ename": "NameError",
     "evalue": "name 'scipy' is not defined",
     "output_type": "error",
     "traceback": [
      "\u001b[1;31m---------------------------------------------------------------------------\u001b[0m",
      "\u001b[1;31mNameError\u001b[0m                                 Traceback (most recent call last)",
      "Cell \u001b[1;32mIn[1], line 1\u001b[0m\n\u001b[1;32m----> 1\u001b[0m cov \u001b[38;5;241m=\u001b[39m scipy\u001b[38;5;241m.\u001b[39mstats\u001b[38;5;241m.\u001b[39mwishart\u001b[38;5;241m.\u001b[39mrvs(df\u001b[38;5;241m=\u001b[39m\u001b[38;5;241m5\u001b[39m, scale\u001b[38;5;241m=\u001b[39mnp\u001b[38;5;241m.\u001b[39meye(\u001b[38;5;241m3\u001b[39m))\n",
      "\u001b[1;31mNameError\u001b[0m: name 'scipy' is not defined"
     ]
    }
   ],
   "source": [
    "cov = scipy.stats.wishart.rvs(df=5, scale=np.eye(3))"
   ]
  },
  {
   "cell_type": "code",
   "execution_count": null,
   "id": "ada592bb-e867-445f-b548-73742a291118",
   "metadata": {},
   "outputs": [],
   "source": [
    "cov"
   ]
  },
  {
   "cell_type": "code",
   "execution_count": 87,
   "id": "62513d23-23aa-4e02-9bf2-4ac34b359747",
   "metadata": {},
   "outputs": [
    {
     "data": {
      "text/plain": [
       "array([[ 0.10763867,  0.73118401, -0.25001827]])"
      ]
     },
     "execution_count": 87,
     "metadata": {},
     "output_type": "execute_result"
    }
   ],
   "source": [
    "np.random.multivariate_normal(mean=np.zeros(3), cov=np.eye(3), size=1)"
   ]
  },
  {
   "cell_type": "code",
   "execution_count": 68,
   "id": "3394a4cf-187f-4a95-bf2c-5107a4e15fcc",
   "metadata": {},
   "outputs": [],
   "source": [
    "n_sample = 50\n",
    "data_seed = 20240630"
   ]
  },
  {
   "cell_type": "code",
   "execution_count": 69,
   "id": "b73a6b20-4f0d-48bc-9caa-8e2279ce906f",
   "metadata": {},
   "outputs": [],
   "source": [
    "np.random.seed(data_seed)\n",
    "\n",
    "true_theta_x = np.random.uniform(low=0, high=2*np.pi)\n",
    "true_theta_y = np.random.uniform(low=0, high=2*np.pi)\n",
    "true_theta_z = np.random.uniform(low=0, high=2*np.pi)\n",
    "true_trans_vec = np.random.normal(size=3)\n",
    "true_rot = rot_x(true_theta_x) @ rot_y(true_theta_y) @ rot_z(true_theta_z)\n",
    "\n",
    "p_i = np.random.normal(size=(n_sample, 3))\n",
    "q_i = p_i @ true_rot.T + true_trans_vec + np.random.normal(scale=1, size=(n_sample, 3))"
   ]
  },
  {
   "cell_type": "code",
   "execution_count": 74,
   "id": "d5970e22-ee7a-42a5-a5dc-afbdef65c0c3",
   "metadata": {},
   "outputs": [],
   "source": [
    "def est_theta(sin_coef: float, cos_coef: float) -> float:\n",
    "    \"\"\" estimate maximizing theta of sin_coef sin(theta) + cos_coef cos(theta),\n",
    "    where theta in [0,2pi].\n",
    "    consider the 1st and 2nd order derivative, the value is obtained.\n",
    "    \"\"\"\n",
    "    \n",
    "    dist = np.sqrt(sin_coef**2 + cos_coef**2)\n",
    "    if sin_coef >= 0:\n",
    "        delta = np.arcsin(cos_coef/dist)\n",
    "        pass\n",
    "    else:\n",
    "        delta = np.pi - np.arcsin(cos_coef/dist)\n",
    "        pass\n",
    "    candidate_est_theta = np.arange(4) * np.pi - delta\n",
    "    est_theta = min(\n",
    "        filter(\n",
    "            lambda theta: \n",
    "            0 <= theta and theta <= 2*np.pi # for range of theta\n",
    "            and np.cos(theta + delta) < 0, # for 2nd order derivative is negative\n",
    "            candidate_est_theta,\n",
    "        )\n",
    "    )\n",
    "    return est_theta\n",
    "    pass"
   ]
  },
  {
   "cell_type": "code",
   "execution_count": 78,
   "id": "e8d6894f-7541-4648-a327-ca145abcc668",
   "metadata": {},
   "outputs": [],
   "source": [
    "n_ite = 100\n",
    "ln_seed = 20240701"
   ]
  },
  {
   "cell_type": "code",
   "execution_count": 79,
   "id": "7362ebae-9a14-4023-9431-48ee0d8fcb02",
   "metadata": {},
   "outputs": [],
   "source": [
    "loglik = []\n",
    "np.random.seed(ln_seed)\n",
    "\n",
    "# initialize\n",
    "est_theta_x = np.random.uniform(low=0, high=2*np.pi)\n",
    "est_theta_y = np.random.uniform(low=0, high=2*np.pi)\n",
    "est_theta_z = np.random.uniform(low=0, high=2*np.pi)\n",
    "est_trans_vec = np.random.normal(size=3)\n",
    "\n",
    "for _ in range(n_ite):\n",
    "    # estimate theta_z\n",
    "    tilde_q_i = (q_i - est_trans_vec) @ rot_x(est_theta_x) @ rot_y(est_theta_y)\n",
    "    tilde_p_i = p_i\n",
    "    sin_coef = -(tilde_p_i[:,0]*tilde_q_i[:,0] + tilde_p_i[:,1]*tilde_q_i[:,1]).sum()\n",
    "    cos_coef = (-tilde_p_i[:,1]*tilde_q_i[:,0] + tilde_p_i[:,0]*tilde_q_i[:,1]).sum()    \n",
    "    est_theta_z = est_theta(sin_coef=sin_coef, cos_coef=cos_coef)\n",
    "    \n",
    "    # estimate theta_y\n",
    "    tilde_q_i = (q_i - est_trans_vec) @ rot_x(est_theta_x)\n",
    "    tilde_p_i = p_i @ rot_z(est_theta_z).T\n",
    "    sin_coef = -(tilde_p_i[:,0]*tilde_q_i[:,0] + tilde_p_i[:,2]*tilde_q_i[:,2]).sum()\n",
    "    cos_coef = (-tilde_p_i[:,2]*tilde_q_i[:,0] + tilde_p_i[:,0]*tilde_q_i[:,2]).sum()\n",
    "    est_theta_y = est_theta(sin_coef=sin_coef, cos_coef=cos_coef)\n",
    "    \n",
    "    # estimate theta_x\n",
    "    tilde_q_i = q_i - est_trans_vec\n",
    "    tilde_p_i = p_i @ rot_z(est_theta_z).T @ rot_y(est_theta_y).T    \n",
    "    sin_coef = -(tilde_p_i[:,1]*tilde_q_i[:,1] + tilde_p_i[:,2]*tilde_q_i[:,2]).sum()\n",
    "    cos_coef = (-tilde_p_i[:,2]*tilde_q_i[:,1] + tilde_p_i[:,1]*tilde_q_i[:,2]).sum()\n",
    "    est_theta_x = est_theta(sin_coef=sin_coef, cos_coef=cos_coef)\n",
    "\n",
    "    # estimate translation vector\n",
    "    est_rot = rot_x(est_theta_x) @ rot_y(est_theta_y) @ rot_z(est_theta_z)\n",
    "    est_trans_vec = (q_i - p_i @ est_rot.T).mean(axis=0)\n",
    "    \n",
    "    est_rot = rot_x(est_theta_x) @ rot_y(est_theta_y) @ rot_z(est_theta_z)\n",
    "    loglik.append(-((q_i - (p_i @ est_rot.T + est_trans_vec))**2).sum(axis=1).sum()/2)"
   ]
  },
  {
   "cell_type": "code",
   "execution_count": 80,
   "id": "e904a265-7ecd-4338-8645-9b82e0d66864",
   "metadata": {},
   "outputs": [
    {
     "data": {
      "text/plain": [
       "[-75.35936256579465,\n",
       " -73.80151013457045,\n",
       " -73.61108814470299,\n",
       " -73.54158777442599,\n",
       " -73.51571188186384,\n",
       " -73.50610635006676,\n",
       " -73.50254007113755,\n",
       " -73.5012146496122,\n",
       " -73.50072157272523,\n",
       " -73.5005380084679,\n",
       " -73.50046963730414,\n",
       " -73.50044416346446,\n",
       " -73.50043467049603,\n",
       " -73.50043113245127,\n",
       " -73.50042981371558,\n",
       " -73.50042932216006,\n",
       " -73.50042913892867,\n",
       " -73.50042907062644,\n",
       " -73.5004290451655,\n",
       " -73.50042903567437,\n",
       " -73.50042903213634,\n",
       " -73.50042903081749,\n",
       " -73.50042903032582,\n",
       " -73.50042903014254,\n",
       " -73.50042903007422,\n",
       " -73.50042903004875,\n",
       " -73.50042903003926,\n",
       " -73.50042903003572,\n",
       " -73.50042903003441,\n",
       " -73.50042903003391,\n",
       " -73.50042903003374,\n",
       " -73.50042903003364,\n",
       " -73.50042903003364,\n",
       " -73.50042903003363,\n",
       " -73.50042903003364,\n",
       " -73.50042903003364,\n",
       " -73.50042903003363,\n",
       " -73.5004290300336,\n",
       " -73.50042903003363,\n",
       " -73.50042903003363,\n",
       " -73.50042903003362,\n",
       " -73.50042903003363,\n",
       " -73.50042903003364,\n",
       " -73.50042903003363,\n",
       " -73.50042903003363,\n",
       " -73.50042903003363,\n",
       " -73.50042903003362,\n",
       " -73.50042903003363,\n",
       " -73.50042903003363,\n",
       " -73.50042903003363,\n",
       " -73.50042903003363,\n",
       " -73.50042903003362,\n",
       " -73.50042903003363,\n",
       " -73.50042903003363,\n",
       " -73.50042903003362,\n",
       " -73.50042903003362,\n",
       " -73.50042903003362,\n",
       " -73.50042903003362,\n",
       " -73.50042903003363,\n",
       " -73.50042903003363,\n",
       " -73.50042903003363,\n",
       " -73.50042903003363,\n",
       " -73.50042903003362,\n",
       " -73.50042903003363,\n",
       " -73.50042903003363,\n",
       " -73.50042903003363,\n",
       " -73.50042903003363,\n",
       " -73.50042903003363,\n",
       " -73.50042903003363,\n",
       " -73.50042903003363,\n",
       " -73.50042903003363,\n",
       " -73.50042903003363,\n",
       " -73.50042903003363,\n",
       " -73.50042903003363,\n",
       " -73.50042903003363,\n",
       " -73.50042903003363,\n",
       " -73.50042903003363,\n",
       " -73.50042903003363,\n",
       " -73.50042903003363,\n",
       " -73.50042903003363,\n",
       " -73.50042903003363,\n",
       " -73.50042903003363,\n",
       " -73.50042903003363,\n",
       " -73.50042903003363,\n",
       " -73.50042903003363,\n",
       " -73.50042903003363,\n",
       " -73.50042903003363,\n",
       " -73.50042903003363,\n",
       " -73.50042903003363,\n",
       " -73.50042903003363,\n",
       " -73.50042903003363,\n",
       " -73.50042903003363,\n",
       " -73.50042903003363,\n",
       " -73.50042903003363,\n",
       " -73.50042903003363,\n",
       " -73.50042903003363,\n",
       " -73.50042903003363,\n",
       " -73.50042903003363,\n",
       " -73.50042903003363,\n",
       " -73.50042903003363]"
      ]
     },
     "execution_count": 80,
     "metadata": {},
     "output_type": "execute_result"
    }
   ],
   "source": [
    "loglik"
   ]
  },
  {
   "cell_type": "code",
   "execution_count": null,
   "id": "3f15510c-b5c7-4eb5-a28d-dd7949e9a763",
   "metadata": {},
   "outputs": [],
   "source": []
  },
  {
   "cell_type": "code",
   "execution_count": null,
   "id": "03f3e5d2-1534-48a2-9366-b077522945fe",
   "metadata": {},
   "outputs": [],
   "source": []
  },
  {
   "cell_type": "markdown",
   "id": "bb8352e3-70ca-4c38-a942-02fff8b2924c",
   "metadata": {},
   "source": [
    "### estimated rot mat\n",
    "+ optimized function is\n",
    "$$\n",
    "L(\\theta_x) = \\sum_i <R_x(\\theta_x)p_i, q_i - t>,\n",
    "$$\n",
    "where redundant terms to optimize $\\theta_x$ are omitted.\n",
    "By calculating max value of $L(\\theta_x)$, estimated $\\theta_x$ is obtained."
   ]
  },
  {
   "cell_type": "code",
   "execution_count": 36,
   "id": "07329856-78f0-4cec-963e-057747b5fbdd",
   "metadata": {},
   "outputs": [],
   "source": [
    "tilde_q_i = q_i - est_trans_vec\n",
    "# tilde_q_i = q_i - true_trans_vec\n",
    "alpha_x = (-p_i[:,2]*tilde_q_i[:,1] + p_i[:,1]*tilde_q_i[:,2]).sum()\n",
    "beta_x = -(p_i[:,1]*tilde_q_i[:,1] + p_i[:,2]*tilde_q_i[:,2]).sum()"
   ]
  },
  {
   "cell_type": "code",
   "execution_count": 37,
   "id": "2b48070f-0177-44bc-b0b6-3b29d85c787e",
   "metadata": {},
   "outputs": [],
   "source": [
    "if beta_x >= 0:\n",
    "    gamma_x = np.arcsin(alpha_x/np.sqrt(alpha_x**2 + beta_x**2))\n",
    "else:\n",
    "    gamma_x = np.pi - np.arcsin(alpha_x/np.sqrt(alpha_x**2 + beta_x**2))"
   ]
  },
  {
   "cell_type": "code",
   "execution_count": 38,
   "id": "be971352-6af1-4253-b6da-2dd29071117c",
   "metadata": {},
   "outputs": [],
   "source": [
    "candidate_est_theta_x = np.arange(4) * np.pi - gamma_x\n",
    "candidate_est_theta_x = candidate_est_theta_x[(0<=candidate_est_theta_x) & (candidate_est_theta_x <= 2*np.pi)]\n",
    "est_theta_x = min(candidate_est_theta_x[np.cos(candidate_est_theta_x + gamma_x) < 0])\n",
    "# candidate_est_theta_x[np.argmax(alpha_x*np.sin(candidate_est_theta_x) + beta_x*np.cos(candidate_est_theta_x))]"
   ]
  },
  {
   "cell_type": "code",
   "execution_count": null,
   "id": "4dbd0b3e-eb57-458f-bf37-78d68f3ebce2",
   "metadata": {},
   "outputs": [],
   "source": []
  },
  {
   "cell_type": "code",
   "execution_count": null,
   "id": "d546ceb5-8e94-426d-8fd6-1500cc04fbdb",
   "metadata": {},
   "outputs": [],
   "source": []
  },
  {
   "cell_type": "code",
   "execution_count": null,
   "id": "77be38c0-843b-4af5-99f8-f51115df5151",
   "metadata": {},
   "outputs": [],
   "source": []
  },
  {
   "cell_type": "code",
   "execution_count": null,
   "id": "0effc53a-3150-4866-abbc-7b7d79d27d10",
   "metadata": {},
   "outputs": [],
   "source": []
  },
  {
   "cell_type": "code",
   "execution_count": 39,
   "id": "c6759b1d-080d-4fa0-8ebe-b71c4131601e",
   "metadata": {},
   "outputs": [
    {
     "data": {
      "text/plain": [
       "-163.38790035034546"
      ]
     },
     "execution_count": 39,
     "metadata": {},
     "output_type": "execute_result"
    }
   ],
   "source": [
    "est_rot = rot_x(est_theta_x)\n",
    "-((q_i - (p_i @ est_rot.T + est_trans_vec))**2).sum(axis=1).sum()/2"
   ]
  },
  {
   "cell_type": "code",
   "execution_count": 40,
   "id": "bdfd2ff8-33c8-4524-948c-cc6c39ea7d05",
   "metadata": {},
   "outputs": [
    {
     "data": {
      "text/plain": [
       "4.247931759760334"
      ]
     },
     "execution_count": 40,
     "metadata": {},
     "output_type": "execute_result"
    }
   ],
   "source": [
    "true_theta_x"
   ]
  },
  {
   "cell_type": "code",
   "execution_count": 41,
   "id": "65007bff-127f-4bff-8149-7de299c7d9f0",
   "metadata": {},
   "outputs": [
    {
     "data": {
      "text/plain": [
       "4.262658203214274"
      ]
     },
     "execution_count": 41,
     "metadata": {},
     "output_type": "execute_result"
    }
   ],
   "source": [
    "est_theta_x"
   ]
  },
  {
   "cell_type": "code",
   "execution_count": 42,
   "id": "ea342b66-9c26-47ec-80ad-5cbd3343f118",
   "metadata": {},
   "outputs": [
    {
     "data": {
      "text/plain": [
       "4.262658203214274"
      ]
     },
     "execution_count": 42,
     "metadata": {},
     "output_type": "execute_result"
    }
   ],
   "source": [
    "est_theta_x"
   ]
  },
  {
   "cell_type": "code",
   "execution_count": 43,
   "id": "64572a13-3cd6-467b-be65-1cf983278b6a",
   "metadata": {},
   "outputs": [
    {
     "data": {
      "text/plain": [
       "[array([False,  True])]"
      ]
     },
     "execution_count": 43,
     "metadata": {},
     "output_type": "execute_result"
    }
   ],
   "source": [
    "[np.cos(candidate_est_theta_x + gamma_x) < 0]"
   ]
  },
  {
   "cell_type": "code",
   "execution_count": 44,
   "id": "90ef3055-8651-4785-b8d2-317673406be1",
   "metadata": {},
   "outputs": [
    {
     "data": {
      "text/plain": [
       "(array([-1.51060822,  1.47331913,  1.14509845]),\n",
       " 244.2323245509967,\n",
       " 243.3885614938479)"
      ]
     },
     "execution_count": 44,
     "metadata": {},
     "output_type": "execute_result"
    }
   ],
   "source": [
    "est_trans_vec, np.rad2deg(est_theta_x), np.rad2deg(true_theta_x)"
   ]
  },
  {
   "cell_type": "code",
   "execution_count": 45,
   "id": "6e2ef072-7aec-4be8-b957-af19df411ac7",
   "metadata": {},
   "outputs": [
    {
     "data": {
      "text/plain": [
       "array([[ 1.        ,  0.        ,  0.        ],\n",
       "       [ 0.        , -0.44793759,  0.89406483],\n",
       "       [ 0.        , -0.89406483, -0.44793759]])"
      ]
     },
     "execution_count": 45,
     "metadata": {},
     "output_type": "execute_result"
    }
   ],
   "source": [
    "rot_x(true_theta_x)"
   ]
  },
  {
   "cell_type": "code",
   "execution_count": 46,
   "id": "32dfcdc5-bd30-4bc4-b28d-7c08b77ed05e",
   "metadata": {},
   "outputs": [
    {
     "data": {
      "text/plain": [
       "array([[ 1.        ,  0.        ,  0.        ],\n",
       "       [ 0.        , -0.4347231 ,  0.90056417],\n",
       "       [ 0.        , -0.90056417, -0.4347231 ]])"
      ]
     },
     "execution_count": 46,
     "metadata": {},
     "output_type": "execute_result"
    }
   ],
   "source": [
    "rot_x(est_theta_x)"
   ]
  },
  {
   "cell_type": "code",
   "execution_count": 47,
   "id": "d0a71636-dfe7-466f-a06b-275ba1c37405",
   "metadata": {},
   "outputs": [
    {
     "data": {
      "text/plain": [
       "4.262658203214274"
      ]
     },
     "execution_count": 47,
     "metadata": {},
     "output_type": "execute_result"
    }
   ],
   "source": [
    "est_theta_x"
   ]
  },
  {
   "cell_type": "code",
   "execution_count": 48,
   "id": "5f6b4d13-27bc-44c1-a55c-5825d7ece93a",
   "metadata": {},
   "outputs": [
    {
     "data": {
      "text/plain": [
       "244.2323245509967"
      ]
     },
     "execution_count": 48,
     "metadata": {},
     "output_type": "execute_result"
    }
   ],
   "source": [
    "np.rad2deg(est_theta_x)"
   ]
  },
  {
   "cell_type": "code",
   "execution_count": 49,
   "id": "682a29c7-9ff5-4460-8a19-e74a789ffa8d",
   "metadata": {},
   "outputs": [
    {
     "data": {
      "text/plain": [
       "243.3885614938479"
      ]
     },
     "execution_count": 49,
     "metadata": {},
     "output_type": "execute_result"
    }
   ],
   "source": [
    "np.rad2deg(true_theta_x)"
   ]
  },
  {
   "cell_type": "code",
   "execution_count": null,
   "id": "4d619dd1-f0b3-4d87-89e5-9f402d09f5b0",
   "metadata": {},
   "outputs": [],
   "source": []
  },
  {
   "cell_type": "code",
   "execution_count": null,
   "id": "7ade4744-b712-442a-8d9d-841ede274db5",
   "metadata": {},
   "outputs": [],
   "source": []
  },
  {
   "cell_type": "code",
   "execution_count": 50,
   "id": "06dd1fe8-35f5-44b0-bde1-6567236934bf",
   "metadata": {},
   "outputs": [
    {
     "data": {
      "text/plain": [
       "4.262658203214274"
      ]
     },
     "execution_count": 50,
     "metadata": {},
     "output_type": "execute_result"
    }
   ],
   "source": [
    "est_theta_x"
   ]
  },
  {
   "cell_type": "code",
   "execution_count": 51,
   "id": "1937fe99-1f61-442c-8d45-c500ca6bf335",
   "metadata": {},
   "outputs": [
    {
     "data": {
      "text/plain": [
       "array([-1.51060822,  1.47331913,  1.14509845])"
      ]
     },
     "execution_count": 51,
     "metadata": {},
     "output_type": "execute_result"
    }
   ],
   "source": [
    "est_trans_vec"
   ]
  },
  {
   "cell_type": "code",
   "execution_count": 52,
   "id": "652ec52c-58f0-471f-946a-5267485d289c",
   "metadata": {},
   "outputs": [
    {
     "data": {
      "text/plain": [
       "array([-1.33375912,  1.30214425,  1.31281983])"
      ]
     },
     "execution_count": 52,
     "metadata": {},
     "output_type": "execute_result"
    }
   ],
   "source": [
    "true_trans_vec"
   ]
  },
  {
   "cell_type": "code",
   "execution_count": 53,
   "id": "2ef8e5ab-5999-43ab-bc29-0793495e1819",
   "metadata": {},
   "outputs": [
    {
     "data": {
      "text/plain": [
       "5.037827037954152e-14"
      ]
     },
     "execution_count": 53,
     "metadata": {},
     "output_type": "execute_result"
    }
   ],
   "source": [
    "np.sqrt(alpha_x**2 + beta_x**2) * np.sin(est_theta_x + gamma_x)"
   ]
  },
  {
   "cell_type": "code",
   "execution_count": 54,
   "id": "0272a599-8504-48d4-b60b-4168b66ce9b0",
   "metadata": {},
   "outputs": [
    {
     "data": {
      "text/plain": [
       "69.62406943783711"
      ]
     },
     "execution_count": 54,
     "metadata": {},
     "output_type": "execute_result"
    }
   ],
   "source": [
    "alpha_x * np.cos(est_theta_x) - beta_x * np.sin(est_theta_x)"
   ]
  },
  {
   "cell_type": "code",
   "execution_count": 55,
   "id": "970cedd5-905a-4306-8798-eda3c28bf7e2",
   "metadata": {},
   "outputs": [],
   "source": [
    "gamma_x = np.arccos(-beta_x / np.sqrt(alpha_x**2 + beta_x**2))\n",
    "candidate_est_theta_x = np.arange(3) * np.pi - gamma_x\n",
    "est_theta_x = min(candidate_est_theta_x[(0<=candidate_est_theta_x) & (candidate_est_theta_x <= 2*np.pi)].tolist())"
   ]
  },
  {
   "cell_type": "code",
   "execution_count": 56,
   "id": "2307eb68-5f98-4ee1-99c9-aca30376f454",
   "metadata": {},
   "outputs": [
    {
     "data": {
      "text/plain": [
       "243.3885614938479"
      ]
     },
     "execution_count": 56,
     "metadata": {},
     "output_type": "execute_result"
    }
   ],
   "source": [
    "np.rad2deg(true_theta_x)"
   ]
  },
  {
   "cell_type": "code",
   "execution_count": 57,
   "id": "2f37b9e4-32d5-415a-8e95-e582cc89ff02",
   "metadata": {},
   "outputs": [
    {
     "data": {
      "text/plain": [
       "64.23232455099672"
      ]
     },
     "execution_count": 57,
     "metadata": {},
     "output_type": "execute_result"
    }
   ],
   "source": [
    "np.rad2deg(est_theta_x)"
   ]
  },
  {
   "cell_type": "code",
   "execution_count": null,
   "id": "7cc60ed1-9051-49ca-8ed6-e5421e177993",
   "metadata": {},
   "outputs": [],
   "source": []
  },
  {
   "cell_type": "code",
   "execution_count": null,
   "id": "c7be6557-2b35-4a55-93e5-b295148a378e",
   "metadata": {},
   "outputs": [],
   "source": []
  },
  {
   "cell_type": "code",
   "execution_count": null,
   "id": "558656b7-80e5-4842-85c0-7471268a51ec",
   "metadata": {},
   "outputs": [],
   "source": []
  },
  {
   "cell_type": "code",
   "execution_count": null,
   "id": "815af3e4-e682-4d03-ad7d-e3796839e1b2",
   "metadata": {},
   "outputs": [],
   "source": []
  },
  {
   "cell_type": "code",
   "execution_count": null,
   "id": "fc47ec7e-ef0d-40b5-bfa5-276136e1bdba",
   "metadata": {},
   "outputs": [],
   "source": []
  },
  {
   "cell_type": "code",
   "execution_count": null,
   "id": "2db6d382-67e6-452c-b81a-444c26121cbf",
   "metadata": {},
   "outputs": [],
   "source": []
  }
 ],
 "metadata": {
  "kernelspec": {
   "display_name": "Python 3 (ipykernel)",
   "language": "python",
   "name": "python3"
  },
  "language_info": {
   "codemirror_mode": {
    "name": "ipython",
    "version": 3
   },
   "file_extension": ".py",
   "mimetype": "text/x-python",
   "name": "python",
   "nbconvert_exporter": "python",
   "pygments_lexer": "ipython3",
   "version": "3.12.4"
  }
 },
 "nbformat": 4,
 "nbformat_minor": 5
}

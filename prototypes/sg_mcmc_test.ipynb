{
 "cells": [
  {
   "cell_type": "markdown",
   "id": "424564df-36b4-41d7-a02d-9c4f76452054",
   "metadata": {},
   "source": [
    "# Test for estimation of Logistic regression by SG MCMC"
   ]
  },
  {
   "cell_type": "code",
   "execution_count": 9,
   "id": "9d041113-fe4c-442c-867a-14d1c34ffb72",
   "metadata": {},
   "outputs": [],
   "source": [
    "import numpy as np\n",
    "import scipy.special as ssp"
   ]
  },
  {
   "cell_type": "code",
   "execution_count": 5,
   "id": "3a39e333-be0f-4c6f-ac77-03150eafbd53",
   "metadata": {},
   "outputs": [],
   "source": [
    "n_sample = 100\n",
    "data_seed = 20240802\n",
    "\n",
    "M = 10"
   ]
  },
  {
   "cell_type": "markdown",
   "id": "0eacfd9c-9971-477d-8a6e-5e00dcc8f3d3",
   "metadata": {},
   "source": [
    "np.random.seed(data_seed)\n",
    "true_w = np.random.normal(size=M)\n",
    "train_X = np.random.normal(size=(n_sample, M))\n",
    "true_p = ssp.expit(train_X @ true_w)\n",
    "train_Y = (np.random.uniform(size=n_sample) < true_p).astype(int)"
   ]
  },
  {
   "cell_type": "markdown",
   "id": "5f4002b4-fa9f-4141-99cc-781517b3240b",
   "metadata": {},
   "source": [
    "# Learning"
   ]
  },
  {
   "cell_type": "code",
   "execution_count": 33,
   "id": "7e5a6cc4-ab17-46fd-ac06-a34c6652c81a",
   "metadata": {},
   "outputs": [],
   "source": [
    "def dlogp(train_X: np.ndarray, train_Y: np.ndarray, est_w: np.ndarray, pri_beta: float) -> np.ndarray:\n",
    "    \"\"\" calculate derivative of log p\n",
    "    \"\"\"\n",
    "    est_p = ssp.expit(train_X@est_w)\n",
    "    return (train_Y - est_p) @ train_X - pri_beta * est_w"
   ]
  },
  {
   "cell_type": "code",
   "execution_count": 49,
   "id": "08e6a84b-b4f5-40ba-be6d-4f31a0c78cac",
   "metadata": {},
   "outputs": [],
   "source": [
    "pri_beta = 0.001\n",
    "time_step = 0.1\n",
    "K = 100\n",
    "L = 1000\n",
    "ln_seed = 20230802"
   ]
  },
  {
   "cell_type": "code",
   "execution_count": 50,
   "id": "90220a80-74c5-414d-b101-0d8cdb6e7a08",
   "metadata": {},
   "outputs": [],
   "source": [
    "np.random.seed(ln_seed)"
   ]
  },
  {
   "cell_type": "code",
   "execution_count": 51,
   "id": "b8a78e5a-d68f-47d2-b87a-6f25694f1dff",
   "metadata": {},
   "outputs": [],
   "source": [
    "post_w = []\n",
    "for ite in range(L):\n",
    "    est_w = np.random.normal(size=M)\n",
    "    for k in range(K):\n",
    "        dE = dlogp(train_X, train_Y, est_w, pri_beta)\n",
    "        est_w += time_step * dE + np.sqrt(2*time_step) * np.random.normal(size=M)\n",
    "        pass\n",
    "    post_w.append(est_w)"
   ]
  },
  {
   "cell_type": "code",
   "execution_count": 54,
   "id": "21641b9d-c69e-412c-af38-7ed17b91f64d",
   "metadata": {},
   "outputs": [
    {
     "data": {
      "text/plain": [
       "array([-3.75981342,  1.51049736, -2.11663796, -1.21848046, -1.87539804,\n",
       "        0.40798306,  1.09147724, -4.16534617,  2.13457883, -1.70833484])"
      ]
     },
     "execution_count": 54,
     "metadata": {},
     "output_type": "execute_result"
    }
   ],
   "source": [
    "np.array(post_w).mean(axis = 0)"
   ]
  },
  {
   "cell_type": "code",
   "execution_count": 55,
   "id": "f91b61c7-184d-4df4-8765-3911ee2fd26c",
   "metadata": {},
   "outputs": [
    {
     "data": {
      "text/plain": [
       "array([-2.02588083,  0.62254118, -1.33538204, -0.1008201 , -1.82274825,\n",
       "        0.86196226, -0.03320596, -2.65577799,  1.04576374, -1.24776485])"
      ]
     },
     "execution_count": 55,
     "metadata": {},
     "output_type": "execute_result"
    }
   ],
   "source": [
    "true_w"
   ]
  },
  {
   "cell_type": "code",
   "execution_count": 42,
   "id": "ae4285a0-61fa-4fbe-9dfa-bab59ebc82bd",
   "metadata": {},
   "outputs": [
    {
     "data": {
      "text/plain": [
       "array([-4.4893283 ,  0.56070702, -1.86528631, -0.66822893, -2.09065585,\n",
       "        0.97869774,  1.06782702, -5.14621586,  1.49147957, -1.33249236])"
      ]
     },
     "execution_count": 42,
     "metadata": {},
     "output_type": "execute_result"
    }
   ],
   "source": [
    "est_w"
   ]
  },
  {
   "cell_type": "code",
   "execution_count": null,
   "id": "2b704c26-2a56-4b1b-ae93-d6e4162a51d3",
   "metadata": {},
   "outputs": [],
   "source": []
  }
 ],
 "metadata": {
  "kernelspec": {
   "display_name": "Python 3 (ipykernel)",
   "language": "python",
   "name": "python3"
  },
  "language_info": {
   "codemirror_mode": {
    "name": "ipython",
    "version": 3
   },
   "file_extension": ".py",
   "mimetype": "text/x-python",
   "name": "python",
   "nbconvert_exporter": "python",
   "pygments_lexer": "ipython3",
   "version": "3.12.4"
  }
 },
 "nbformat": 4,
 "nbformat_minor": 5
}

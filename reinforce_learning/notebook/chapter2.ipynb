{
 "cells": [
  {
   "cell_type": "markdown",
   "id": "144b3125-0846-47c9-a2f7-882961f8d2a1",
   "metadata": {},
   "source": [
    "# 価値反復法と反復方策法の実装\n",
    "+ 例1.5を基に2つの手法の実演を行う"
   ]
  },
  {
   "cell_type": "markdown",
   "id": "cb16c023-f847-4dd5-96f0-1a3784d58964",
   "metadata": {},
   "source": [
    "## 設定"
   ]
  },
  {
   "cell_type": "code",
   "execution_count": 1,
   "id": "43e3f631-e292-4440-9f1d-f4c4f4962c90",
   "metadata": {},
   "outputs": [],
   "source": [
    "%matplotlib inline"
   ]
  },
  {
   "cell_type": "code",
   "execution_count": 3,
   "id": "969810b7-3652-4645-8a4b-27ac6bb6a11a",
   "metadata": {},
   "outputs": [],
   "source": [
    "from typing import List, Optional\n",
    "\n",
    "import numpy as np\n",
    "import matplotlib.pyplot as plt"
   ]
  },
  {
   "cell_type": "markdown",
   "id": "451fa0c8-14aa-4591-9bc6-e396d00bb867",
   "metadata": {},
   "source": [
    "## 状態遷移確率と報酬の定義"
   ]
  },
  {
   "cell_type": "code",
   "execution_count": 9,
   "id": "1b9a6dea-1033-422b-8147-b6127965e1b7",
   "metadata": {},
   "outputs": [],
   "source": [
    "# 状態や行動は0始まりのindexと思って、状態と行動の数だけ設定\n",
    "n_state = 2\n",
    "n_action = 3\n",
    "\n",
    "# 状態遷移確率: P_t[i,j,k] = P_T(s'=i|s=j,a=k)とする\n",
    "P_t = np.zeros((n_state,n_state,n_action))\n",
    "P_t[0,0,0]=0.8\n",
    "P_t[1,0,0]=0.2\n",
    "P_t[0,0,1]=0\n",
    "P_t[1,0,1]=1\n",
    "P_t[0,0,2]=1\n",
    "P_t[1,0,2]=0\n",
    "P_t[0,1,0]=0\n",
    "P_t[1,1,0]=1\n",
    "# P_t[:,1,1:]は定義できないが一旦全部0にしておく\n",
    "\n",
    "# 報酬関数 G[i,j]=g(s=i, a=j)\n",
    "G = np.zeros((n_state, n_action))\n",
    "G[0,0]=5\n",
    "G[0,1]=10\n",
    "G[0,2]=2\n",
    "G[1,0]=1\n",
    "# G[1,1:]は定義できないが、一旦全部0にしておく"
   ]
  },
  {
   "cell_type": "markdown",
   "id": "41159d5c-66ae-40aa-ae09-6ae2622cd04e",
   "metadata": {},
   "source": [
    "# 価値反復法の実装\n",
    "+ 割引率、閾値を設定後、価値関数の初期値$v_1(s)$を決めて、$v_{n+1}(s')$を以下のように更新する\n",
    "$$\n",
    "v_{n+1}(s) = \\max_a \\{g(s,a) + \\gamma \\sum_{s'} P_T(s'|s,a)v_n(s')\\}\n",
    "$$\n",
    "\n",
    "+ 価値関数が収束していれば、以下の方法で決定方策$\\pi(s)$を決める\n",
    "$$\n",
    "\\pi(s) = arg\\max_a \\{g(s,a) + \\gamma \\sum_{s'} P_T(s'|s,a)v_{n+1}(s')\\}\n",
    "$$"
   ]
  },
  {
   "cell_type": "code",
   "execution_count": 10,
   "id": "75c11f01-6596-4f6c-b752-4a9c676c2b86",
   "metadata": {},
   "outputs": [],
   "source": [
    "# 繰り返しが収束しない場合のループの上限\n",
    "max_loop = 1000"
   ]
  },
  {
   "cell_type": "code",
   "execution_count": 11,
   "id": "22271019-e2fd-4e3d-91d5-c19b5dd1aa21",
   "metadata": {},
   "outputs": [],
   "source": [
    "def value_iter_method(\n",
    "    n_state: int,\n",
    "    n_action: int,\n",
    "    P_t: np.ndarray,\n",
    "    G: np.ndarray,\n",
    "    gamma: float,\n",
    "    eps: float,\n",
    "    max_loop: int = 1000,\n",
    "    convergence_method: str = \"inf_norm\"\n",
    ") -> (Optional[np.ndarray], Optional[np.ndarray], List[float], List[np.ndarray]):\n",
    "    \"\"\"　価値反復法の実装\n",
    "    収束判定は教科書では2つ考えてあるので、それぞれの手法で判定を行えるようにしている\n",
    "\n",
    "    + 入力:\n",
    "        1. n_state: 状態数\n",
    "        2. n_action: 行動数\n",
    "        3: P_t: 状態遷移確率, 次状態×今状態×今行動の行列が入っている想定\n",
    "        4: G: 報酬関数, 状態×行動の行列が入っている想定\n",
    "        5. gamma: 割引率 \\in [0, 1)\n",
    "        6. eps: 収束判定で用いる閾値\n",
    "        7. max_loop: 収束しない場合の設定, 大きい値を設定すればよい, max_loopまで更新したときは、警告出しても良いかも\n",
    "        8. convergence_method: 収束判定に使っている評価値を設定するための文字列\n",
    "            - convergence_method='inf_norm'の場合: 更新前後の状態関数(ベクトル)の最大値ノルムで評価する\n",
    "            - convergence_method='min_max'の場合: 更新前後の状態関数(ベクトル)の最小の差と最大の差の差分で評価する\n",
    "    + 出力: \n",
    "        1. est_value_vec: 推定された最適価値関数, 評価値が収束しない場合None\n",
    "        2. est_pi_s: 推定された最適方策, 評価値が収束しない場合None\n",
    "        3. convergence_val_history: convergence_method毎に計算された評価値の推移, デバッグ用\n",
    "        4. value_func_history: 推定された最適価値関数の推移, デバッグ用\n",
    "\n",
    "    Remark: 状態関数の初期値(curr_value_vec)を全部0に固定しているが、色々変えられるようにした方が良い\n",
    "    \"\"\"\n",
    "    # convergence_methodが意図したものでない場合例外を投げる\n",
    "    if convergence_method not in ('inf_norm', 'min_max'):\n",
    "        raise ValueError(f\"convergence_method is either 'abs' or 'min_max', convergence_method = '{convergence_method}'\")\n",
    "        \n",
    "    # 初期設定\n",
    "    curr_value_vec = np.zeros(n_state)\n",
    "    convergence_val_history = []\n",
    "    value_vec_history = []\n",
    "    \n",
    "    # 推定された価値関数と方策は収束しない場合は、Noneとする\n",
    "    est_value_vec = None\n",
    "    est_pi_s = None\n",
    "    \n",
    "    for ite in range(max_loop):\n",
    "        # 価値関数の更新\n",
    "        # print(curr_value_vec)\n",
    "        # print(P_t * curr_value_vec[:,np.newaxis,np.newaxis])\n",
    "        next_value_vec = (\n",
    "            G # 状態×行動\n",
    "            + gamma * (\n",
    "                P_t * curr_value_vec[:,np.newaxis,np.newaxis] # value_vecをブローキャストして次状態×今状態×行動の行列を作る\n",
    "            ).sum(axis=0) # 次状態を集約\n",
    "        ).max(axis=1)\n",
    "        print(next_value_vec)\n",
    "\n",
    "        # 収束判定の評価値計算\n",
    "        if convergence_method == \"inf_norm\":\n",
    "            # inf normで評価\n",
    "            convergence_val = np.abs(curr_value_vec - next_value_vec).max()\n",
    "            pass\n",
    "        elif convergence_method == \"min_max\":\n",
    "            # 状態関数の差の最大、最小の差で評価\n",
    "            dvalue_vec = next_value_vec - curr_value_vec\n",
    "            convergence_val = (dvalue_vec).max() - (dvalue_vec).min()\n",
    "            pass\n",
    "        else:\n",
    "            # 最初に例外投げているが、convergence_methodが増えても大丈夫なように想定外なら例外を投げるようにしておく\n",
    "            raise ValueError(f\"convergence_method is either 'abs' or 'min_max', convergence_method = '{convergence_method}'\")\n",
    "\n",
    "        # 計算結果の過程をリストに残す\n",
    "        value_vec_history.append(next_value_vec)\n",
    "        convergence_val_history.append(convergence_val)\n",
    "\n",
    "        # 収束判定, 評価値が閾値以下なら方策も計算して、ループを抜ける\n",
    "        if convergence_val_history[-1] < threshold:\n",
    "            est_value_vec = next_value_vec\n",
    "            est_pi_s = np.argmax(G + gamma * (P_t * est_value_vec[:,np.newaxis,np.newaxis]).sum(axis=0), axis=1)\n",
    "            break\n",
    "        else:\n",
    "            curr_value_vec = next_value_vec\n",
    "        pass\n",
    "    return est_value_vec, est_pi_s, convergence_val_history, value_vec_history\n",
    "    pass"
   ]
  },
  {
   "cell_type": "code",
   "execution_count": 12,
   "id": "80b8a0c9-11e8-4813-a5fc-d1b4e386df88",
   "metadata": {},
   "outputs": [
    {
     "name": "stdout",
     "output_type": "stream",
     "text": [
      "[10.  1.]\n"
     ]
    },
    {
     "data": {
      "text/plain": [
       "(None, None)"
      ]
     },
     "execution_count": 12,
     "metadata": {},
     "output_type": "execute_result"
    }
   ],
   "source": [
    "# ハイパーパラメータの設定\n",
    "gamma = 0.9\n",
    "threshold = 0.1\n",
    "\n",
    "est_value_func, est_pi_s, _, _ = value_iter_method(\n",
    "    n_state=n_state,\n",
    "    n_action=n_action,\n",
    "    P_t=P_t,\n",
    "    G=G,\n",
    "    gamma=gamma,\n",
    "    eps=threshold,\n",
    "    max_loop=1,\n",
    ")\n",
    "est_value_func, est_pi_s"
   ]
  },
  {
   "cell_type": "code",
   "execution_count": 13,
   "id": "1680bb70-151a-4c44-82d7-5ea92edaf2e7",
   "metadata": {
    "scrolled": true
   },
   "outputs": [
    {
     "name": "stdout",
     "output_type": "stream",
     "text": [
      "[10.  1.]\n",
      "[12.38  1.9 ]\n",
      "[14.2556  2.71  ]\n",
      "[15.751832  3.439   ]\n",
      "[16.96033904  4.0951    ]\n",
      "[17.94856211  4.68559   ]\n",
      "[18.76637092  5.217031  ]\n",
      "[19.45085264  5.6953279 ]\n",
      "[20.02977292  6.12579511]\n",
      "[20.52407962  6.5132156 ]\n",
      "[20.94971614  6.86189404]\n",
      "[21.31893655  7.17570464]\n",
      "[21.64126115  7.45813417]\n",
      "[21.92417218  7.71232075]\n",
      "[22.1736217   7.94108868]\n",
      "[22.39440359  8.14697981]\n",
      "[22.59042695  8.33228183]\n",
      "[22.76491813  8.49905365]\n",
      "[22.92057071  8.64914828]\n",
      "[23.0596576   8.78423345]\n",
      "[23.1841155   8.90581011]\n",
      "[23.29560898  9.0152291 ]\n",
      "[23.3955797   9.11370619]\n"
     ]
    },
    {
     "data": {
      "text/plain": [
       "(array([23.3955797 ,  9.11370619]), array([0, 0], dtype=int64))"
      ]
     },
     "execution_count": 13,
     "metadata": {},
     "output_type": "execute_result"
    }
   ],
   "source": [
    "# ハイパーパラメータの設定\n",
    "gamma = 0.9\n",
    "threshold = 0.1\n",
    "\n",
    "est_value_func, est_pi_s, _, _ = value_iter_method(\n",
    "    n_state=n_state,\n",
    "    n_action=n_action,\n",
    "    P_t=P_t,\n",
    "    G=G,\n",
    "    gamma=gamma,\n",
    "    eps=threshold,\n",
    "    max_loop=max_loop,\n",
    ")\n",
    "est_value_func, est_pi_s"
   ]
  },
  {
   "cell_type": "code",
   "execution_count": 14,
   "id": "1b9ec08a-fa47-4623-a325-2309fbcbbe84",
   "metadata": {
    "scrolled": true
   },
   "outputs": [
    {
     "name": "stdout",
     "output_type": "stream",
     "text": [
      "[10.  1.]\n",
      "[12.79  1.95]\n",
      "[15.0909  2.8525]\n",
      "[17.011059  3.709875]\n",
      "[18.63328109  4.52438125]\n",
      "[20.02092607  5.29816219]\n",
      "[21.22255463  6.03325408]\n",
      "[22.27545979  6.73159137]\n",
      "[23.2083518   7.39501181]\n",
      "[24.04793421  8.02526122]\n",
      "[24.8455375   8.62399815]\n",
      "[25.60326063  9.19279825]\n",
      "[26.32309759  9.73315833]\n",
      "[27.00694272 10.24650042]\n",
      "[27.65659558 10.7341754 ]\n",
      "[28.2737658  11.19746663]\n",
      "[28.86007751 11.6375933 ]\n",
      "[29.41707363 12.05571363]\n",
      "[29.94621995 12.45292795]\n",
      "[30.44890896 12.83028155]\n",
      "[30.92646351 13.18876747]\n",
      "[31.38014033 13.5293291 ]\n",
      "[31.81113332 13.85286265]\n",
      "[32.22057665 14.16021951]\n",
      "[32.60954782 14.45220854]\n",
      "[32.97907043 14.72959811]\n",
      "[33.33011691 14.99311821]\n",
      "[33.66361106 15.24346229]\n",
      "[33.98043051 15.48128918]\n",
      "[34.28140898 15.70722472]\n",
      "[34.56733853 15.92186349]\n",
      "[34.83897161 16.12577031]\n",
      "[35.09702303 16.3194818 ]\n",
      "[35.34217187 16.50350771]\n",
      "[35.57506328 16.67833232]\n",
      "[35.79631012 16.8444157 ]\n",
      "[36.00649461 17.00219492]\n",
      "[36.20616988 17.15208517]\n",
      "[36.39586139 17.29448091]\n",
      "[36.57606832 17.42975687]\n",
      "[36.7472649  17.55826903]\n",
      "[36.90990166 17.68035557]\n",
      "[37.06440657 17.7963378 ]\n",
      "[37.21118624 17.90652091]\n",
      "[37.35062693 18.01119486]\n",
      "[37.48309559 18.11063512]\n",
      "[37.60894081 18.20510336]\n",
      "[37.72849377 18.29484819]\n",
      "[37.84206908 18.38010578]\n",
      "[37.94996562 18.46110049]\n",
      "[38.05246734 18.53804547]\n",
      "[38.14984398 18.6111432 ]\n"
     ]
    },
    {
     "data": {
      "text/plain": [
       "(array([38.14984398, 18.6111432 ]), array([2, 0], dtype=int64))"
      ]
     },
     "execution_count": 14,
     "metadata": {},
     "output_type": "execute_result"
    }
   ],
   "source": [
    "# ハイパーパラメータの設定\n",
    "gamma = 0.95\n",
    "threshold = 0.1\n",
    "\n",
    "est_value_func, est_pi_s, _, _ = value_iter_method(\n",
    "    n_state=n_state,\n",
    "    n_action=n_action,\n",
    "    P_t=P_t,\n",
    "    G=G,\n",
    "    gamma=gamma,\n",
    "    eps=threshold,\n",
    "    max_loop=max_loop,\n",
    ")\n",
    "est_value_func, est_pi_s"
   ]
  },
  {
   "cell_type": "code",
   "execution_count": 15,
   "id": "4286efbf-9ce3-4ac3-8ecf-4621c551e296",
   "metadata": {
    "scrolled": true
   },
   "outputs": [
    {
     "name": "stdout",
     "output_type": "stream",
     "text": [
      "[10.  1.]\n",
      "[12.79  1.95]\n",
      "[15.0909  2.8525]\n",
      "[17.011059  3.709875]\n",
      "[18.63328109  4.52438125]\n",
      "[20.02092607  5.29816219]\n",
      "[21.22255463  6.03325408]\n",
      "[22.27545979  6.73159137]\n",
      "[23.2083518   7.39501181]\n",
      "[24.04793421  8.02526122]\n",
      "[24.8455375   8.62399815]\n",
      "[25.60326063  9.19279825]\n",
      "[26.32309759  9.73315833]\n",
      "[27.00694272 10.24650042]\n",
      "[27.65659558 10.7341754 ]\n",
      "[28.2737658  11.19746663]\n",
      "[28.86007751 11.6375933 ]\n",
      "[29.41707363 12.05571363]\n",
      "[29.94621995 12.45292795]\n",
      "[30.44890896 12.83028155]\n",
      "[30.92646351 13.18876747]\n",
      "[31.38014033 13.5293291 ]\n",
      "[31.81113332 13.85286265]\n",
      "[32.22057665 14.16021951]\n",
      "[32.60954782 14.45220854]\n",
      "[32.97907043 14.72959811]\n",
      "[33.33011691 14.99311821]\n",
      "[33.66361106 15.24346229]\n",
      "[33.98043051 15.48128918]\n",
      "[34.28140898 15.70722472]\n",
      "[34.56733853 15.92186349]\n",
      "[34.83897161 16.12577031]\n",
      "[35.09702303 16.3194818 ]\n",
      "[35.34217187 16.50350771]\n",
      "[35.57506328 16.67833232]\n",
      "[35.79631012 16.8444157 ]\n",
      "[36.00649461 17.00219492]\n",
      "[36.20616988 17.15208517]\n",
      "[36.39586139 17.29448091]\n",
      "[36.57606832 17.42975687]\n",
      "[36.7472649  17.55826903]\n",
      "[36.90990166 17.68035557]\n",
      "[37.06440657 17.7963378 ]\n",
      "[37.21118624 17.90652091]\n",
      "[37.35062693 18.01119486]\n",
      "[37.48309559 18.11063512]\n",
      "[37.60894081 18.20510336]\n",
      "[37.72849377 18.29484819]\n",
      "[37.84206908 18.38010578]\n",
      "[37.94996562 18.46110049]\n",
      "[38.05246734 18.53804547]\n",
      "[38.14984398 18.6111432 ]\n",
      "52\n"
     ]
    },
    {
     "data": {
      "image/png": "[encoded data removed]",
      "text/plain": [
       "<Figure size 640x480 with 1 Axes>"
      ]
     },
     "metadata": {},
     "output_type": "display_data"
    }
   ],
   "source": [
    "# ハイパーパラメータの設定\n",
    "gamma = 0.95\n",
    "threshold = 0.1\n",
    "\n",
    "(_, _, _, history_value_vec) = value_iter_method(\n",
    "    n_state=n_state,\n",
    "    n_action=n_action,\n",
    "    P_t=P_t,\n",
    "    G=G,\n",
    "    gamma=gamma,\n",
    "    eps=threshold,\n",
    "    max_loop=max_loop,\n",
    "    convergence_method=\"inf_norm\",\n",
    ")\n",
    "\n",
    "print(len(history_value_vec))\n",
    "\n",
    "plt.plot(np.array(history_value_vec)[:,0])\n",
    "plt.plot(np.array(history_value_vec)[:,1])\n",
    "plt.show()"
   ]
  },
  {
   "cell_type": "code",
   "execution_count": 16,
   "id": "e62c03d5-e93e-46fc-b6a6-0c3db353224c",
   "metadata": {
    "scrolled": true
   },
   "outputs": [
    {
     "name": "stdout",
     "output_type": "stream",
     "text": [
      "[10.  1.]\n",
      "[12.79  1.95]\n",
      "[15.0909  2.8525]\n",
      "[17.011059  3.709875]\n",
      "[18.63328109  4.52438125]\n",
      "[20.02092607  5.29816219]\n",
      "[21.22255463  6.03325408]\n",
      "[22.27545979  6.73159137]\n",
      "[23.2083518   7.39501181]\n",
      "[24.04793421  8.02526122]\n",
      "[24.8455375   8.62399815]\n",
      "[25.60326063  9.19279825]\n",
      "[26.32309759  9.73315833]\n",
      "[27.00694272 10.24650042]\n",
      "[27.65659558 10.7341754 ]\n",
      "[28.2737658  11.19746663]\n",
      "[28.86007751 11.6375933 ]\n",
      "[29.41707363 12.05571363]\n",
      "[29.94621995 12.45292795]\n",
      "[30.44890896 12.83028155]\n",
      "[30.92646351 13.18876747]\n",
      "[31.38014033 13.5293291 ]\n",
      "[31.81113332 13.85286265]\n",
      "[32.22057665 14.16021951]\n",
      "[32.60954782 14.45220854]\n",
      "25\n"
     ]
    },
    {
     "data": {
      "image/png": "[encoded data removed]",
      "text/plain": [
       "<Figure size 640x480 with 1 Axes>"
      ]
     },
     "metadata": {},
     "output_type": "display_data"
    }
   ],
   "source": [
    "# ハイパーパラメータの設定\n",
    "gamma = 0.95\n",
    "threshold = 0.1\n",
    "\n",
    "(_, _, _, history_value_vec) = value_iter_method(\n",
    "    n_state=n_state,\n",
    "    n_action=n_action,\n",
    "    P_t=P_t,\n",
    "    G=G,\n",
    "    gamma=gamma,\n",
    "    eps=threshold,\n",
    "    max_loop=max_loop,\n",
    "    convergence_method=\"min_max\",\n",
    ")\n",
    "print(len(history_value_vec))\n",
    "\n",
    "plt.plot(np.array(history_value_vec)[:,0])\n",
    "plt.plot(np.array(history_value_vec)[:,1])\n",
    "plt.show()"
   ]
  },
  {
   "cell_type": "code",
   "execution_count": null,
   "id": "559aa54e-85e3-4508-acb5-e7038e95d534",
   "metadata": {},
   "outputs": [],
   "source": []
  },
  {
   "cell_type": "markdown",
   "id": "49d553cd-6d50-42e1-9ce7-cf72f48b274b",
   "metadata": {},
   "source": [
    "# 方策反復法の実装\n",
    "## アルゴリズム\n",
    "+ 以下の1-4を実行する\n",
    "1. 初期の決定方策$\\pi^d_1$($|S|$個の要素のベクトル)を決める。\n",
    "2. 決定方策$\\pi^d_n$から期待ベルマン方程式から期待価値関数$V^{\\pi^d_n}$($|S|$個の要素のベクトル)を計算する。$|S|$個の連立方程式を解けばよい:\n",
    "$$\n",
    "V^{\\pi^d_n}(s)=g(s,\\pi^d_n(s)) + \\gamma \\sum_{s'} p_T(s'|s,\\pi^d_n(s))) V^{\\pi^d_n}(s), for each s\n",
    "$$\n",
    "3. 改善方策$\\pi^{d}_{n+1}(s)$を求める:\n",
    "$$\n",
    "\\pi^{d}_{n+1}(s)=arg\\max_a \\{g(s,a) + \\gamma \\sum_{s'} p_T(s'|s,a)V^{\\pi^d_n}(s')\\}\n",
    "$$\n",
    "4. 収束判定: $\\pi^d_n(s)=\\pi^d_{n+1}(s), \\forall s$であるならば、終了, そうでなければn=n+1として2に戻る\n"
   ]
  },
  {
   "cell_type": "code",
   "execution_count": 17,
   "id": "275895ef-f47a-4601-aaa0-d545795605e9",
   "metadata": {},
   "outputs": [],
   "source": [
    "def policy_iter_method(\n",
    "    n_state: int,\n",
    "    n_action: int,\n",
    "    P_t: np.ndarray,\n",
    "    G: np.ndarray,\n",
    "    gamma: float,\n",
    "    max_loop: int = 1000,\n",
    "    init_pi_s: Optional[np.ndarray] = None\n",
    ") -> (np.ndarray, Optional[np.ndarray], List[float], List[np.ndarray]):\n",
    "    \"\"\"　方策反復法の実装\n",
    "\n",
    "    + 入力:\n",
    "        1. n_state: 状態数\n",
    "        2. n_action: 行動数\n",
    "        3: P_t: 状態遷移確率, 次状態×今状態×今行動の行列が入っている想定\n",
    "        4: G: 報酬関数, 状態×行動の行列が入っている想定\n",
    "        5. gamma: 割引率 \\in [0, 1)\n",
    "        6. max_loop: 収束しない場合の設定, 大きい値を設定すればよい, max_loopまで更新したときは、警告出しても良いかも\n",
    "        7. init_pi_s: 決定方策の初期値, Noneの場合、全ての状態で0番の行動を選ぶこととする\n",
    "        \n",
    "    + 出力: \n",
    "        1. est_V_pi: 推定された最適価値関数\n",
    "        2. est_pi_s: 推定された最適方策, 評価値が収束しない場合None\n",
    "        3. pi_s_history: 各ステップで得られた推定された最適方策の推移, デバッグ用\n",
    "        4. value_func_history: 各ステップで得られた推定された最適価値関数の推移, デバッグ用\n",
    "    \"\"\"\n",
    "    # 各結果の推移を記録する変数の設定\n",
    "    V_pi_history = []\n",
    "    pi_s_history = []\n",
    "    est_pi_s = None\n",
    "    \n",
    "    # 決定方策の初期化\n",
    "    curr_pi_s = init_pi_s if init_pi_s is not None else np.zeros(n_state, dtype=int)\n",
    "    for _ in range(max_loop):\n",
    "        # 期待価値関数の計算\n",
    "        #  - gamma*P_t[np.arange(n_state), :, curr_pi_s]\n",
    "        est_V_pi = np.linalg.solve(\n",
    "            np.eye(n_state) - gamma*np.vstack([P_t[:,i,curr_pi_s[i]] for i in range(n_state)]), # 今状態×次状態の行列にしたいので、次状態を列方向に並べる\n",
    "            np.array([G[i, curr_pi_s[i]] for i in range(n_state)]),\n",
    "        )\n",
    "        print(est_V_pi)\n",
    "        \n",
    "        # 改善方策の計算\n",
    "        next_pi_s = np.argmax(\n",
    "            G # g(s,a)部分\n",
    "            + gamma * (P_t * est_V_pi[:,np.newaxis, np.newaxis]).sum(axis=0), # sum_{s'}...の部分\n",
    "            axis=1,\n",
    "        ).astype(int)\n",
    "    \n",
    "        # 計算過程の記録\n",
    "        V_pi_history.append(est_V_pi)\n",
    "        pi_s_history.append(next_pi_s)\n",
    "    \n",
    "        # 収束判定\n",
    "        if (next_pi_s == curr_pi_s).all():\n",
    "            est_pi_s = next_pi_s\n",
    "            break\n",
    "        else:\n",
    "            curr_pi_s = next_pi_s\n",
    "\n",
    "    return(est_V_pi, est_pi_s, pi_s_history, V_pi_history)"
   ]
  },
  {
   "cell_type": "code",
   "execution_count": 18,
   "id": "b7db9ff3-afd5-417b-95bd-5f2bd36defb0",
   "metadata": {},
   "outputs": [
    {
     "name": "stdout",
     "output_type": "stream",
     "text": [
      "[24.28571429 10.        ]\n"
     ]
    },
    {
     "data": {
      "text/plain": [
       "(array([24.28571429, 10.        ]),\n",
       " array([0, 0]),\n",
       " [array([0, 0])],\n",
       " [array([24.28571429, 10.        ])])"
      ]
     },
     "execution_count": 18,
     "metadata": {},
     "output_type": "execute_result"
    }
   ],
   "source": [
    "gamma = 0.9\n",
    "max_loop = 1000\n",
    "\n",
    "policy_iter_method(\n",
    "    n_state=n_state,\n",
    "    n_action=n_action,\n",
    "    P_t=P_t,\n",
    "    G=G,\n",
    "    gamma=gamma,\n",
    "    max_loop=max_loop,\n",
    ")"
   ]
  },
  {
   "cell_type": "code",
   "execution_count": 19,
   "id": "e2af59da-59e9-4321-995f-742602bba54a",
   "metadata": {},
   "outputs": [
    {
     "name": "stdout",
     "output_type": "stream",
     "text": [
      "[[0.8 0.2]\n",
      " [0.  1. ]]\n"
     ]
    },
    {
     "data": {
      "text/plain": [
       "(array([24.28571429, 10.        ]),\n",
       " array([0, 0]),\n",
       " [array([0, 0])],\n",
       " [array([24.28571429, 10.        ])])"
      ]
     },
     "execution_count": 19,
     "metadata": {},
     "output_type": "execute_result"
    }
   ],
   "source": [
    "gamma = 0.9\n",
    "max_loop = 1000\n",
    "\n",
    "policy_iter_method(\n",
    "    n_state=n_state,\n",
    "    n_action=n_action,\n",
    "    P_t=P_t,\n",
    "    G=G,\n",
    "    gamma=gamma,\n",
    "    max_loop=max_loop,\n",
    ")"
   ]
  },
  {
   "cell_type": "code",
   "execution_count": 12,
   "id": "d10cea1e-0727-49d4-ad1c-a10a4fcf8578",
   "metadata": {},
   "outputs": [
    {
     "data": {
      "text/plain": [
       "(array([11.,  2.]),\n",
       " array([1, 0]),\n",
       " [array([1, 0]), array([1, 0])],\n",
       " [array([8.66666667, 2.        ]), array([11.,  2.])])"
      ]
     },
     "execution_count": 12,
     "metadata": {},
     "output_type": "execute_result"
    }
   ],
   "source": [
    "gamma = 0.5\n",
    "max_loop = 1000\n",
    "\n",
    "policy_iter_method(\n",
    "    n_state=n_state,\n",
    "    n_action=n_action,\n",
    "    P_t=P_t,\n",
    "    G=G,\n",
    "    gamma=gamma,\n",
    "    max_loop=max_loop,\n",
    ")"
   ]
  },
  {
   "cell_type": "code",
   "execution_count": 13,
   "id": "fdc3ad3e-8934-4068-aeb9-4cab48d8813f",
   "metadata": {},
   "outputs": [
    {
     "data": {
      "text/plain": [
       "(array([40., 20.]),\n",
       " array([2, 0]),\n",
       " [array([2, 0]), array([2, 0])],\n",
       " [array([36.66666667, 20.        ]), array([40., 20.])])"
      ]
     },
     "execution_count": 13,
     "metadata": {},
     "output_type": "execute_result"
    }
   ],
   "source": [
    "gamma = 0.95\n",
    "max_loop = 1000\n",
    "\n",
    "policy_iter_method(\n",
    "    n_state=n_state,\n",
    "    n_action=n_action,\n",
    "    P_t=P_t,\n",
    "    G=G,\n",
    "    gamma=gamma,\n",
    "    max_loop=max_loop,\n",
    ")"
   ]
  },
  {
   "cell_type": "code",
   "execution_count": null,
   "id": "f885a7df-aa59-4cd8-afbd-708d33db90df",
   "metadata": {},
   "outputs": [],
   "source": []
  },
  {
   "cell_type": "code",
   "execution_count": null,
   "id": "1bf674c1-a8c8-41f5-9e89-0e5984ed9cfe",
   "metadata": {},
   "outputs": [],
   "source": []
  },
  {
   "cell_type": "code",
   "execution_count": null,
   "id": "d6685c0c-59ac-4de5-95fa-ef6cdf3774e5",
   "metadata": {},
   "outputs": [],
   "source": []
  },
  {
   "cell_type": "code",
   "execution_count": null,
   "id": "d925da3b-ad05-49ad-9c23-af3ed39a324a",
   "metadata": {},
   "outputs": [],
   "source": []
  },
  {
   "cell_type": "markdown",
   "id": "eaf828c0-6119-4753-aa35-8d781c162598",
   "metadata": {},
   "source": [
    "# 試行錯誤の跡"
   ]
  },
  {
   "cell_type": "code",
   "execution_count": null,
   "id": "a2e3376e-2731-4772-87e2-0b49e238ab40",
   "metadata": {},
   "outputs": [],
   "source": [
    "# # 各結果の推移を記録する変数の設定\n",
    "# V_pi_history = []\n",
    "# pi_s_history = []\n",
    "\n",
    "# # 決定方策の初期化\n",
    "# curr_pi_s = np.zeros(n_state, dtype=int) + 2\n",
    "\n",
    "# for _ in range(max_loop):\n",
    "#     # 期待価値関数の計算\n",
    "#     #  - gamma*P_t[np.arange(n_state), :, curr_pi_s]\n",
    "#     est_V_pi = np.linalg.solve(\n",
    "#         np.eye(n_state) - gamma*np.vstack([P_t[:,i,curr_pi_s[i]] for i in range(n_state)]), # 今状態×次状態の行列にしたいので、次状態を列方向に並べている\n",
    "#         np.array([G[i, curr_pi_s[i]] for i in range(n_state)]),\n",
    "#     )\n",
    "    \n",
    "#     # 改善方策の計算\n",
    "#     next_pi_s = np.argmax(\n",
    "#         G # g(s,a)部分\n",
    "#         + gamma * (P_t * est_V_pi[:,np.newaxis, np.newaxis]).sum(axis=0), # sum_{s'}...の部分\n",
    "#         axis=1,\n",
    "#     ).astype(int)\n",
    "\n",
    "#     # 計算過程の記録\n",
    "#     V_pi_history.append(est_V_pi)\n",
    "#     pi_s_history.append(next_pi_s)\n",
    "\n",
    "#     # 収束判定\n",
    "#     if (next_pi_s == curr_pi_s).all():\n",
    "#         break\n",
    "#     else:\n",
    "#         curr_pi_s = next_pi_s\n",
    "\n",
    "# V_pi_history\n",
    "\n",
    "# pi_s_history\n",
    "\n",
    "\n",
    "\n",
    "# G.shape\n",
    "\n",
    "# curr_pi_s\n",
    "\n",
    "# P_t.shape\n",
    "\n",
    "# # 初期設定\n",
    "# curr_value_vec = np.zeros(n_state)\n",
    "# inf_norm_history = []\n",
    "# value_vec_history = []\n",
    "\n",
    "# # 推定された価値関数と方策は収束しない場合は、Noneとする\n",
    "# est_value_vec = None\n",
    "# est_pi_s = None\n",
    "\n",
    "# for ite in range(max_loop):\n",
    "#     # 価値関数の更新\n",
    "#     next_value_vec = (\n",
    "#         G # 状態×行動\n",
    "#         + gamma * (\n",
    "#             P_t * curr_value_vec[:,np.newaxis,np.newaxis] # value_vecをブローキャストして次状態×今状態×行動の行列を作る\n",
    "#         ).sum(axis=0) # 次状態を集約\n",
    "#     ).max(axis=1)\n",
    "#     # 現在の状態と前の状態のinf normを格納しておく\n",
    "#     inf_norm_history.append(np.abs(curr_value_vec - next_value_vec).max())\n",
    "#     value_vec_history.append(next_value_vec)\n",
    "\n",
    "#     # 収束判定\n",
    "#     if inf_norm_history[-1] < threshold:\n",
    "#         est_value_vec = next_value_vec\n",
    "#         est_pi_s = np.argmax(G + gamma * (P_t * est_value_vec[:,np.newaxis,np.newaxis]).sum(axis=0), axis=1)\n",
    "#         break\n",
    "#     else:\n",
    "#         curr_value_vec = next_value_vec\n",
    "\n",
    "# value_vec_history\n",
    "\n",
    "# est_pi_s\n",
    "\n",
    "# est_value_vec\n",
    "\n",
    "# plt.plot(inf_norm_history)\n",
    "\n",
    "# np.abs(curr_value_vec - next_value_vec).max()\n",
    "\n",
    "# # [\n",
    "# #     G[s,:] + gamma * (P_t[:,s,:] * value_vec[:,np.newaxis]).sum(axis=0)\n",
    "# #     for s in range(n_state)\n",
    "# # ]\n",
    "\n"
   ]
  }
 ],
 "metadata": {
  "kernelspec": {
   "display_name": "Python 3 (ipykernel)",
   "language": "python",
   "name": "python3"
  },
  "language_info": {
   "codemirror_mode": {
    "name": "ipython",
    "version": 3
   },
   "file_extension": ".py",
   "mimetype": "text/x-python",
   "name": "python",
   "nbconvert_exporter": "python",
   "pygments_lexer": "ipython3",
   "version": "3.11.7"
  }
 },
 "nbformat": 4,
 "nbformat_minor": 5
}

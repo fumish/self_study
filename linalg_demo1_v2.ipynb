{
 "cells": [
  {
   "cell_type": "markdown",
   "metadata": {},
   "source": [
    "# 技術者のための線形代数学 1章 デモ\n",
    "1. 1次変換\n",
    "    + 行列の要素を色々変更するとどうなるか\n",
    "\n",
    "2. 固有値関連の内容\n",
    "\n",
    "3. 最小二乗法"
   ]
  },
  {
   "cell_type": "code",
   "execution_count": 1,
   "metadata": {},
   "outputs": [],
   "source": [
    "import numpy as np\n",
    "import matplotlib.pyplot as plt\n",
    "from ipywidgets import interact"
   ]
  },
  {
   "cell_type": "markdown",
   "metadata": {},
   "source": [
    "# 1次変換\n",
    "+ 教科書から1次変換は\n",
    "$$\n",
    "\\left[\\begin{array}{c}\n",
    "    x' \\\\\n",
    "    y' \\\\\n",
    "\\end{array}\\right] = \n",
    "A\n",
    "\\left[\\begin{array}{c}\n",
    "    x \\\\\n",
    "    y \\\\\n",
    "\\end{array}\\right]\n",
    "$$\n",
    "ここでは、画像の拡大、せん断、回転を見てみる"
   ]
  },
  {
   "cell_type": "code",
   "execution_count": 2,
   "metadata": {},
   "outputs": [],
   "source": [
    "X = np.array([[0,0,0,0,0,0,0],[0,1,1,1,1,1,0],[0,0,0,1,0,0,0],[0,0,0,1,0,0,0],[0,0,0,1,0,0,0],[0,0,0,1,0,0,0],[0,0,0,0,0,0,0]])\n",
    "(pos_x, pos_y) = np.where(X == 1)"
   ]
  },
  {
   "cell_type": "markdown",
   "metadata": {},
   "source": [
    "## 対象となる画像:"
   ]
  },
  {
   "cell_type": "code",
   "execution_count": 3,
   "metadata": {},
   "outputs": [
    {
     "data": {
      "image/png": "[encoded data removed]",
      "text/plain": [
       "<Figure size 432x288 with 1 Axes>"
      ]
     },
     "metadata": {
      "needs_background": "light"
     },
     "output_type": "display_data"
    }
   ],
   "source": [
    "plt.imshow(X)\n",
    "plt.show()"
   ]
  },
  {
   "cell_type": "markdown",
   "metadata": {},
   "source": [
    "## 画像の拡大\n",
    "+ 拡大行列$P(\\alpha, \\beta)$は\n",
    "$$\n",
    "P(\\alpha, \\beta) = \\left[\\begin{array}{cc}\n",
    "    \\alpha & 0 \\\\\n",
    "    0 & \\beta \\\\\n",
    "\\end{array}\\right]\n",
    "$$\n",
    "特に$(a,b)$周りで拡大したとき、変換後の位置$(x', y')$は\n",
    "$$\n",
    "\\left[\\begin{array}{c}\n",
    "    x' \\\\\n",
    "    y' \\\\\n",
    "\\end{array}\\right] = \n",
    "\\left[\\begin{array}{cc}\n",
    "    \\alpha & 0 \\\\\n",
    "    0 & \\beta \\\\\n",
    "\\end{array}\\right]\n",
    "\\left[\\begin{array}{c}\n",
    "    x - a \\\\\n",
    "    y - b \\\\\n",
    "\\end{array}\\right]\n",
    "+\n",
    "\\left[\\begin{array}{c}\n",
    "    a \\\\\n",
    "    b \\\\\n",
    "\\end{array}\\right]\n",
    "$$\n",
    "+ ** 画像の行き先をドット上にしてするため四捨五入しているので割と粗いです **"
   ]
  },
  {
   "cell_type": "code",
   "execution_count": 4,
   "metadata": {},
   "outputs": [],
   "source": [
    "def im_extend(alpha, beta, offset_x, offset_y):\n",
    "    \"\"\"\n",
    "    画像を拡大する関数\n",
    "    \"\"\"\n",
    "    P = np.array([[alpha, 0], [0, beta]])\n",
    "    pos_dash = np.zeros((len(pos_x), 2))\n",
    "    X_dash = np.zeros(X.shape)\n",
    "    for i, (i_pos_x, i_pos_y) in enumerate(zip(pos_x, pos_y)):\n",
    "        pos_dash[i,:] = np.round(P @ np.array([i_pos_x - offset_x, i_pos_y - offset_y])) + np.array([offset_x, offset_y])\n",
    "        \n",
    "    for i in range(len(pos_x)):\n",
    "        X_dash[int(pos_dash[i,0]), int(pos_dash[i,1])] = X[pos_x[i], pos_y[i]]\n",
    "    print(\"元の画像:\")\n",
    "    plt.imshow(X)\n",
    "    plt.show()\n",
    "    \n",
    "    print(\"1次変換の行列:\")\n",
    "    print(P)\n",
    "    print(\"1次変換適用後の画像:\")\n",
    "    plt.imshow(X_dash)\n",
    "    plt.show()"
   ]
  },
  {
   "cell_type": "code",
   "execution_count": 5,
   "metadata": {},
   "outputs": [
    {
     "data": {
      "application/vnd.jupyter.widget-view+json": {
       "model_id": "064fbffef62441e683ce373717fc0422",
       "version_major": 2,
       "version_minor": 0
      },
      "text/plain": [
       "interactive(children=(FloatSlider(value=1.0, description='alpha', max=2.0), FloatSlider(value=1.0, description…"
      ]
     },
     "metadata": {},
     "output_type": "display_data"
    },
    {
     "data": {
      "text/plain": [
       "<function __main__.im_extend(alpha, beta, offset_x, offset_y)>"
      ]
     },
     "execution_count": 5,
     "metadata": {},
     "output_type": "execute_result"
    }
   ],
   "source": [
    "interact(im_extend, alpha = (0, 2, 0.1), beta=(0, 2, 0.1), offset_x = (0, 7, 1), offset_y=(0, 7, 1))"
   ]
  },
  {
   "cell_type": "markdown",
   "metadata": {},
   "source": [
    "## 画像の拡大\n",
    "+ 拡大行列$P(\\alpha, \\beta)$は\n",
    "$$\n",
    "Q(\\gamma) = \\left[\\begin{array}{cc}\n",
    "    1 & \\gamma \\\\\n",
    "    0 & 1 \\\\\n",
    "\\end{array}\\right]\n",
    "$$\n",
    "特に$(a,b)$周りで拡大したとき、変換後の位置$(x', y')$は\n",
    "$$\n",
    "\\left[\\begin{array}{c}\n",
    "    x' \\\\\n",
    "    y' \\\\\n",
    "\\end{array}\\right] = \n",
    "\\left[\\begin{array}{cc}\n",
    "    1 & \\gamma \\\\\n",
    "    0 & 1 \\\\\n",
    "\\end{array}\\right]\n",
    "\\left[\\begin{array}{c}\n",
    "    x - a \\\\\n",
    "    y - b \\\\\n",
    "\\end{array}\\right]\n",
    "+\n",
    "\\left[\\begin{array}{c}\n",
    "    a \\\\\n",
    "    b \\\\\n",
    "\\end{array}\\right]\n",
    "$$\n",
    "+ ** 画像の行き先をドット上にしてするため四捨五入しているので割と粗いです **"
   ]
  },
  {
   "cell_type": "code",
   "execution_count": 6,
   "metadata": {},
   "outputs": [],
   "source": [
    "def im_shear(gamma, offset_x, offset_y):\n",
    "    \"\"\"\n",
    "    画像をせん断する関数\n",
    "    \"\"\"\n",
    "    Q = np.array([[1, gamma], [0, 1]])\n",
    "    pos_dash = np.zeros((len(pos_x), 2))\n",
    "    X_dash = np.zeros(X.shape)\n",
    "    for i, (i_pos_x, i_pos_y) in enumerate(zip(pos_x, pos_y)):\n",
    "        pos_dash[i,:] = np.round(Q @ np.array([i_pos_x - offset_x, i_pos_y - offset_y])) + np.array([offset_x, offset_y])\n",
    "        \n",
    "    for i in range(len(pos_x)):\n",
    "        X_dash[int(pos_dash[i,0]), int(pos_dash[i,1])] = X[pos_x[i], pos_y[i]]\n",
    "    print(\"元の画像:\")\n",
    "    plt.imshow(X)\n",
    "    plt.show()\n",
    "    \n",
    "    print(\"1次変換の行列:\")\n",
    "    print(Q)\n",
    "    print(\"1次変換適用後の画像:\")\n",
    "    plt.imshow(X_dash)\n",
    "    plt.show()"
   ]
  },
  {
   "cell_type": "code",
   "execution_count": 7,
   "metadata": {},
   "outputs": [
    {
     "data": {
      "application/vnd.jupyter.widget-view+json": {
       "model_id": "aae5a0b3d3be407f813aba4aeacf2913",
       "version_major": 2,
       "version_minor": 0
      },
      "text/plain": [
       "interactive(children=(FloatSlider(value=0.0, description='gamma', max=2.7, min=-2.7), IntSlider(value=3, descr…"
      ]
     },
     "metadata": {},
     "output_type": "display_data"
    },
    {
     "data": {
      "text/plain": [
       "<function __main__.im_shear(gamma, offset_x, offset_y)>"
      ]
     },
     "execution_count": 7,
     "metadata": {},
     "output_type": "execute_result"
    }
   ],
   "source": [
    "interact(im_shear, gamma=(-2.7, 2.7, 0.1), offset_x = (0, 7, 1), offset_y=(0, 7, 1))"
   ]
  },
  {
   "cell_type": "markdown",
   "metadata": {},
   "source": [
    "## 画像を回転させる\n",
    "+ 回転行列$R(\\theta)$は\n",
    "$$\n",
    "R(\\theta) = \\left[\\begin{array}{cc}\n",
    "    \\cos(\\theta) & -\\sin(\\theta) \\\\\n",
    "    \\sin(\\theta) & \\cos(\\theta) \\\\\n",
    "\\end{array}\\right]\n",
    "$$\n",
    "特に$(a,b)$周りで回転したとき、回転先の位置$(x', y')$は\n",
    "$$\n",
    "\\left[\\begin{array}{c}\n",
    "    x' \\\\\n",
    "    y' \\\\\n",
    "\\end{array}\\right] = \n",
    "\\left[\\begin{array}{cc}\n",
    "    \\cos(\\theta) & -\\sin(\\theta) \\\\\n",
    "    \\sin(\\theta) & \\cos(\\theta) \\\\\n",
    "\\end{array}\\right]\n",
    "\\left[\\begin{array}{c}\n",
    "    x - a \\\\\n",
    "    y - b \\\\\n",
    "\\end{array}\\right]\n",
    "+\n",
    "\\left[\\begin{array}{c}\n",
    "    a \\\\\n",
    "    b \\\\\n",
    "\\end{array}\\right]\n",
    "$$\n",
    "+ ** 画像の行き先をドット上にしてするため四捨五入しているので割と粗いです **"
   ]
  },
  {
   "cell_type": "code",
   "execution_count": 8,
   "metadata": {},
   "outputs": [],
   "source": [
    "def im_rotate(theta, offset_x, offset_y):\n",
    "    R = np.array([[np.cos(theta), -np.sin(theta)],[np.sin(theta), np.cos(theta)]])\n",
    "    pos_dash = np.zeros((len(pos_x), 2))\n",
    "    X_dash = np.zeros(X.shape)\n",
    "    for i, (i_pos_x, i_pos_y) in enumerate(zip(pos_x, pos_y)):\n",
    "        pos_dash[i,:] = np.round(R @ np.array([i_pos_x - offset_x, i_pos_y - offset_y])) + np.array([offset_x, offset_y])\n",
    "        \n",
    "    for i in range(len(pos_x)):\n",
    "        X_dash[int(pos_dash[i,0]), int(pos_dash[i,1])] = X[pos_x[i], pos_y[i]]\n",
    "    print(\"元の画像:\")\n",
    "    plt.imshow(X)\n",
    "    plt.show()\n",
    "\n",
    "    print(\"1次変換の行列:\")\n",
    "    print(R)\n",
    "    print(\"1次変換適用後の画像:\")\n",
    "    plt.imshow(X_dash)\n",
    "    plt.show()"
   ]
  },
  {
   "cell_type": "code",
   "execution_count": 9,
   "metadata": {},
   "outputs": [
    {
     "data": {
      "application/vnd.jupyter.widget-view+json": {
       "model_id": "e10bdbfed9594034babb121cb3e356b1",
       "version_major": 2,
       "version_minor": 0
      },
      "text/plain": [
       "interactive(children=(FloatSlider(value=0.0, description='theta', max=3.241592653589793, min=-3.14159265358979…"
      ]
     },
     "metadata": {},
     "output_type": "display_data"
    },
    {
     "data": {
      "text/plain": [
       "<function __main__.im_rotate(theta, offset_x, offset_y)>"
      ]
     },
     "execution_count": 9,
     "metadata": {},
     "output_type": "execute_result"
    }
   ],
   "source": [
    "interact(im_rotate, theta=(-np.pi, np.pi+0.1, 0.1*np.pi), offset_x = (0, 7, 1), offset_y=(0, 7, 1))"
   ]
  },
  {
   "cell_type": "markdown",
   "metadata": {},
   "source": [
    "# 固有値関連の内容\n",
    "+ データの次元を圧縮する"
   ]
  },
  {
   "cell_type": "code",
   "execution_count": 119,
   "metadata": {},
   "outputs": [],
   "source": [
    "n = 200\n",
    "data_seed = 20191012\n",
    "np.random.seed(data_seed)"
   ]
  },
  {
   "cell_type": "code",
   "execution_count": 120,
   "metadata": {},
   "outputs": [],
   "source": [
    "(a,b) = (-3, 5)"
   ]
  },
  {
   "cell_type": "markdown",
   "metadata": {},
   "source": [
    "## $x \\sim U(-10, 10)$, $y=ax+b + noise$に従ってデータを発生させる"
   ]
  },
  {
   "cell_type": "code",
   "execution_count": 121,
   "metadata": {},
   "outputs": [],
   "source": [
    "domain_X = (-5, 5)\n",
    "X = np.random.uniform(low = domain_X[0], high = domain_X[1], size = n)\n",
    "Y = a*X + b + np.random.normal(scale = 4, size = n)\n",
    "original_data = np.array([X,Y]).T"
   ]
  },
  {
   "cell_type": "code",
   "execution_count": 122,
   "metadata": {},
   "outputs": [],
   "source": [
    "test_X = np.linspace(start = domain_X[0], stop = domain_X[1], num = 100)\n",
    "test_Y = a*test_X + b"
   ]
  },
  {
   "cell_type": "code",
   "execution_count": 123,
   "metadata": {},
   "outputs": [
    {
     "data": {
      "image/png": "[encoded data removed]",
      "text/plain": [
       "<Figure size 432x288 with 1 Axes>"
      ]
     },
     "metadata": {
      "needs_background": "light"
     },
     "output_type": "display_data"
    }
   ],
   "source": [
    "plt.scatter(X,Y)\n",
    "plt.show()"
   ]
  },
  {
   "cell_type": "markdown",
   "metadata": {},
   "source": [
    "## 情報は$ax + b$に集約されているので、この(x,y)を線分上に射影したい"
   ]
  },
  {
   "cell_type": "code",
   "execution_count": 124,
   "metadata": {},
   "outputs": [
    {
     "data": {
      "image/png": "[encoded data removed]",
      "text/plain": [
       "<Figure size 432x288 with 1 Axes>"
      ]
     },
     "metadata": {
      "needs_background": "light"
     },
     "output_type": "display_data"
    }
   ],
   "source": [
    "chose_ind = np.random.permutation(n)\n",
    "chose_num = 5\n",
    "plt.plot(test_X, test_Y)\n",
    "for i in range(chose_num):\n",
    "    d = np.array([1, a])\n",
    "    p0 = np.array([0, b])\n",
    "    p = (X[chose_ind[i]], Y[chose_ind[i]])\n",
    "    length = (-d@(p0-p))/(d@d)\n",
    "    OS = p0 + length*d\n",
    "    data_X = np.array([p[0], OS[0]])\n",
    "    data_Y = np.array([p[1], OS[1]])\n",
    "    plt.scatter(data_X, data_Y)\n",
    "plt.show()"
   ]
  },
  {
   "cell_type": "markdown",
   "metadata": {},
   "source": [
    "## 求め方\n",
    "+ 以下の関数$L(w)$の最大化を行えばよい\n",
    "$$\n",
    "L(w) = \\sum_{i=1}^n (x_i^T w)^2\n",
    "$$\n",
    "感覚的には、x_iのばらつきが大きい方向を見つけて、そのばらつきを除去するようなことをしている。  \n",
    "$w^T w = 1$の制約の下でこれを解くと、$X^T X$に対する教科書の固有値問題を解くのと同じになる:"
   ]
  },
  {
   "cell_type": "code",
   "execution_count": 125,
   "metadata": {},
   "outputs": [],
   "source": [
    "norm_mean = original_data.mean(axis = 0)\n",
    "norm_data = original_data - norm_mean"
   ]
  },
  {
   "cell_type": "code",
   "execution_count": 126,
   "metadata": {},
   "outputs": [],
   "source": [
    "cov_mat = norm_data.T @ norm_data"
   ]
  },
  {
   "cell_type": "code",
   "execution_count": 127,
   "metadata": {},
   "outputs": [],
   "source": [
    "def is_pos_def(A:np.ndarray):\n",
    "    if not np.allclose(A, A.T):\n",
    "        return False\n",
    "    try:\n",
    "        np.linalg.cholesky(A)\n",
    "    except np.linalg.LinAlgError:\n",
    "        return False\n",
    "    return True"
   ]
  },
  {
   "cell_type": "code",
   "execution_count": 128,
   "metadata": {},
   "outputs": [],
   "source": [
    "### 正定値性のチェック\n",
    "if is_pos_def(cov_mat):\n",
    "    [eig_val, eig_vec] = np.linalg.eigh(cov_mat)\n",
    "    compressed_proj = eig_vec[:,1]"
   ]
  },
  {
   "cell_type": "code",
   "execution_count": 129,
   "metadata": {},
   "outputs": [],
   "source": [
    "proj_data = (norm_data @ compressed_proj).reshape(n,1) @ compressed_proj.reshape(1,2) + norm_mean"
   ]
  },
  {
   "cell_type": "code",
   "execution_count": 130,
   "metadata": {},
   "outputs": [],
   "source": [
    "# focus_ind = 9\n",
    "# plt.plot(test_X, test_Y)\n",
    "# plt.scatter(original_data[focus_ind,0], original_data[focus_ind,1])\n",
    "# plt.scatter(proj_data[focus_ind,0], proj_data[focus_ind,1])\n",
    "# plt.show()"
   ]
  },
  {
   "cell_type": "code",
   "execution_count": 131,
   "metadata": {},
   "outputs": [
    {
     "data": {
      "image/png": "[encoded data removed]",
      "text/plain": [
       "<Figure size 432x288 with 1 Axes>"
      ]
     },
     "metadata": {
      "needs_background": "light"
     },
     "output_type": "display_data"
    }
   ],
   "source": [
    "plt.plot(test_X, test_Y)\n",
    "# plt.scatter(original_data[:,0], original_data[:,1])\n",
    "plt.scatter(proj_data[:,0], proj_data[:,1])\n",
    "plt.show()"
   ]
  },
  {
   "cell_type": "markdown",
   "metadata": {},
   "source": [
    "# 最小二乗法"
   ]
  },
  {
   "cell_type": "markdown",
   "metadata": {},
   "source": [
    "## 普通の場合\n",
    "+ $L(w) = \\sum_{i=1}^n (y_i - x_i^Tw)^T (y_i - x_i^Tw)$, where $x_i, w \\in \\mathbb{R}^2$について  \n",
    "+ $L(w)$を最小にする$w$($(=\\hat{w}$とする)を見つける問題を考えたい\n",
    "    + 点が与えられて、点をいい感じに通るような線が知りたい\n",
    "        + 応用: 点: (年齢, 平均寿命)でデータがない部分の平均寿命が知りたい etc."
   ]
  },
  {
   "cell_type": "code",
   "execution_count": 167,
   "metadata": {},
   "outputs": [],
   "source": [
    "n = 20\n",
    "data_seed = 20191012\n",
    "np.random.seed(data_seed)"
   ]
  },
  {
   "cell_type": "code",
   "execution_count": 168,
   "metadata": {},
   "outputs": [],
   "source": [
    "domain_X = (-5, 5)\n",
    "train_X = np.ones((n,2))\n",
    "train_X[:,1] = np.random.uniform(low = domain_X[0], high = domain_X[1], size = n)\n",
    "true_w = np.array([-2, 3])\n",
    "train_Y = train_X @ true_w + np.random.normal(scale = 1, size = n)"
   ]
  },
  {
   "cell_type": "code",
   "execution_count": 169,
   "metadata": {},
   "outputs": [
    {
     "data": {
      "image/png": "[encoded data removed]",
      "text/plain": [
       "<Figure size 432x288 with 1 Axes>"
      ]
     },
     "metadata": {
      "needs_background": "light"
     },
     "output_type": "display_data"
    }
   ],
   "source": [
    "plt.scatter(train_X[:,1], train_Y)\n",
    "plt.show()"
   ]
  },
  {
   "cell_type": "markdown",
   "metadata": {},
   "source": [
    "## 求め方\n",
    "+ $L(w)$は行列で書くとシンプルに書ける(白板で示します):\n",
    "    + $L(w) = (y - Xw)^T (y - Xw)$\n",
    "+ $L(w)$は2次関数の一般化みたいなものなので、2次関数の最小問題のようにすれば解ける:\n",
    "    + $L(w) = (w - \\hat{w})^T A (w - \\hat{w})$みたいにかけるはずで、$\\hat{w},A$を平方完成(数Iを参照)の一般化をすればよい"
   ]
  },
  {
   "cell_type": "code",
   "execution_count": null,
   "metadata": {},
   "outputs": [],
   "source": []
  },
  {
   "cell_type": "code",
   "execution_count": null,
   "metadata": {},
   "outputs": [],
   "source": []
  },
  {
   "cell_type": "code",
   "execution_count": null,
   "metadata": {},
   "outputs": [],
   "source": []
  },
  {
   "cell_type": "code",
   "execution_count": null,
   "metadata": {},
   "outputs": [],
   "source": []
  },
  {
   "cell_type": "code",
   "execution_count": null,
   "metadata": {},
   "outputs": [],
   "source": []
  },
  {
   "cell_type": "code",
   "execution_count": null,
   "metadata": {},
   "outputs": [],
   "source": []
  },
  {
   "cell_type": "markdown",
   "metadata": {},
   "source": [
    "+ 答え\n",
    "$\\hat{w} = (X^T X)^{-1}X y$"
   ]
  },
  {
   "cell_type": "code",
   "execution_count": 170,
   "metadata": {},
   "outputs": [],
   "source": [
    "est_mle_w = np.linalg.solve(train_X.T @ train_X, train_X.T @ train_Y)"
   ]
  },
  {
   "cell_type": "code",
   "execution_count": 171,
   "metadata": {},
   "outputs": [],
   "source": [
    "test_X_range = np.linspace(start = -5, stop = 5, num = 20)\n",
    "test_X = np.ones((len(test_X_range),2))\n",
    "test_X[:,1] = test_X_range\n",
    "test_true_Y = test_X @ true_w\n",
    "test_est_mle_Y = test_X @ est_mle_w"
   ]
  },
  {
   "cell_type": "code",
   "execution_count": 172,
   "metadata": {},
   "outputs": [
    {
     "data": {
      "image/png": "[encoded data removed]",
      "text/plain": [
       "<Figure size 432x288 with 1 Axes>"
      ]
     },
     "metadata": {
      "needs_background": "light"
     },
     "output_type": "display_data"
    }
   ],
   "source": [
    "plt.plot(test_X[:,1], test_true_Y, label =\"true\")\n",
    "plt.plot(test_X[:,1], test_est_mle_Y, label = \"mle\")\n",
    "plt.legend()\n",
    "plt.show()"
   ]
  },
  {
   "cell_type": "markdown",
   "metadata": {},
   "source": [
    "## 過学習の場合\n",
    "+ $x_i$の値に引っ張られたり、$(X^T X)^{-1}$は固有値に0を含むとうまく計算できない\n",
    "    + $det(X^T X) = \\lambda_1 * \\lambda_2$で、行列式が0になるため\n",
    "+ $L(w) = \\sum_{i=1}^n (y_i - x_i^Tw)^T (y_i - x_i^Tw)$, where $x_i, w \\in \\mathbb{R}^2 + \\beta w^T w$を考える($\\beta > 0$)と固有値0問題は実は解決する:\n",
    "    + $(X^T X)^{-1} \\rightarrow (X^T X + \\beta I)^{-1}$\n",
    "+ $A + B$の固有値は$\\lambda_A + \\lambda_B$で($\\lambda_A$は$A$の固有値, $\\lambda_B$は$B$の固有値), $\\beta I$の固有値は$\\beta$, $X^T X$の固有値は実は$\\geq 0$ (証明は今後出てくるかもしれない)なので、$X^T X + \\beta I$の固有値は$>0$\n"
   ]
  },
  {
   "cell_type": "code",
   "execution_count": 185,
   "metadata": {},
   "outputs": [],
   "source": [
    "n = 10\n",
    "data_seed = 20191012\n",
    "np.random.seed(data_seed)"
   ]
  },
  {
   "cell_type": "code",
   "execution_count": 186,
   "metadata": {},
   "outputs": [],
   "source": [
    "domain_X = (-5, 5)\n",
    "train_X = np.ones((n,2))\n",
    "train_X[:,1] = np.random.uniform(low = domain_X[0], high = domain_X[1], size = n)\n",
    "true_w = np.array([2, 3])\n",
    "train_Y = train_X @ true_w + np.random.normal(scale = 4, size = n)"
   ]
  },
  {
   "cell_type": "code",
   "execution_count": 187,
   "metadata": {},
   "outputs": [
    {
     "data": {
      "text/plain": [
       "(array([  7.33135934, 119.23427063]), array([[-0.98800414,  0.1544274 ],\n",
       "        [ 0.1544274 ,  0.98800414]]))"
      ]
     },
     "execution_count": 187,
     "metadata": {},
     "output_type": "execute_result"
    }
   ],
   "source": [
    "np.linalg.eigh(train_X.T @ train_X)"
   ]
  },
  {
   "cell_type": "code",
   "execution_count": 188,
   "metadata": {},
   "outputs": [],
   "source": [
    "beta = 2"
   ]
  },
  {
   "cell_type": "code",
   "execution_count": 189,
   "metadata": {},
   "outputs": [],
   "source": [
    "# train_Y[0] = 10\n",
    "# train_Y[2] = 15"
   ]
  },
  {
   "cell_type": "code",
   "execution_count": 190,
   "metadata": {},
   "outputs": [
    {
     "data": {
      "image/png": "[encoded data removed]",
      "text/plain": [
       "<Figure size 432x288 with 1 Axes>"
      ]
     },
     "metadata": {
      "needs_background": "light"
     },
     "output_type": "display_data"
    }
   ],
   "source": [
    "plt.scatter(train_X[:,1], train_Y)\n",
    "plt.show()"
   ]
  },
  {
   "cell_type": "code",
   "execution_count": 191,
   "metadata": {},
   "outputs": [],
   "source": [
    "est_ridge_w = np.linalg.solve(train_X.T @ train_X + beta * np.eye(2), train_X.T @ train_Y)\n",
    "est_mle_w = np.linalg.solve(train_X.T @ train_X, train_X.T @ train_Y)"
   ]
  },
  {
   "cell_type": "code",
   "execution_count": 192,
   "metadata": {},
   "outputs": [],
   "source": [
    "test_X_range = np.linspace(start = -5, stop = 5, num = 20)\n",
    "test_X = np.ones((len(test_X_range),2))\n",
    "test_X[:,1] = test_X_range\n",
    "test_true_Y = test_X @ true_w\n",
    "test_est_mle_Y = test_X @ est_mle_w\n",
    "test_est_ridge_Y = test_X @ est_ridge_w"
   ]
  },
  {
   "cell_type": "code",
   "execution_count": 193,
   "metadata": {},
   "outputs": [
    {
     "data": {
      "text/plain": [
       "(array([3.74526836, 3.52030678]), array([3.06646967, 3.55867294]))"
      ]
     },
     "execution_count": 193,
     "metadata": {},
     "output_type": "execute_result"
    }
   ],
   "source": [
    "est_mle_w, est_ridge_w"
   ]
  },
  {
   "cell_type": "code",
   "execution_count": 194,
   "metadata": {},
   "outputs": [],
   "source": [
    "# np.linalg.solve(train_X.T @ train_X + beta * np.eye(2), train_X.T)"
   ]
  },
  {
   "cell_type": "code",
   "execution_count": 195,
   "metadata": {},
   "outputs": [],
   "source": [
    "# np.linalg.solve(train_X.T @ train_X, train_X.T)"
   ]
  },
  {
   "cell_type": "code",
   "execution_count": 196,
   "metadata": {},
   "outputs": [
    {
     "data": {
      "image/png": "[encoded data removed]",
      "text/plain": [
       "<Figure size 432x288 with 1 Axes>"
      ]
     },
     "metadata": {
      "needs_background": "light"
     },
     "output_type": "display_data"
    }
   ],
   "source": [
    "plt.plot(test_X[:,1], test_true_Y, label = \"true\")\n",
    "plt.plot(test_X[:,1], test_est_mle_Y, label =\"mle\")\n",
    "plt.plot(test_X[:,1], test_est_ridge_Y, label = \"ridge\")\n",
    "plt.legend()\n",
    "plt.show()"
   ]
  },
  {
   "cell_type": "markdown",
   "metadata": {},
   "source": [
    "+ mleが引っ張られる理由はラグランジュの未定乗数法から出るが、線形代数学の範囲外なので割愛\n",
    "+ "
   ]
  },
  {
   "cell_type": "code",
   "execution_count": null,
   "metadata": {},
   "outputs": [],
   "source": []
  }
 ],
 "metadata": {
  "jupytext": {
   "text_representation": {
    "extension": ".py",
    "format_name": "light",
    "format_version": "1.4",
    "jupytext_version": "1.1.3"
   }
  },
  "kernelspec": {
   "display_name": "Python 3",
   "language": "python",
   "name": "python3"
  },
  "language_info": {
   "codemirror_mode": {
    "name": "ipython",
    "version": 3
   },
   "file_extension": ".py",
   "mimetype": "text/x-python",
   "name": "python",
   "nbconvert_exporter": "python",
   "pygments_lexer": "ipython3",
   "version": "3.7.3"
  },
  "toc-autonumbering": true,
  "toc-showcode": true,
  "toc-showmarkdowntxt": false,
  "toc-showtags": false
 },
 "nbformat": 4,
 "nbformat_minor": 4
}

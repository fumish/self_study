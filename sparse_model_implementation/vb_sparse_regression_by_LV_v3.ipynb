{
 "cells": [
  {
   "cell_type": "markdown",
   "metadata": {},
   "source": [
    "# Research about sparse regression for vb by Latent vairable\n",
    "## Background\n",
    "+ In this study, we show how variable selection by latent variable gives a model selection.\n",
    "    + Especially, we consider about linear regression case.\n",
    "    \n",
    "+ To update the result, we utilized a stochastic gradeient descent for vb"
   ]
  },
  {
   "cell_type": "code",
   "execution_count": 1,
   "metadata": {},
   "outputs": [],
   "source": [
    "%matplotlib inline"
   ]
  },
  {
   "cell_type": "code",
   "execution_count": 2,
   "metadata": {},
   "outputs": [],
   "source": [
    "import numpy as np\n",
    "from scipy.stats import wishart, norm\n",
    "from scipy.special import gammaln, digamma, logsumexp\n",
    "from sklearn.linear_model import LassoCV\n",
    "import matplotlib.pyplot as plt"
   ]
  },
  {
   "cell_type": "markdown",
   "metadata": {},
   "source": [
    "# problem settings"
   ]
  },
  {
   "cell_type": "code",
   "execution_count": 3,
   "metadata": {},
   "outputs": [],
   "source": [
    "data_seed = 20210626\n",
    "n = 100\n",
    "M = 100\n",
    "\n",
    "N = 100"
   ]
  },
  {
   "cell_type": "code",
   "execution_count": 4,
   "metadata": {},
   "outputs": [],
   "source": [
    "true_p = 0.2"
   ]
  },
  {
   "cell_type": "code",
   "execution_count": 5,
   "metadata": {},
   "outputs": [],
   "source": [
    "np.random.seed(data_seed)"
   ]
  },
  {
   "cell_type": "code",
   "execution_count": 6,
   "metadata": {},
   "outputs": [],
   "source": [
    "true_w = np.random.normal(size=M, scale=3)\n",
    "zero_ind = np.sort(np.random.dirichlet(np.ones(M), size=1).squeeze().argsort()[:np.floor(true_p * M).astype(int)])\n",
    "true_w[zero_ind] = 0"
   ]
  },
  {
   "cell_type": "code",
   "execution_count": 7,
   "metadata": {},
   "outputs": [],
   "source": [
    "# X_base = np.random.uniform(-1, 1, size=n)\n",
    "# train_X = X_base[:,np.newaxis]**(np.arange(M)[np.newaxis,:])\n",
    "# train_X = np.random.uniform(-1,1, size=(n, M))\n",
    "original_train_X = np.random.normal(size=(n, M))\n",
    "original_train_Y = original_train_X@true_w + np.random.normal(scale=0.1, size=n)"
   ]
  },
  {
   "cell_type": "code",
   "execution_count": 8,
   "metadata": {},
   "outputs": [],
   "source": [
    "# X_base = np.random.uniform(-1, 1, size=N)\n",
    "# test_X = X_base[:,np.newaxis]**(np.arange(M)[np.newaxis,:])\n",
    "original_test_X = np.random.uniform(-1,1, size=(N, M))\n",
    "original_test_Y = original_test_X@true_w + np.random.normal(scale=0.1, size=N)"
   ]
  },
  {
   "cell_type": "code",
   "execution_count": 9,
   "metadata": {},
   "outputs": [
    {
     "data": {
      "text/plain": [
       "array([ 0.4294891 , -1.40978187, -2.84652443,  5.09072289,  2.76727267,\n",
       "       -2.32893547,  2.36452661,  0.        ,  9.13841238, -3.65001565,\n",
       "        1.87929357, -0.77970708,  4.14196698, -3.16340453,  1.04157394,\n",
       "        6.12070258, -4.54728625,  1.80098301,  1.25293761, -0.50114129,\n",
       "       -0.36065756, -6.0292734 , -1.94586965, -0.95279392,  0.        ,\n",
       "       -7.99746874,  6.10961841, -1.02320217,  1.31086624,  2.2902942 ,\n",
       "        0.        , -2.40232506,  2.97325466,  0.        ,  7.48580323,\n",
       "        0.        , -1.39259302, -9.59472893,  3.97642022,  3.26153344,\n",
       "        0.        ,  2.08410259, -4.49926818, -3.10226697, -2.65354347,\n",
       "        1.36337223,  0.        , -1.64682997, -1.06526825, -2.92123115,\n",
       "       -2.23117948,  1.47115227,  0.        , -1.28262698, -2.12500214,\n",
       "       -1.14323844,  3.56325569,  1.23902351,  1.97769386,  0.        ,\n",
       "       -3.3005887 , -1.46646434,  2.8132868 ,  4.10957732, -3.62366988,\n",
       "       -2.07222035, -1.46284763, -4.59360551, -3.18941287, -0.15367881,\n",
       "        3.36928347,  0.56805004,  6.99695158,  0.        , -0.77695295,\n",
       "       -1.81995318,  0.        ,  4.9586608 , -4.56006423,  0.        ,\n",
       "        0.        ,  4.08274434, -3.39475082,  3.62181044, -2.49728693,\n",
       "        0.        ,  1.33988087, -0.07042335,  0.        ,  0.        ,\n",
       "       -5.52873255,  0.        ,  0.        , -4.04355263,  1.89346705,\n",
       "        0.        ,  0.        , -0.7914786 ,  1.31058606,  1.85251082])"
      ]
     },
     "execution_count": 9,
     "metadata": {},
     "output_type": "execute_result"
    }
   ],
   "source": [
    "true_w"
   ]
  },
  {
   "cell_type": "markdown",
   "metadata": {},
   "source": [
    "## Common used functions"
   ]
  },
  {
   "cell_type": "code",
   "execution_count": 10,
   "metadata": {},
   "outputs": [],
   "source": [
    "def _positive_sigmoid(x):\n",
    "    return 1 / (1 + np.exp(-x))\n",
    "\n",
    "\n",
    "def _negative_sigmoid(x):\n",
    "    # Cache exp so you won't have to calculate it twice\n",
    "    exp = np.exp(x)\n",
    "    return exp / (exp + 1)\n",
    "\n",
    "\n",
    "def sigmoid(x):\n",
    "    positive = x >= 0\n",
    "    # Boolean array inversion is faster than another comparison\n",
    "    negative = ~positive\n",
    "\n",
    "    # empty contains juke hence will be faster to allocate than zeros\n",
    "    result = np.empty_like(x)\n",
    "    result[positive] = _positive_sigmoid(x[positive])\n",
    "    result[negative] = _negative_sigmoid(x[negative])\n",
    "\n",
    "    return result\n",
    "\n",
    "safe_log_odds = lambda x: np.log(np.clip(x, 1e-300, 1-1e-15)) - np.log(1-np.clip(x, 1e-300, 1-1e-15))"
   ]
  },
  {
   "cell_type": "markdown",
   "metadata": {},
   "source": [
    "# Try and Error Point"
   ]
  },
  {
   "cell_type": "code",
   "execution_count": 157,
   "metadata": {},
   "outputs": [],
   "source": [
    "pri_alpha = 0.01\n",
    "pri_beta = 0.05\n",
    "pri_gamma = 0.001\n",
    "\n",
    "iteration = 100\n",
    "rho = 1\n",
    "learning_seed = 20210730\n",
    "\n",
    "tol = 1e-5\n",
    "\n",
    "step = 100"
   ]
  },
  {
   "cell_type": "code",
   "execution_count": 158,
   "metadata": {},
   "outputs": [],
   "source": [
    "# est_alpha=np.random.uniform(size=M).squeeze()+pri_alpha\n",
    "# est_beta=1-(est_alpha-pri_alpha)+pri_beta\n",
    "\n",
    "est_alpha=M*np.random.uniform(size=1).squeeze()+pri_alpha\n",
    "est_beta=M-(est_alpha-pri_alpha)+pri_beta\n",
    "\n",
    "# est_sigma = np.random.uniform(size=M).squeeze()\n",
    "est_sigma = np.linalg.inv(wishart.rvs(df=M+1, scale=np.eye(M)))\n",
    "est_mu = np.random.normal(scale=2, size=M)\n",
    "est_lambda = np.random.uniform(size=M)\n",
    "# 1est_lambda = np.clip(0.5+np.random.normal(scale=0.01, size=M), 0, 1)"
   ]
  },
  {
   "cell_type": "code",
   "execution_count": 159,
   "metadata": {},
   "outputs": [],
   "source": [
    "train_X = original_train_X.copy()\n",
    "train_Y = original_train_Y.copy()\n",
    "# train_X = (original_train_X-original_train_X.mean(axis=0)[np.newaxis,:]) / original_train_X.std(axis=0)[np.newaxis,:]\n",
    "# train_Y = (original_Y-original_Y.mean())/original_Y.std()"
   ]
  },
  {
   "cell_type": "code",
   "execution_count": 160,
   "metadata": {},
   "outputs": [],
   "source": [
    "test_X = original_test_X.copy()\n",
    "test_Y = original_test_Y.copy()\n",
    "# test_X = (original_test_X-original_train_X.mean(axis=0)[np.newaxis,:]) / original_train_X.std(axis=0)[np.newaxis,:]"
   ]
  },
  {
   "cell_type": "code",
   "execution_count": 161,
   "metadata": {},
   "outputs": [
    {
     "name": "stdout",
     "output_type": "stream",
     "text": [
      "energy:  12691.09566846833\n",
      "energy:  -9313.32999782189\n",
      "energy:  -19848.104667849228\n",
      "energy:  -22076.222845043532\n",
      "energy:  -22076.193039142236\n",
      "energy:  -22076.19303914225\n",
      "energy:  -22076.19303914225\n",
      "energy:  -22076.19303914225\n",
      "energy:  -22076.19303914225\n",
      "energy:  -22076.19303914225\n",
      "energy:  -22076.19303914225\n",
      "energy:  -22076.19303914225\n",
      "energy:  -22076.19303914225\n",
      "energy:  -22076.19303914225\n",
      "energy:  -22076.19303914225\n",
      "energy:  -22076.19303914225\n",
      "energy:  -22076.19303914225\n",
      "energy:  -22076.19303914225\n",
      "energy:  -22076.19303914225\n",
      "energy:  -22076.19303914225\n",
      "energy:  -22076.19303914225\n",
      "energy:  -22076.19303914225\n",
      "energy:  -22076.19303914225\n",
      "energy:  -22076.19303914225\n",
      "energy:  -22076.19303914225\n",
      "energy:  -22076.19303914225\n",
      "energy:  -22076.19303914225\n",
      "energy:  -22076.19303914225\n",
      "energy:  -22076.19303914225\n",
      "energy:  -22076.19303914225\n",
      "energy:  -22076.19303914225\n",
      "energy:  -22076.19303914225\n",
      "energy:  -22076.19303914225\n",
      "energy:  -22076.19303914225\n",
      "energy:  -22076.19303914225\n",
      "energy:  -22076.19303914225\n",
      "energy:  -22076.19303914225\n",
      "energy:  -22076.19303914225\n",
      "energy:  -22076.19303914225\n",
      "energy:  -22076.19303914225\n",
      "energy:  -22076.19303914225\n",
      "energy:  -22076.19303914225\n",
      "energy:  -22076.19303914225\n",
      "energy:  -22076.19303914225\n",
      "energy:  -22076.19303914225\n",
      "energy:  -22076.19303914225\n",
      "energy:  -22076.19303914225\n",
      "energy:  -22076.19303914225\n",
      "energy:  -22076.19303914225\n",
      "energy:  -22076.19303914225\n",
      "energy:  -22076.19303914225\n",
      "energy:  -22076.19303914225\n",
      "energy:  -22076.19303914225\n",
      "energy:  -22076.19303914225\n",
      "energy:  -22076.19303914225\n",
      "energy:  -22076.19303914225\n",
      "energy:  -22076.19303914225\n",
      "energy:  -22076.19303914225\n",
      "energy:  -22076.19303914225\n",
      "energy:  -22076.19303914225\n",
      "energy:  -22076.19303914225\n",
      "energy:  -22076.19303914225\n",
      "energy:  -22076.19303914225\n",
      "energy:  -22076.19303914225\n",
      "energy:  -22076.19303914225\n",
      "energy:  -22076.19303914225\n",
      "energy:  -22076.19303914225\n",
      "energy:  -22076.19303914225\n",
      "energy:  -22076.19303914225\n",
      "energy:  -22076.19303914225\n",
      "energy:  -22076.19303914225\n",
      "energy:  -22076.19303914225\n",
      "energy:  -22076.19303914225\n",
      "energy:  -22076.19303914225\n",
      "energy:  -22076.19303914225\n",
      "energy:  -22076.19303914225\n",
      "energy:  -22076.19303914225\n",
      "energy:  -22076.19303914225\n",
      "energy:  -22076.19303914225\n",
      "energy:  -22076.19303914225\n",
      "energy:  -22076.19303914225\n",
      "energy:  -22076.19303914225\n",
      "energy:  -22076.19303914225\n",
      "energy:  -22076.19303914225\n",
      "energy:  -22076.19303914225\n",
      "energy:  -22076.19303914225\n",
      "energy:  -22076.19303914225\n",
      "energy:  -22076.19303914225\n",
      "energy:  -22076.19303914225\n",
      "energy:  -22076.19303914225\n",
      "energy:  -22076.19303914225\n",
      "energy:  -22076.19303914225\n",
      "energy:  -22076.19303914225\n",
      "energy:  -22076.19303914225\n",
      "energy:  -22076.19303914225\n",
      "energy:  -22076.19303914225\n",
      "energy:  -22076.19303914225\n",
      "energy:  -22076.19303914225\n",
      "energy:  -22076.19303914225\n",
      "energy:  -22076.19303914225\n"
     ]
    }
   ],
   "source": [
    "cov_X = train_X.T@train_X\n",
    "cov_X_non_diag = cov_X-np.diag(np.diag(cov_X))\n",
    "cov_X_diag=np.diag(cov_X)\n",
    "cov_XY = train_Y@train_X\n",
    "\n",
    "for ite in range(iteration):\n",
    "    sq_z=np.outer(est_lambda, est_lambda)\n",
    "    sq_z[np.diag_indices(M)]=est_lambda\n",
    "    est_isigma = (cov_X*sq_z) + pri_gamma*np.eye(M)\n",
    "    est_sigma = np.linalg.inv(est_isigma)\n",
    "    est_mu = est_sigma @ (cov_XY*est_lambda)\n",
    "\n",
    "#     est_alpha=est_lambda+pri_alpha\n",
    "#     est_beta=(1-est_lambda)+pri_beta\n",
    "    \n",
    "    est_alpha=est_lambda.sum()+pri_alpha\n",
    "    est_beta=(1-est_lambda).sum()+pri_beta\n",
    "    # update z\n",
    "    sq_moment=np.outer(est_mu, est_mu)+est_sigma\n",
    "#     for j in range(M):        \n",
    "#         print(\n",
    "#             (               \n",
    "#                 (digamma(est_alpha)-digamma(est_beta))[j],\n",
    "#                 (cov_XY*est_mu)[j],\n",
    "#                 (-0.5*np.diag(cov_X*sq_moment))[j],\n",
    "#                 (-0.5*(cov_X_non_diag*sq_moment)@est_lambda)[j]            \n",
    "#             )\n",
    "#         )\n",
    "#         est_lambda[j] = sigmoid(\n",
    "#             digamma(est_alpha)-digamma(est_beta)\\\n",
    "#             +(cov_XY*est_mu)\\\n",
    "#             -0.5*np.diag(cov_X*sq_moment)\\\n",
    "#             -0.5*(cov_X_non_diag*sq_moment)@est_lambda            \n",
    "#         )[j]        \n",
    "#         pass\n",
    "    est_lambda = sigmoid(\n",
    "        digamma(est_alpha)-digamma(est_beta)\\\n",
    "        +(cov_XY*est_mu)\\\n",
    "        -0.5*np.diag(cov_X*sq_moment)\\\n",
    "        -0.5*(cov_X_non_diag*sq_moment)@est_lambda            \n",
    "    )\n",
    "        \n",
    "    # calc energy\n",
    "    eta_u1=digamma(est_alpha)-digamma(est_alpha+est_beta)\n",
    "    eta_u2=digamma(est_beta)-digamma(est_alpha+est_beta)\n",
    "    sq_moment=np.outer(est_mu, est_mu)+est_sigma\n",
    "    \n",
    "    energy=0.5*train_Y@train_Y-cov_XY@(est_lambda*est_mu)\\\n",
    "    +(cov_X_non_diag*sq_moment*np.outer(est_lambda,est_lambda)).sum()/2+(cov_X_diag*np.diag(sq_moment)*est_lambda).sum()/2\\\n",
    "    +0.5*n*np.log(2*np.pi)\n",
    "    \n",
    "    energy+=(-M*np.log(2*np.pi)/2-np.linalg.slogdet(est_sigma)[1]/2-M/2).sum()\\\n",
    "    +((est_alpha-1)*eta_u1+(est_beta-1)*eta_u2).sum()\\\n",
    "    +(gammaln(est_alpha+est_beta)-gammaln(est_alpha)-gammaln(est_beta)).sum()\\\n",
    "    +(est_lambda*safe_log_odds(est_lambda)+np.log(np.clip(est_lambda, 1e-300, 1-1e-15))).sum()\n",
    "    \n",
    "    energy+=-(est_lambda*eta_u1+(1-est_lambda)*eta_u2).sum()\\\n",
    "    -((pri_alpha-1)*eta_u1+(pri_beta-1)*eta_u2).sum() - gammaln(pri_alpha+pri_beta) + gammaln(pri_alpha) + gammaln(pri_beta) \\\n",
    "    +(pri_gamma/2*np.diag(sq_moment)+np.log(pri_gamma/(2*np.pi))).sum()\n",
    "    \n",
    "    print(\"energy: \", energy)\n",
    "    \n",
    "#     print((dFdeta_u1**2).sum(), (dFdeta_u2**2).sum(), (dFdeta_z**2).sum(), (dFdeta_w1**2).sum(), (dFdeta_w2**2).sum())"
   ]
  },
  {
   "cell_type": "code",
   "execution_count": 162,
   "metadata": {},
   "outputs": [
    {
     "data": {
      "text/plain": [
       "0.6497101738956534"
      ]
     },
     "execution_count": 162,
     "metadata": {},
     "output_type": "execute_result"
    }
   ],
   "source": [
    "est_alpha/(est_alpha+est_beta)"
   ]
  },
  {
   "cell_type": "code",
   "execution_count": 163,
   "metadata": {},
   "outputs": [
    {
     "data": {
      "text/plain": [
       "array([ 1.61595103, -2.00822798, -1.27023842,  4.49307785,  3.91196778,\n",
       "       -2.67692466,  0.        ,  0.        ,  8.54278855, -3.0475175 ,\n",
       "        0.65598829, -1.85522459,  7.20585793, -2.44083233,  0.        ,\n",
       "        3.54206905, -4.49535482,  0.76947377,  2.13814273, -1.39600759,\n",
       "        0.        , -4.4740519 ,  0.        , -1.19113032,  1.24064235,\n",
       "       -6.60308076,  7.40132083, -1.88037906,  0.        ,  0.        ,\n",
       "       -0.29220308, -3.04939285,  4.0051172 , -0.5324036 ,  6.74529444,\n",
       "        1.03061082, -2.59448231, -8.17312363,  1.05366982,  2.68077483,\n",
       "        0.        ,  4.07155089, -4.2125124 , -1.2605012 , -2.49248204,\n",
       "        1.48380771,  0.        ,  0.        ,  0.        , -3.88638902,\n",
       "        0.        ,  0.        ,  0.        , -1.2433452 , -2.24112731,\n",
       "       -2.81495587,  5.20310754,  0.        ,  1.60268   ,  0.        ,\n",
       "       -4.01941188,  0.        ,  0.        ,  3.80976846, -2.73451795,\n",
       "       -3.29200547, -2.91670247, -4.75870504, -3.30399745,  0.        ,\n",
       "        0.        , -0.82417174,  6.46375542,  0.        ,  0.        ,\n",
       "        0.        ,  0.        ,  4.72557368,  0.        ,  0.        ,\n",
       "        0.        ,  0.        , -3.416772  ,  4.24217771, -1.54881812,\n",
       "        2.86129742,  0.        ,  0.        ,  1.10117151,  0.        ,\n",
       "       -4.42698887,  0.        ,  2.11112637, -3.87758251,  0.        ,\n",
       "        0.        ,  1.41173194,  0.83913046,  0.        ,  4.28118563])"
      ]
     },
     "execution_count": 163,
     "metadata": {},
     "output_type": "execute_result"
    }
   ],
   "source": [
    "est_mu"
   ]
  },
  {
   "cell_type": "code",
   "execution_count": 164,
   "metadata": {},
   "outputs": [
    {
     "data": {
      "text/plain": [
       "array([ 0.4294891 , -1.40978187, -2.84652443,  5.09072289,  2.76727267,\n",
       "       -2.32893547,  2.36452661,  0.        ,  9.13841238, -3.65001565,\n",
       "        1.87929357, -0.77970708,  4.14196698, -3.16340453,  1.04157394,\n",
       "        6.12070258, -4.54728625,  1.80098301,  1.25293761, -0.50114129,\n",
       "       -0.36065756, -6.0292734 , -1.94586965, -0.95279392,  0.        ,\n",
       "       -7.99746874,  6.10961841, -1.02320217,  1.31086624,  2.2902942 ,\n",
       "        0.        , -2.40232506,  2.97325466,  0.        ,  7.48580323,\n",
       "        0.        , -1.39259302, -9.59472893,  3.97642022,  3.26153344,\n",
       "        0.        ,  2.08410259, -4.49926818, -3.10226697, -2.65354347,\n",
       "        1.36337223,  0.        , -1.64682997, -1.06526825, -2.92123115,\n",
       "       -2.23117948,  1.47115227,  0.        , -1.28262698, -2.12500214,\n",
       "       -1.14323844,  3.56325569,  1.23902351,  1.97769386,  0.        ,\n",
       "       -3.3005887 , -1.46646434,  2.8132868 ,  4.10957732, -3.62366988,\n",
       "       -2.07222035, -1.46284763, -4.59360551, -3.18941287, -0.15367881,\n",
       "        3.36928347,  0.56805004,  6.99695158,  0.        , -0.77695295,\n",
       "       -1.81995318,  0.        ,  4.9586608 , -4.56006423,  0.        ,\n",
       "        0.        ,  4.08274434, -3.39475082,  3.62181044, -2.49728693,\n",
       "        0.        ,  1.33988087, -0.07042335,  0.        ,  0.        ,\n",
       "       -5.52873255,  0.        ,  0.        , -4.04355263,  1.89346705,\n",
       "        0.        ,  0.        , -0.7914786 ,  1.31058606,  1.85251082])"
      ]
     },
     "execution_count": 164,
     "metadata": {},
     "output_type": "execute_result"
    }
   ],
   "source": [
    "true_w"
   ]
  },
  {
   "cell_type": "code",
   "execution_count": 165,
   "metadata": {},
   "outputs": [
    {
     "data": {
      "text/plain": [
       "9.059182665335914"
      ]
     },
     "execution_count": 165,
     "metadata": {},
     "output_type": "execute_result"
    }
   ],
   "source": [
    "np.sqrt(((test_Y-test_X@est_mu)**2).mean())"
   ]
  },
  {
   "cell_type": "code",
   "execution_count": 166,
   "metadata": {},
   "outputs": [
    {
     "data": {
      "text/plain": [
       "1.418021874136412"
      ]
     },
     "execution_count": 166,
     "metadata": {},
     "output_type": "execute_result"
    }
   ],
   "source": [
    "np.sqrt(((true_w-est_mu)**2).mean())"
   ]
  },
  {
   "cell_type": "markdown",
   "metadata": {},
   "source": [
    "# Comparing with lasso cv"
   ]
  },
  {
   "cell_type": "code",
   "execution_count": 167,
   "metadata": {},
   "outputs": [
    {
     "data": {
      "text/plain": [
       "LassoCV(fit_intercept=False, max_iter=2000)"
      ]
     },
     "execution_count": 167,
     "metadata": {},
     "output_type": "execute_result"
    }
   ],
   "source": [
    "clf = LassoCV(fit_intercept=False, max_iter=2000)\n",
    "clf.fit(train_X, train_Y)"
   ]
  },
  {
   "cell_type": "code",
   "execution_count": 168,
   "metadata": {},
   "outputs": [
    {
     "data": {
      "text/plain": [
       "2.010786035529342"
      ]
     },
     "execution_count": 168,
     "metadata": {},
     "output_type": "execute_result"
    }
   ],
   "source": [
    "((true_w - est_mu)**2).mean()"
   ]
  },
  {
   "cell_type": "code",
   "execution_count": 169,
   "metadata": {},
   "outputs": [
    {
     "data": {
      "text/plain": [
       "0.8454357995327139"
      ]
     },
     "execution_count": 169,
     "metadata": {},
     "output_type": "execute_result"
    }
   ],
   "source": [
    "((true_w - clf.coef_)**2).mean()"
   ]
  },
  {
   "cell_type": "code",
   "execution_count": 170,
   "metadata": {},
   "outputs": [
    {
     "name": "stdout",
     "output_type": "stream",
     "text": [
      "0.10195514123765105 9.059182665335914 5.2273852285533895\n"
     ]
    }
   ],
   "source": [
    "print(\n",
    "    np.sqrt(((test_Y - test_X@true_w)**2).mean()),\n",
    "    np.sqrt(((test_Y - test_X@est_mu)**2).mean()),\n",
    "    np.sqrt(((test_Y - test_X@clf.coef_)**2).mean()),    \n",
    ")"
   ]
  },
  {
   "cell_type": "code",
   "execution_count": 28,
   "metadata": {},
   "outputs": [],
   "source": [
    "# ### transform to natural parameters\n",
    "# theta_p1 = est_alpha-1\n",
    "# theta_p2 = est_beta-1\n",
    "# theta_m1 = np.linalg.solve(est_sigma, est_mu)\n",
    "# theta_m2 = -np.linalg.inv(est_sigma)/2\n",
    "\n",
    "# ### set expectation parameters\n",
    "# eta_p1 = digamma(est_alpha) - digamma(est_alpha+est_beta)\n",
    "# eta_p2 = digamma(est_beta) - digamma(est_alpha+est_beta)\n",
    "# eta_m1 = est_mu\n",
    "# eta_m2 = est_sigma + np.outer(est_mu, est_mu)\n",
    "\n",
    "# ### update local parameter\n",
    "# est_h_xi = np.vstack([\n",
    "#     eta_p1+approx_delta_log_func(np.diag(eta_m2)),\n",
    "#     eta_p2+norm.logpdf(np.diag(eta_m2), loc=0, scale=1/pri_beta**2)\n",
    "# ]).T\n",
    "\n",
    "# est_z_xi = np.exp(est_h_xi - logsumexp(est_h_xi, axis=1, keepdims=True))\n",
    "\n",
    "# ### derivative of expectation parameters\n",
    "# n_z = est_z_xi.sum(axis=0)\n",
    "# dFdeta_p1 = theta_p1 - n_z[0] - (pri_alpha - 1)\n",
    "# dFdeta_p2 = theta_p2 - n_z[1] - (pri_alpha - 1)\n",
    "# dFdeta_m1 = theta_m1 - train_X.T@train_Y\n",
    "# dFdeta_m2 = theta_m2 + 0.5*train_X.T@train_X + n_z[0]/(2*pri_delta_c) + n_z[1]/2*pri_gamma\n",
    "\n",
    "# ### update global parameters\n",
    "# rho_t=rho/(ite+1)\n",
    "# theta_p1 -= rho_t*dFdeta_p1\n",
    "# theta_p2 -= rho_t*dFdeta_p2\n",
    "# theta_m1 -= rho_t*dFdeta_m1\n",
    "# theta_m2 -= rho_t*dFdeta_m2\n",
    "\n",
    "# ### transform to original parameters\n",
    "# est_alpha = theta_p1 + 1\n",
    "# est_beta = theta_p2 + 1\n",
    "# est_sigma = -0.5*np.linalg.inv(theta_m2)\n",
    "# est_mu = est_sigma @ theta_m1"
   ]
  },
  {
   "cell_type": "code",
   "execution_count": null,
   "metadata": {},
   "outputs": [],
   "source": [
    "# calc_energy(\n",
    "#     train_X, train_Y,\n",
    "#     est_alpha, est_beta, est_mu, est_sigma,\n",
    "#     est_h_xi,\n",
    "#     pri_alpha, pri_beta, pri_gamma\n",
    "# )\n",
    "\n",
    "# np.trace(k)\n",
    "\n",
    "# np.linalg.slogdet(est_sigma)[1]\n",
    "\n",
    "# theta_p1*eta_p1+theta_p2*eta_p2-(pri_alpha-1)*eta_p1-(pri_beta-1)*eta_p2\\\n",
    "# +gammaln(theta_p1+theta_p2+2)-gammaln(theta_p1+1)-gammaln(theta_p2+1)-gammaln(pri_alpha+pri_beta)+gammaln(pri_alpha)+gammaln(pri_beta)\n",
    "\n",
    "# -logsumexp(est_h_xi, axis=1).sum()\n",
    "\n",
    "# train_X @ est_mu\n",
    "\n",
    "# train_Y@train_Y/2\n",
    "\n",
    "# train_Y @ train_X @ est_mu\n",
    "\n",
    "# train_X.T @ train_X @ est_sigma\n",
    "\n",
    "# ((train_Y - train_X @ est_mu)**2).sum()/2 + "
   ]
  },
  {
   "cell_type": "code",
   "execution_count": null,
   "metadata": {},
   "outputs": [],
   "source": []
  }
 ],
 "metadata": {
  "kernelspec": {
   "display_name": "study",
   "language": "python",
   "name": "study"
  },
  "language_info": {
   "codemirror_mode": {
    "name": "ipython",
    "version": 3
   },
   "file_extension": ".py",
   "mimetype": "text/x-python",
   "name": "python",
   "nbconvert_exporter": "python",
   "pygments_lexer": "ipython3",
   "version": "3.8.5"
  },
  "toc-autonumbering": true
 },
 "nbformat": 4,
 "nbformat_minor": 4
}

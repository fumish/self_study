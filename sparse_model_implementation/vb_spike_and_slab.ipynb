{
 "cells": [
  {
   "cell_type": "markdown",
   "metadata": {},
   "source": [
    "# Research about spike and slab for vb\n",
    "## Background\n",
    "+ In this study, we show how the approximated spike and slab prior gives a model selection.\n",
    "    + Especially, we consider about linear regression case.\n",
    "    \n",
    "+ To update the result, we utilized a stochastic gradeient descent for vb"
   ]
  },
  {
   "cell_type": "code",
   "execution_count": 1,
   "metadata": {},
   "outputs": [],
   "source": [
    "%matplotlib inline"
   ]
  },
  {
   "cell_type": "code",
   "execution_count": 2,
   "metadata": {},
   "outputs": [],
   "source": [
    "import numpy as np\n",
    "from scipy.stats import wishart, norm\n",
    "from scipy.special import gammaln, digamma, logsumexp\n",
    "from sklearn.linear_model import LassoCV\n",
    "import matplotlib.pyplot as plt"
   ]
  },
  {
   "cell_type": "markdown",
   "metadata": {},
   "source": [
    "# problem settings"
   ]
  },
  {
   "cell_type": "code",
   "execution_count": 3,
   "metadata": {},
   "outputs": [],
   "source": [
    "data_seed = 20210626\n",
    "n = 200\n",
    "M = 400\n",
    "\n",
    "N = 1000"
   ]
  },
  {
   "cell_type": "code",
   "execution_count": 4,
   "metadata": {},
   "outputs": [],
   "source": [
    "true_p = 0.7"
   ]
  },
  {
   "cell_type": "code",
   "execution_count": 5,
   "metadata": {},
   "outputs": [],
   "source": [
    "true_w = np.random.normal(size=M, scale=3)\n",
    "zero_ind = np.sort(np.random.dirichlet(np.ones(M), size=1).squeeze().argsort()[:np.floor(true_p * M).astype(int)])\n",
    "true_w[zero_ind] = 0"
   ]
  },
  {
   "cell_type": "code",
   "execution_count": 6,
   "metadata": {},
   "outputs": [],
   "source": [
    "# X_base = np.random.uniform(-1, 1, size=n)\n",
    "# train_X = X_base[:,np.newaxis]**(np.arange(M)[np.newaxis,:])\n",
    "train_X = np.random.uniform(-1,1, size=(n, M))\n",
    "train_Y = train_X@true_w + np.random.normal(size=n)"
   ]
  },
  {
   "cell_type": "code",
   "execution_count": 7,
   "metadata": {},
   "outputs": [],
   "source": [
    "# X_base = np.random.uniform(-1, 1, size=N)\n",
    "# test_X = X_base[:,np.newaxis]**(np.arange(M)[np.newaxis,:])\n",
    "test_X = np.random.uniform(-1,1, size=(N, M))\n",
    "test_Y = test_X@true_w + np.random.normal(size=N)"
   ]
  },
  {
   "cell_type": "code",
   "execution_count": 8,
   "metadata": {},
   "outputs": [
    {
     "data": {
      "text/plain": [
       "array([-1.97314273,  0.        ,  0.        ,  0.        ,  0.        ,\n",
       "        0.        , -0.9651663 ,  0.        ,  0.        ,  0.        ,\n",
       "        0.        ,  2.99459122,  0.        ,  0.        ,  0.        ,\n",
       "        0.        ,  0.        ,  0.        ,  3.99160088,  0.        ,\n",
       "        0.8728184 ,  0.        ,  0.        , -2.65582034,  0.        ,\n",
       "        0.        , -2.96482766,  0.        ,  0.        , -1.63057249,\n",
       "        0.        , -2.52426982, -4.77307043, -1.38495415,  0.        ,\n",
       "        1.14324722,  0.        ,  0.        ,  0.        ,  0.        ,\n",
       "        0.        ,  1.84717945,  0.        ,  0.        ,  6.55980258,\n",
       "        0.        ,  5.21483462,  0.        , -4.76751668,  5.46651669,\n",
       "        0.        ,  0.        ,  0.        ,  6.62280425,  0.        ,\n",
       "        0.        ,  0.        ,  0.        ,  0.        ,  0.        ,\n",
       "        0.        ,  0.        ,  2.08620137,  1.06671506, -0.36835393,\n",
       "        0.        ,  0.        ,  0.        ,  1.36651802, -3.58907984,\n",
       "        0.        ,  1.74927664,  0.        , -2.83903632,  0.        ,\n",
       "        0.        ,  0.        ,  5.12706333,  0.        ,  0.        ,\n",
       "        0.        ,  2.92016847,  0.        ,  0.        ,  0.        ,\n",
       "        0.51391823,  4.22993296,  0.        ,  0.        ,  0.        ,\n",
       "        0.        ,  2.87783162, -0.71423054, -0.55736518,  0.        ,\n",
       "        0.        ,  0.        ,  2.38776744,  0.        ,  0.        ,\n",
       "        0.        ,  0.        ,  0.        ,  0.        , -1.56282594,\n",
       "        0.        ,  0.        ,  0.26191329,  0.16648705,  1.1292807 ,\n",
       "       -2.49741649,  0.        ,  3.27905844,  0.        , -6.58692201,\n",
       "        0.        ,  0.        ,  0.        ,  0.        ,  0.        ,\n",
       "        0.        ,  0.31339046, -0.45853474,  0.        ,  1.54419441,\n",
       "        0.        ,  0.        ,  0.        , -0.41485928, -3.03342147,\n",
       "        0.        ,  0.        ,  0.        , -5.42445007,  0.        ,\n",
       "        0.        ,  0.        ,  0.        , -3.28232035,  0.        ,\n",
       "        0.        ,  0.        ,  0.        ,  0.        , -2.63288613,\n",
       "       -4.84813768,  0.        ,  0.        ,  0.        ,  0.        ,\n",
       "        0.7519051 , -5.29377218,  0.        ,  0.        , -2.76922653,\n",
       "        0.        ,  0.        ,  0.        , -3.62813811,  0.        ,\n",
       "        0.        ,  0.        , -2.44255787, -8.99793085, -2.38506965,\n",
       "        0.        ,  0.        ,  0.        ,  0.        ,  1.1247466 ,\n",
       "        4.57321141,  0.        ,  0.        ,  0.        ,  2.07354583,\n",
       "        0.        ,  0.        ,  0.        ,  0.        ,  0.        ,\n",
       "        0.        , -5.43842222,  0.        ,  0.        ,  0.        ,\n",
       "        3.74039796,  0.        ,  0.        ,  0.        ,  0.4813053 ,\n",
       "        0.        ,  0.        ,  0.42812109,  0.        ,  0.        ,\n",
       "        0.        ,  0.        ,  0.        ,  0.        , -0.05940114,\n",
       "        0.        , -1.92190573, -2.74556108,  0.        ,  0.        ,\n",
       "       -1.61372137,  0.        ,  0.        ,  0.        , -2.53147751,\n",
       "       -2.7919651 ,  0.        , -3.54172352,  0.        , -0.77296786,\n",
       "        0.        ,  0.        ,  0.        ,  0.        ,  0.        ,\n",
       "        0.        ,  2.78402097, -3.3420582 ,  0.        ,  0.        ,\n",
       "        0.        ,  0.        ,  0.        ,  5.62645097,  0.        ,\n",
       "        3.21266936,  0.        ,  0.        ,  0.        ,  0.        ,\n",
       "        0.        ,  0.        , -4.05599269,  0.        ,  0.        ,\n",
       "        0.        ,  4.79777141, -2.16374488,  2.98231083,  0.        ,\n",
       "        0.        ,  0.46581635,  0.        ,  0.33452238,  2.07537964,\n",
       "        0.        ,  0.        ,  0.        ,  0.        ,  0.        ,\n",
       "        0.        ,  0.        , -2.77061431,  0.        ,  0.56120459,\n",
       "        0.        , -2.7426114 ,  0.        ,  0.71836352,  0.        ,\n",
       "        0.        ,  0.        ,  0.        ,  0.        ,  0.        ,\n",
       "        0.        ,  0.        ,  0.        ,  0.        , -0.36269098,\n",
       "        0.        ,  0.83244587,  0.        ,  0.63449485,  0.        ,\n",
       "        0.        ,  0.        ,  0.        ,  1.84467021, -3.2839412 ,\n",
       "        0.        ,  0.        ,  0.        ,  0.        ,  0.        ,\n",
       "        0.        ,  0.        ,  0.        ,  0.        , -5.17451084,\n",
       "        0.        , -1.57155564,  0.        ,  0.        ,  0.        ,\n",
       "        0.        ,  0.        , -0.43220092,  1.52038072, -0.4230755 ,\n",
       "       -0.46159993, -4.11307087, -3.02106941,  0.        ,  0.        ,\n",
       "       -3.8009439 ,  0.        ,  0.        ,  0.        ,  0.        ,\n",
       "        0.        ,  0.        , -1.04881678,  0.        ,  6.1537468 ,\n",
       "        0.        ,  0.        ,  0.        ,  0.        ,  2.00189202,\n",
       "        0.        ,  0.        , -1.25265832,  0.        ,  0.        ,\n",
       "        0.        ,  0.        ,  0.        ,  0.        ,  0.        ,\n",
       "        0.        ,  0.        ,  0.        ,  0.        ,  0.        ,\n",
       "        4.76906637,  0.        ,  0.        ,  0.        ,  0.        ,\n",
       "        0.49281172,  0.        ,  0.        ,  0.        ,  0.        ,\n",
       "       -0.234533  ,  0.        , -1.75920831,  0.        ,  0.        ,\n",
       "        0.        ,  0.        ,  0.        ,  0.        ,  0.        ,\n",
       "        1.84789269,  0.        ,  0.        ,  0.        , -2.93708906,\n",
       "        0.        ,  0.        ,  0.        ,  0.        ,  0.        ,\n",
       "        0.        , -3.52720188,  0.        ,  0.        ,  0.        ,\n",
       "        0.        ,  0.        ,  1.98123761,  0.        ,  0.        ,\n",
       "       -3.15861517,  0.        , -0.98427933,  5.742452  ,  2.87221564,\n",
       "        0.        ,  0.        , -5.76030142,  0.        ,  0.        ,\n",
       "        0.        ,  3.33464971,  0.        ,  0.        , -0.1357696 ,\n",
       "        0.        , -3.26081363,  0.        ,  0.        ,  0.        ])"
      ]
     },
     "execution_count": 8,
     "metadata": {},
     "output_type": "execute_result"
    }
   ],
   "source": [
    "true_w"
   ]
  },
  {
   "cell_type": "code",
   "execution_count": 9,
   "metadata": {},
   "outputs": [
    {
     "data": {
      "text/plain": [
       "<matplotlib.collections.PathCollection at 0x22a347d5c10>"
      ]
     },
     "execution_count": 9,
     "metadata": {},
     "output_type": "execute_result"
    },
    {
     "data": {
      "image/png": "[encoded data removed]",
      "text/plain": [
       "<Figure size 432x288 with 1 Axes>"
      ]
     },
     "metadata": {
      "needs_background": "light"
     },
     "output_type": "display_data"
    }
   ],
   "source": [
    "plt.scatter(test_X[:,1], test_Y)"
   ]
  },
  {
   "cell_type": "markdown",
   "metadata": {},
   "source": [
    "# Learning part"
   ]
  },
  {
   "cell_type": "markdown",
   "metadata": {},
   "source": [
    "## learning settings\n"
   ]
  },
  {
   "cell_type": "code",
   "execution_count": 10,
   "metadata": {},
   "outputs": [],
   "source": [
    "log_normal_func = lambda x, sigma: -np.log(2*np.pi*sigma) - x/sigma/2"
   ]
  },
  {
   "cell_type": "code",
   "execution_count": 17,
   "metadata": {},
   "outputs": [],
   "source": [
    "pri_alpha = 1\n",
    "pri_beta = 1\n",
    "pri_gamma = 0.0001\n",
    "pri_delta_c = 0.005\n",
    "approx_delta_func = lambda x, c: np.exp(-x**2/c/2)/np.sqrt(2*np.pi*c)\n",
    "# approx_delta_log_func = lambda x, c: -np.log(2*np.pi*c)/2 - x/c/2\n",
    "\n",
    "iteration = 3000\n",
    "rho = 1\n",
    "learning_seed = 20210628\n",
    "\n",
    "tol = 1e-5\n",
    "\n",
    "step = 100"
   ]
  },
  {
   "cell_type": "code",
   "execution_count": 18,
   "metadata": {},
   "outputs": [],
   "source": [
    "np.random.seed(learning_seed)"
   ]
  },
  {
   "cell_type": "markdown",
   "metadata": {},
   "source": [
    "## initialization"
   ]
  },
  {
   "cell_type": "code",
   "execution_count": 19,
   "metadata": {},
   "outputs": [],
   "source": [
    "est_alpha=np.random.gamma(shape=1, size=1).squeeze()\n",
    "est_beta=np.random.gamma(shape=1, size=1).squeeze()\n",
    "est_sigma = np.linalg.inv(wishart.rvs(df=M+1, scale=np.eye(M), size=1))\n",
    "est_mu = np.random.normal(size=M)"
   ]
  },
  {
   "cell_type": "markdown",
   "metadata": {},
   "source": [
    "## main learning"
   ]
  },
  {
   "cell_type": "code",
   "execution_count": 20,
   "metadata": {},
   "outputs": [],
   "source": [
    "def calc_energy(\n",
    "    train_X: np.ndarray, train_Y: np.ndarray,\n",
    "    est_alpha: float, est_beta: float, est_mu: np.ndarray, est_sigma: np.ndarray, \n",
    "    est_h_xi: np.ndarray, est_z_xi: np.ndarray,\n",
    "    pri_alpha: float, pri_beta: float, pri_gamma: float, pri_delta_c: float=0.001\n",
    "):\n",
    "    (n, M) = train_X.shape\n",
    "    \n",
    "    sum_alpha_beta = est_alpha+est_beta\n",
    "    eta_p1 = digamma(est_alpha)-digamma(est_alpha+est_beta)\n",
    "    eta_p2 = digamma(est_beta)-digamma(est_alpha+est_beta)\n",
    "    eta_m2 = np.outer(est_mu, est_mu) + est_sigma\n",
    "    \n",
    "    current_h_xi = np.vstack([\n",
    "        eta_p1+log_normal_func(np.diag(eta_m2), pri_delta_c),\n",
    "        eta_p2+norm.logpdf(np.diag(eta_m2), loc=0, scale=1/pri_gamma**2)\n",
    "    ]).T\n",
    "    \n",
    "    KL_p = (est_alpha-1)*(eta_p1)+(est_beta-1)*(eta_p2)-(pri_alpha-1)*eta_p1-(pri_beta-1)*eta_p2\\\n",
    "    +gammaln(est_alpha+est_beta)-gammaln(est_alpha)-gammaln(est_beta)-gammaln(pri_alpha+pri_beta)+gammaln(pri_alpha)+gammaln(pri_beta)\n",
    "    \n",
    "    KL_m = -0.5*M-0.5*M*np.log(2*np.pi)+0.5*np.linalg.slogdet(est_sigma)[1]\\\n",
    "    - logsumexp(est_h_xi).sum() + (est_z_xi * (current_h_xi - est_h_xi)).sum()\n",
    "    \n",
    "    loss_Y = 0.5*n*np.log(2*np.pi) + 0.5*((train_Y-train_X@est_mu)**2).sum() + 0.5*np.trace(train_X.T@train_X@est_sigma)\n",
    "    \n",
    "    return (KL_p+KL_m+loss_Y), KL_p, KL_m, loss_Y"
   ]
  },
  {
   "cell_type": "code",
   "execution_count": 21,
   "metadata": {},
   "outputs": [
    {
     "name": "stdout",
     "output_type": "stream",
     "text": [
      "-3016.450019360459 -3.0734826305671437 -396.37778129591993 148162626.06690472 27853886.479044326\n",
      "-3055.9705180468654 -0.020841264154369377 0.02084126415445553 2.786774693800663e-11 102039293.816589\n",
      "-3055.347614083303 -0.010422282638187674 0.010422282638046454 5.833324920760972e-11 404039145.7699696\n",
      "-3055.090974812156 -0.006948833092178308 0.006948833091882989 7.019803904224007e-11 906039097.5041139\n",
      "-3054.9620883666735 -0.005211968085879981 0.005211968085575336 9.696298457734212e-11 1608039073.6902456\n",
      "-3054.8959158636226 -0.004169787550186488 0.004169787549869852 1.1527606029010875e-10 2510039059.555976\n",
      "-3054.8657401064293 -0.003474968074443474 0.003474968074044682 1.5209944189701493e-10 3612039050.22535\n"
     ]
    }
   ],
   "source": [
    "prev_energy = np.inf\n",
    "for ite in range(iteration):\n",
    "    pri_delta_c_t = pri_delta_c/(ite+1)\n",
    "#     pri_delta_c_t = pri_delta_c\n",
    "#     pri_delta_c_t = pri_delta_c if ite == 0 else (est_z_xi[:,0]*np.diag(eta_m2)).sum() / est_z_xi[:,0].sum()\n",
    "    \n",
    "    ### transform to natural parameters\n",
    "    theta_p1 = est_alpha-1\n",
    "    theta_p2 = est_beta-1\n",
    "    theta_m1 = np.linalg.solve(est_sigma, est_mu)\n",
    "    theta_m2 = -np.linalg.inv(est_sigma)/2\n",
    "\n",
    "    ### set expectation parameters\n",
    "    eta_p1 = digamma(est_alpha) - digamma(est_alpha+est_beta)\n",
    "    eta_p2 = digamma(est_beta) - digamma(est_alpha+est_beta)\n",
    "    eta_m1 = est_mu\n",
    "    eta_m2 = est_sigma + np.outer(est_mu, est_mu)\n",
    "\n",
    "    ### update local parameter\n",
    "    est_h_xi = np.vstack([\n",
    "        eta_p1+log_normal_func(np.diag(eta_m2), sigma=pri_delta_c_t),\n",
    "        eta_p2+log_normal_func(np.diag(eta_m2), sigma=1/pri_gamma),\n",
    "    ]).T\n",
    "\n",
    "    est_z_xi = np.exp(est_h_xi - logsumexp(est_h_xi, axis=1, keepdims=True))\n",
    "\n",
    "    ### derivative of expectation parameters\n",
    "    n_z = est_z_xi.sum(axis=0)\n",
    "    dFdeta_p1 = theta_p1 - n_z[0] - (pri_alpha - 1)\n",
    "    dFdeta_p2 = theta_p2 - n_z[1] - (pri_alpha - 1)\n",
    "    dFdeta_m1 = theta_m1 - train_X.T@train_Y\n",
    "    dFdeta_m2 = theta_m2 + 0.5*train_X.T@train_X + (np.diag(est_z_xi[:,0]))/(2*pri_delta_c_t) + (np.diag(est_z_xi[:,1]))/2*pri_gamma\n",
    "\n",
    "    ### update global parameters\n",
    "    rho_t=rho/(ite+1)\n",
    "    theta_p1 -= rho_t*dFdeta_p1\n",
    "    theta_p2 -= rho_t*dFdeta_p2\n",
    "    theta_m1 -= rho_t*dFdeta_m1\n",
    "    theta_m2 -= rho_t*dFdeta_m2\n",
    "\n",
    "    ### transform to original parameters\n",
    "    est_alpha = theta_p1 + 1\n",
    "    est_beta = theta_p2 + 1\n",
    "    est_sigma = -0.5*np.linalg.inv(theta_m2)\n",
    "    est_mu = est_sigma @ theta_m1\n",
    "\n",
    "    energy = calc_energy(\n",
    "            train_X, train_Y,\n",
    "            est_alpha, est_beta, est_mu, est_sigma,\n",
    "            est_h_xi, est_z_xi,\n",
    "            pri_alpha, pri_beta, pri_gamma, pri_delta_c_t\n",
    "    )[0]\n",
    "    \n",
    "    if ite%step == 0:\n",
    "        print(energy, dFdeta_p1, dFdeta_p2, (dFdeta_m1**2).sum(), (dFdeta_m2**2).sum())\n",
    "#     print(\"delta variance: \", (est_z_xi[:,0]*np.diag(eta_m2)).sum() / est_z_xi[:,0].sum())\n",
    "\n",
    "    if np.abs(energy - prev_energy) < tol:\n",
    "        break\n",
    "    else:\n",
    "        prev_energy = energy\n",
    "    pass"
   ]
  },
  {
   "cell_type": "code",
   "execution_count": 22,
   "metadata": {},
   "outputs": [
    {
     "data": {
      "text/plain": [
       "array([  3.99999931, 396.00000069])"
      ]
     },
     "execution_count": 22,
     "metadata": {},
     "output_type": "execute_result"
    }
   ],
   "source": [
    "est_z_xi.sum(axis=0)"
   ]
  },
  {
   "cell_type": "code",
   "execution_count": null,
   "metadata": {},
   "outputs": [],
   "source": []
  },
  {
   "cell_type": "code",
   "execution_count": 38,
   "metadata": {},
   "outputs": [
    {
     "data": {
      "text/plain": [
       "0.012435447210726102"
      ]
     },
     "execution_count": 38,
     "metadata": {},
     "output_type": "execute_result"
    }
   ],
   "source": [
    "est_alpha/(est_alpha+est_beta)"
   ]
  },
  {
   "cell_type": "code",
   "execution_count": 39,
   "metadata": {},
   "outputs": [
    {
     "data": {
      "text/plain": [
       "array([  0,   1,   5,   6,   7,   8,   9,  10,  12,  13,  14,  15,  16,\n",
       "        18,  19,  20,  21,  22,  23,  24,  25,  26,  27,  31,  32,  35,\n",
       "        37,  38,  40,  41,  42,  44,  45,  47,  48,  49,  51,  52,  53,\n",
       "        55,  56,  59,  60,  61,  62,  63,  64,  65,  67,  68,  70,  71,\n",
       "        72,  73,  74,  75,  77,  79,  81,  82,  83,  84,  85,  86,  88,\n",
       "        90,  91,  93,  94,  97,  98,  99, 100, 101, 102, 103, 104, 105,\n",
       "       107, 108, 109, 110, 111, 113, 115, 116, 119, 121, 122, 123, 125,\n",
       "       128, 129, 130, 131, 132, 133, 134, 135, 136, 137, 138, 139, 140,\n",
       "       142, 144, 145, 146, 147, 148, 150, 152, 157, 158, 159, 161, 162,\n",
       "       163, 164, 165, 167, 168, 169, 171, 172, 173, 174, 175, 176, 177,\n",
       "       180, 181, 183, 184, 186, 187, 188, 189, 192, 193, 194, 195, 196,\n",
       "       197, 199, 200, 201, 203, 204, 206, 207, 209, 211, 212, 213, 214,\n",
       "       215, 218, 219, 221, 223, 224, 226, 227, 228, 230, 231, 233, 234,\n",
       "       235, 236, 237, 238, 242, 243, 244, 245, 246, 247, 248, 252, 256,\n",
       "       257, 259, 261, 262, 263, 265, 266, 268, 270, 271, 272, 273, 275,\n",
       "       276, 277, 278, 279, 281, 282, 284, 286, 288, 289, 290, 294, 295,\n",
       "       297, 299, 300, 301, 302, 303, 305, 306, 311, 312, 313, 314, 315,\n",
       "       316, 318, 319, 322, 323, 324, 325, 326, 327, 328, 329, 331, 332,\n",
       "       334, 336, 337, 339, 340, 343, 345, 349, 350, 351, 352, 353, 354,\n",
       "       355, 357, 360, 361, 362, 364, 365, 369, 370, 371, 372, 373, 374,\n",
       "       375, 377, 378, 379, 380, 382, 383, 385, 386, 387, 389, 390, 391,\n",
       "       392, 393, 394, 395, 396, 397, 399], dtype=int64)"
      ]
     },
     "execution_count": 39,
     "metadata": {},
     "output_type": "execute_result"
    }
   ],
   "source": [
    "zero_ind"
   ]
  },
  {
   "cell_type": "code",
   "execution_count": 39,
   "metadata": {},
   "outputs": [
    {
     "data": {
      "text/plain": [
       "array([9.96697147e-05, 9.97057611e-05, 9.96876387e-05, 9.97055903e-05,\n",
       "       9.96786244e-05, 9.96936404e-05, 9.97180839e-05, 9.97351732e-05,\n",
       "       9.96914696e-05, 9.97145479e-05, 9.95913574e-05, 9.97641887e-05,\n",
       "       9.96770881e-05, 9.97270825e-05, 9.97033410e-05, 9.96871801e-05,\n",
       "       9.97425617e-05, 9.96864883e-05, 9.97366674e-05, 9.96697019e-05,\n",
       "       9.96727530e-05, 9.97282494e-05, 9.97033204e-05, 9.96712616e-05,\n",
       "       9.97221598e-05, 9.96889385e-05, 9.96978407e-05, 9.96844693e-05,\n",
       "       9.97195690e-05, 9.96896222e-05, 9.97269529e-05, 9.97253245e-05,\n",
       "       9.97140158e-05, 9.96807132e-05, 9.96772213e-05, 9.96976579e-05,\n",
       "       9.97156712e-05, 9.96791291e-05, 9.96779701e-05, 9.97133471e-05,\n",
       "       9.96552927e-05, 9.97782338e-05, 9.96457014e-05, 9.97264591e-05,\n",
       "       9.96909315e-05, 9.97442233e-05, 9.96842109e-05, 9.96623042e-05,\n",
       "       9.96783513e-05, 9.96658190e-05, 9.96588315e-05, 9.97170683e-05,\n",
       "       9.97419442e-05, 9.97069829e-05, 9.96743539e-05, 9.96771990e-05,\n",
       "       9.97298868e-05, 9.97730230e-05, 9.96816092e-05, 9.96958257e-05,\n",
       "       9.97002775e-05, 9.96492579e-05, 9.96727020e-05, 9.96665999e-05,\n",
       "       9.96563115e-05, 9.96691799e-05, 9.96545204e-05, 9.97749255e-05,\n",
       "       9.97230732e-05, 9.97270912e-05, 9.96910751e-05, 9.97856142e-05,\n",
       "       9.96579646e-05, 9.97054232e-05, 9.96915406e-05, 9.97264494e-05,\n",
       "       9.96796649e-05, 9.97205155e-05, 9.96499508e-05, 9.96579358e-05,\n",
       "       9.96880988e-05, 9.96492465e-05, 9.96640786e-05, 9.96567087e-05,\n",
       "       9.97064308e-05, 9.97000718e-05, 9.95712328e-05, 9.96334406e-05,\n",
       "       9.96672914e-05, 9.97073393e-05, 9.96914255e-05, 9.95678540e-05,\n",
       "       9.96464967e-05, 9.96733391e-05, 9.97186122e-05, 9.96909804e-05,\n",
       "       9.97204067e-05, 9.97646749e-05, 9.97152912e-05, 9.96488511e-05,\n",
       "       9.97429612e-05, 9.97478243e-05, 9.96807893e-05, 9.96779023e-05,\n",
       "       9.96759750e-05, 9.97146663e-05, 9.96900360e-05, 9.96692021e-05,\n",
       "       9.97152257e-05, 9.96876045e-05, 9.96673346e-05, 9.97263405e-05,\n",
       "       9.96969412e-05, 9.97211772e-05, 9.97357831e-05, 9.97042960e-05,\n",
       "       9.97462895e-05, 9.97094548e-05, 9.96997289e-05, 9.97576625e-05,\n",
       "       9.96930947e-05, 9.97680643e-05, 9.95813624e-05, 9.96662886e-05,\n",
       "       9.96827861e-05, 9.95852160e-05, 9.97000998e-05, 9.97345701e-05,\n",
       "       9.96482538e-05, 9.96477170e-05, 9.97163454e-05, 9.97358657e-05,\n",
       "       9.97294874e-05, 9.97306819e-05, 9.97124292e-05, 9.96848211e-05,\n",
       "       9.97222747e-05, 9.96324807e-05, 9.96733233e-05, 9.97322065e-05,\n",
       "       9.96811223e-05, 9.96696320e-05, 9.96862246e-05, 9.96758969e-05,\n",
       "       9.96728041e-05, 9.96958918e-05, 9.97000632e-05, 9.96588984e-05,\n",
       "       9.97246504e-05, 9.97011855e-05, 9.96551164e-05, 9.96695236e-05,\n",
       "       9.96977247e-05, 9.97333771e-05, 9.96845152e-05, 9.96727336e-05,\n",
       "       9.97148971e-05, 9.97203509e-05, 9.97645486e-05, 9.96995003e-05,\n",
       "       9.96967142e-05, 9.97272947e-05, 9.96995511e-05, 9.96823654e-05,\n",
       "       9.97021816e-05, 9.97147980e-05, 9.97295377e-05, 9.96117875e-05,\n",
       "       9.97273545e-05, 9.97309745e-05, 9.96857377e-05, 9.96936416e-05,\n",
       "       9.97593440e-05, 9.96554660e-05, 9.96943016e-05, 9.96614126e-05,\n",
       "       9.97050481e-05, 9.96956299e-05, 9.97195472e-05, 9.95891839e-05,\n",
       "       9.97116985e-05, 9.97645747e-05, 9.96710780e-05, 9.97423687e-05,\n",
       "       9.96734871e-05, 9.96671301e-05, 9.97124879e-05, 9.96979967e-05,\n",
       "       9.97027030e-05, 9.96711986e-05, 9.96931329e-05, 9.97244926e-05,\n",
       "       9.97036266e-05, 9.96930856e-05, 9.95981771e-05, 9.97146178e-05,\n",
       "       9.96679533e-05, 9.97491808e-05, 9.96650896e-05, 9.96531219e-05,\n",
       "       9.96848093e-05, 9.96740442e-05, 9.96725859e-05, 9.96959619e-05,\n",
       "       9.96871536e-05, 9.97231602e-05, 9.96696473e-05, 9.96618300e-05,\n",
       "       9.97655993e-05, 9.97170419e-05, 9.97366783e-05, 9.96760124e-05,\n",
       "       9.96301020e-05, 9.96605559e-05, 9.97095563e-05, 9.97152391e-05,\n",
       "       9.96386355e-05, 9.96553217e-05, 9.96956238e-05, 9.96062555e-05,\n",
       "       9.97392824e-05, 9.96748389e-05, 9.97215432e-05, 9.96509562e-05,\n",
       "       9.96870554e-05, 9.96456188e-05, 9.96957796e-05, 9.97084774e-05,\n",
       "       9.97164342e-05, 9.97008941e-05, 9.96875779e-05, 9.97115047e-05,\n",
       "       9.96529525e-05, 9.96006213e-05, 9.97174357e-05, 9.97012429e-05,\n",
       "       9.96727542e-05, 9.97255176e-05, 9.96869589e-05, 9.95971716e-05,\n",
       "       9.96274674e-05, 9.97449649e-05, 9.97383046e-05, 9.96931208e-05,\n",
       "       9.96915035e-05, 9.97333197e-05, 9.97238530e-05, 9.96766187e-05,\n",
       "       9.96188736e-05, 9.97028770e-05, 9.97130738e-05, 9.97294667e-05,\n",
       "       9.97086336e-05, 9.96254283e-05, 9.96671795e-05, 9.97487849e-05,\n",
       "       9.97499213e-05, 9.96794509e-05, 9.97693948e-05, 9.97406162e-05,\n",
       "       9.96420226e-05, 9.96466039e-05, 9.96221492e-05, 9.96713515e-05,\n",
       "       9.96823918e-05, 9.96375312e-05, 9.96866174e-05, 9.96841584e-05,\n",
       "       9.96990574e-05, 9.96873079e-05, 9.97372320e-05, 9.96880010e-05,\n",
       "       9.96972507e-05, 9.97043160e-05, 9.97398242e-05, 9.96628218e-05,\n",
       "       9.97081807e-05, 9.97204763e-05, 9.97293228e-05])"
      ]
     },
     "execution_count": 39,
     "metadata": {},
     "output_type": "execute_result"
    }
   ],
   "source": [
    "np.diag(est_sigma)[np.where(est_z_xi.argmax(axis=1)==0)[0]]"
   ]
  },
  {
   "cell_type": "code",
   "execution_count": 40,
   "metadata": {},
   "outputs": [
    {
     "data": {
      "text/plain": [
       "array([-3.47879626, -4.48258742,  3.04200209, -4.07107087, -2.3281642 ,\n",
       "        2.85568698, -2.50225001, -1.67061248,  1.06873626, -1.44009723,\n",
       "        1.13862644,  1.52357888,  0.95304507,  1.66735924, -2.56199404,\n",
       "       -2.46262747,  1.15335378,  2.70032645, -0.92407047, -5.94657153,\n",
       "        2.34262888, -0.65058078, -2.45071695, -3.46817882,  1.76447743,\n",
       "        1.91531004, -1.05602383, -5.53099371, -7.27613114, -3.26092208,\n",
       "       -2.10813225, -1.10615616, -2.5451636 ,  2.6924581 ,  3.56240367,\n",
       "       -8.65459478, -6.41475295, -3.40426381,  3.80167501, -1.79903958,\n",
       "        1.28320509, -3.50268718,  0.74454386, -8.9443394 , -6.2948517 ,\n",
       "        2.64433589,  4.0797677 , -2.50489436,  2.92557759,  2.24565623,\n",
       "        2.76272187, -4.90357984,  2.88745906, -3.110563  , -1.15217036,\n",
       "        2.15560545,  8.45682201,  5.9265116 , -5.1106383 ,  2.77206713,\n",
       "        6.03983394,  3.41933007, -3.71894479, -1.7405305 , -3.5372665 ,\n",
       "        2.53043474, -2.03617268,  2.74074459,  1.88788925,  2.39388686,\n",
       "        2.24678649, -5.84430782,  1.92823243,  2.01943918, -2.62769165,\n",
       "       -3.34366276,  3.65790755, -1.39627289, -1.85128485, -3.74209054,\n",
       "       -2.43167502,  0.9328181 , -1.12483168, -3.5679516 , -5.78904752,\n",
       "        2.7019119 ,  3.43087908,  3.44945834, -2.85085934, -3.85893262,\n",
       "        0.07780854,  3.84998791, -3.65465698, -3.51157394,  4.94151384,\n",
       "       -1.75699581, -0.13905403,  1.8083448 , -2.46433189,  1.34087604,\n",
       "        1.48724014, -2.10036489, -1.88223524, -3.00469928, -0.91300496,\n",
       "       -2.66927231, -1.29942833, -6.70506883, -1.53528757,  5.17027279,\n",
       "        3.97859738,  3.93153915,  3.09210967,  5.48204181, -1.67722864,\n",
       "       -2.11119274, -1.77061433,  2.03890981, -6.17843441,  5.40019145,\n",
       "       -2.66780522])"
      ]
     },
     "execution_count": 40,
     "metadata": {},
     "output_type": "execute_result"
    }
   ],
   "source": [
    "est_mu[np.where(est_z_xi.argmax(axis=1)==1)[0]]"
   ]
  },
  {
   "cell_type": "code",
   "execution_count": 41,
   "metadata": {},
   "outputs": [
    {
     "data": {
      "text/plain": [
       "array([  0,   1,   2,   3,   4,   5,   6,   9,  10,  11,  12,  15,  16,\n",
       "        18,  19,  20,  21,  22,  23,  24,  25,  26,  28,  29,  32,  33,\n",
       "        34,  35,  37,  38,  40,  41,  42,  43,  44,  45,  47,  49,  50,\n",
       "        51,  52,  53,  54,  55,  56,  57,  58,  62,  67,  68,  70,  71,\n",
       "        72,  74,  75,  76,  77,  80,  81,  82,  83,  84,  86,  87,  88,\n",
       "        90,  92,  93,  94,  96,  97,  98, 100, 101, 103, 104, 105, 106,\n",
       "       107, 109, 110, 111, 112, 114, 117, 118, 119, 120, 121, 123, 125,\n",
       "       128, 129, 130, 131, 134, 135, 136, 137, 138, 142, 143, 144, 145,\n",
       "       148, 150, 152, 153, 154, 155, 156, 159, 160, 161, 162, 163, 164,\n",
       "       165, 166, 169, 170, 171, 173, 174, 175, 176, 177, 178, 179, 180,\n",
       "       182, 183, 184, 186, 187, 188, 189, 192, 193, 194, 195, 196, 198,\n",
       "       200, 202, 203, 204, 205, 206, 208, 209, 210, 211, 213, 216, 217,\n",
       "       218, 219, 220, 221, 222, 225, 226, 227, 230, 231, 232, 234, 235,\n",
       "       236, 238, 240, 242, 244, 245, 247, 248, 250, 251, 252, 253, 255,\n",
       "       256, 257, 258, 259, 260, 261, 262, 263, 264, 265, 266, 269, 271,\n",
       "       273, 274, 276, 279, 280, 281, 282, 283, 285, 286, 287, 291, 292,\n",
       "       295, 296, 299, 301, 302, 303, 305, 307, 308, 309, 311, 312, 313,\n",
       "       314, 315, 316, 318, 319, 320, 322, 324, 326, 327, 328, 329, 330,\n",
       "       331, 332, 333, 334, 336, 337, 340, 341, 342, 343, 344, 345, 347,\n",
       "       348, 350, 351, 352, 353, 354, 357, 358, 359, 361, 362, 364, 365,\n",
       "       366, 367, 368, 369, 371, 375, 376, 377, 378, 380, 381, 382, 384,\n",
       "       385, 390, 392, 394, 395, 397, 399], dtype=int64)"
      ]
     },
     "execution_count": 41,
     "metadata": {},
     "output_type": "execute_result"
    }
   ],
   "source": [
    "zero_ind"
   ]
  },
  {
   "cell_type": "code",
   "execution_count": 42,
   "metadata": {},
   "outputs": [
    {
     "data": {
      "text/plain": [
       "array([  0,   1,   2,   3,   4,   5,   6,   9,  10,  11,  12,  14,  15,\n",
       "        16,  17,  18,  21,  22,  23,  24,  25,  26,  29,  30,  31,  32,\n",
       "        33,  34,  35,  37,  38,  40,  41,  42,  43,  44,  45,  47,  48,\n",
       "        49,  51,  52,  53,  55,  56,  57,  59,  60,  62,  63,  64,  65,\n",
       "        66,  67,  70,  72,  75,  76,  77,  80,  81,  82,  83,  84,  85,\n",
       "        86,  88,  89,  91,  92,  93,  94,  95,  96,  97,  98, 101, 102,\n",
       "       103, 104, 106, 107, 108, 111, 112, 114, 116, 117, 118, 119, 120,\n",
       "       121, 122, 123, 124, 125, 127, 128, 129, 131, 132, 133, 134, 135,\n",
       "       138, 142, 143, 144, 147, 148, 149, 152, 154, 156, 159, 164, 165,\n",
       "       166, 168, 169, 171, 174, 175, 176, 177, 180, 181, 183, 184, 186,\n",
       "       187, 188, 189, 190, 191, 192, 193, 194, 195, 197, 198, 200, 201,\n",
       "       202, 203, 204, 206, 207, 208, 209, 210, 213, 215, 216, 217, 218,\n",
       "       219, 220, 221, 222, 225, 227, 228, 234, 235, 236, 238, 240, 241,\n",
       "       242, 243, 244, 245, 246, 248, 250, 252, 253, 254, 256, 257, 258,\n",
       "       259, 261, 264, 265, 266, 269, 270, 273, 274, 276, 277, 279, 281,\n",
       "       283, 285, 288, 290, 291, 293, 294, 295, 296, 297, 299, 300, 301,\n",
       "       302, 303, 304, 305, 307, 308, 309, 310, 314, 315, 316, 317, 318,\n",
       "       319, 322, 323, 324, 326, 327, 330, 331, 332, 334, 337, 339, 340,\n",
       "       341, 342, 343, 344, 345, 346, 347, 348, 349, 350, 351, 352, 353,\n",
       "       354, 356, 357, 359, 360, 361, 362, 364, 365, 366, 367, 368, 369,\n",
       "       372, 375, 376, 377, 378, 380, 381, 382, 384, 388, 389, 390, 392,\n",
       "       393, 394, 396, 397, 398, 399], dtype=int64)"
      ]
     },
     "execution_count": 42,
     "metadata": {},
     "output_type": "execute_result"
    }
   ],
   "source": [
    "np.where(est_z_xi.argmax(axis=1)==0)[0]"
   ]
  },
  {
   "cell_type": "code",
   "execution_count": 47,
   "metadata": {},
   "outputs": [
    {
     "data": {
      "text/plain": [
       "array([ 0.        ,  0.        ,  0.        ,  0.        ,  0.        ,\n",
       "        0.        ,  0.        , -3.61173583, -1.30717887,  0.        ,\n",
       "        0.        ,  0.        ,  0.        ,  3.65335021,  2.95643311,\n",
       "        0.        ,  0.        ,  0.25756714,  0.        ,  0.        ])"
      ]
     },
     "execution_count": 47,
     "metadata": {},
     "output_type": "execute_result"
    }
   ],
   "source": [
    "true_w[:20]"
   ]
  },
  {
   "cell_type": "code",
   "execution_count": 48,
   "metadata": {},
   "outputs": [
    {
     "data": {
      "text/plain": [
       "array([ 6.69445275e-04,  1.83223307e-04, -3.27882897e-03,  1.74784028e-03,\n",
       "        3.97219922e-04,  1.27771536e-03,  1.27015832e-03, -3.47879626e+00,\n",
       "       -4.48258742e+00, -1.09697037e-04,  3.28883088e-03,  1.28584447e-03,\n",
       "        5.01862934e-04,  3.04200209e+00, -6.60284994e-04,  9.54805275e-04,\n",
       "       -1.09213967e-03,  8.39790653e-04,  2.83315383e-03, -4.07107087e+00])"
      ]
     },
     "execution_count": 48,
     "metadata": {},
     "output_type": "execute_result"
    }
   ],
   "source": [
    "est_mu[:20]"
   ]
  },
  {
   "cell_type": "code",
   "execution_count": 49,
   "metadata": {},
   "outputs": [
    {
     "data": {
      "text/plain": [
       "LassoCV(fit_intercept=False, max_iter=2000)"
      ]
     },
     "execution_count": 49,
     "metadata": {},
     "output_type": "execute_result"
    }
   ],
   "source": [
    "clf = LassoCV(fit_intercept=False, max_iter=2000)\n",
    "clf.fit(train_X, train_Y)"
   ]
  },
  {
   "cell_type": "code",
   "execution_count": 72,
   "metadata": {},
   "outputs": [
    {
     "data": {
      "text/plain": [
       "2.811950508820297"
      ]
     },
     "execution_count": 72,
     "metadata": {},
     "output_type": "execute_result"
    }
   ],
   "source": [
    "((true_w - est_w)**2).mean()"
   ]
  },
  {
   "cell_type": "code",
   "execution_count": 70,
   "metadata": {},
   "outputs": [
    {
     "data": {
      "text/plain": [
       "0.32932730340418004"
      ]
     },
     "execution_count": 70,
     "metadata": {},
     "output_type": "execute_result"
    }
   ],
   "source": [
    "((true_w - clf.coef_)**2).mean()"
   ]
  },
  {
   "cell_type": "code",
   "execution_count": 66,
   "metadata": {},
   "outputs": [],
   "source": [
    "est_w = est_mu\n",
    "est_w[np.where(est_z_xi.argmax(axis=1) == 0)[0]] = 0"
   ]
  },
  {
   "cell_type": "code",
   "execution_count": 68,
   "metadata": {},
   "outputs": [
    {
     "name": "stdout",
     "output_type": "stream",
     "text": [
      "1.0272627485582744 19.53785474100347 6.987820583141904\n"
     ]
    }
   ],
   "source": [
    "print(\n",
    "    np.sqrt(((test_Y - test_X@true_w)**2).mean()),\n",
    "    np.sqrt(((test_Y - test_X@est_w)**2).mean()),\n",
    "    np.sqrt(((test_Y - test_X@clf.coef_)**2).mean()),    \n",
    ")"
   ]
  },
  {
   "cell_type": "code",
   "execution_count": 28,
   "metadata": {},
   "outputs": [],
   "source": [
    "# ### transform to natural parameters\n",
    "# theta_p1 = est_alpha-1\n",
    "# theta_p2 = est_beta-1\n",
    "# theta_m1 = np.linalg.solve(est_sigma, est_mu)\n",
    "# theta_m2 = -np.linalg.inv(est_sigma)/2\n",
    "\n",
    "# ### set expectation parameters\n",
    "# eta_p1 = digamma(est_alpha) - digamma(est_alpha+est_beta)\n",
    "# eta_p2 = digamma(est_beta) - digamma(est_alpha+est_beta)\n",
    "# eta_m1 = est_mu\n",
    "# eta_m2 = est_sigma + np.outer(est_mu, est_mu)\n",
    "\n",
    "# ### update local parameter\n",
    "# est_h_xi = np.vstack([\n",
    "#     eta_p1+approx_delta_log_func(np.diag(eta_m2)),\n",
    "#     eta_p2+norm.logpdf(np.diag(eta_m2), loc=0, scale=1/pri_beta**2)\n",
    "# ]).T\n",
    "\n",
    "# est_z_xi = np.exp(est_h_xi - logsumexp(est_h_xi, axis=1, keepdims=True))\n",
    "\n",
    "# ### derivative of expectation parameters\n",
    "# n_z = est_z_xi.sum(axis=0)\n",
    "# dFdeta_p1 = theta_p1 - n_z[0] - (pri_alpha - 1)\n",
    "# dFdeta_p2 = theta_p2 - n_z[1] - (pri_alpha - 1)\n",
    "# dFdeta_m1 = theta_m1 - train_X.T@train_Y\n",
    "# dFdeta_m2 = theta_m2 + 0.5*train_X.T@train_X + n_z[0]/(2*pri_delta_c) + n_z[1]/2*pri_gamma\n",
    "\n",
    "# ### update global parameters\n",
    "# rho_t=rho/(ite+1)\n",
    "# theta_p1 -= rho_t*dFdeta_p1\n",
    "# theta_p2 -= rho_t*dFdeta_p2\n",
    "# theta_m1 -= rho_t*dFdeta_m1\n",
    "# theta_m2 -= rho_t*dFdeta_m2\n",
    "\n",
    "# ### transform to original parameters\n",
    "# est_alpha = theta_p1 + 1\n",
    "# est_beta = theta_p2 + 1\n",
    "# est_sigma = -0.5*np.linalg.inv(theta_m2)\n",
    "# est_mu = est_sigma @ theta_m1"
   ]
  },
  {
   "cell_type": "code",
   "execution_count": null,
   "metadata": {},
   "outputs": [],
   "source": [
    "# calc_energy(\n",
    "#     train_X, train_Y,\n",
    "#     est_alpha, est_beta, est_mu, est_sigma,\n",
    "#     est_h_xi,\n",
    "#     pri_alpha, pri_beta, pri_gamma\n",
    "# )\n",
    "\n",
    "# np.trace(k)\n",
    "\n",
    "# np.linalg.slogdet(est_sigma)[1]\n",
    "\n",
    "# theta_p1*eta_p1+theta_p2*eta_p2-(pri_alpha-1)*eta_p1-(pri_beta-1)*eta_p2\\\n",
    "# +gammaln(theta_p1+theta_p2+2)-gammaln(theta_p1+1)-gammaln(theta_p2+1)-gammaln(pri_alpha+pri_beta)+gammaln(pri_alpha)+gammaln(pri_beta)\n",
    "\n",
    "# -logsumexp(est_h_xi, axis=1).sum()\n",
    "\n",
    "# train_X @ est_mu\n",
    "\n",
    "# train_Y@train_Y/2\n",
    "\n",
    "# train_Y @ train_X @ est_mu\n",
    "\n",
    "# train_X.T @ train_X @ est_sigma\n",
    "\n",
    "# ((train_Y - train_X @ est_mu)**2).sum()/2 + "
   ]
  },
  {
   "cell_type": "code",
   "execution_count": null,
   "metadata": {},
   "outputs": [],
   "source": []
  }
 ],
 "metadata": {
  "kernelspec": {
   "display_name": "study",
   "language": "python",
   "name": "study"
  },
  "language_info": {
   "codemirror_mode": {
    "name": "ipython",
    "version": 3
   },
   "file_extension": ".py",
   "mimetype": "text/x-python",
   "name": "python",
   "nbconvert_exporter": "python",
   "pygments_lexer": "ipython3",
   "version": "3.8.5"
  }
 },
 "nbformat": 4,
 "nbformat_minor": 4
}

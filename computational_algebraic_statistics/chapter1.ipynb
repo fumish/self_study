{
 "cells": [
  {
   "cell_type": "code",
   "execution_count": 1,
   "id": "8714a282-cba0-4af9-9422-382b3ca8fe76",
   "metadata": {},
   "outputs": [],
   "source": [
    "import itertools\n",
    "\n",
    "import numpy as np\n",
    "import sympy"
   ]
  },
  {
   "cell_type": "markdown",
   "id": "2a1484d2-f959-43ea-8f8b-b97a00f32349",
   "metadata": {},
   "source": [
    "# 1.1 連立方程式"
   ]
  },
  {
   "cell_type": "code",
   "execution_count": 2,
   "id": "c8dc741b-165e-48ab-8e8e-b58a57d3a1d5",
   "metadata": {},
   "outputs": [],
   "source": [
    "x, y, z = sympy.symbols(\"x y z\")"
   ]
  },
  {
   "cell_type": "markdown",
   "id": "428ae547-62c8-4796-a6f1-7a7d8df3a39e",
   "metadata": {},
   "source": [
    "問題1.1\n",
    "$$\n",
    "\\begin{cases}\n",
    "    x + 2y - z = 2 \\\\\n",
    "    x + y - 4z = 3 \\\\\n",
    "    x + 3y + 3z = 0 \\\\\n",
    "\\end{cases}\n",
    "$$"
   ]
  },
  {
   "cell_type": "code",
   "execution_count": 3,
   "id": "8d032cbd-f6ac-4ff3-b9b0-9e0dc8d7be6f",
   "metadata": {},
   "outputs": [
    {
     "data": {
      "text/latex": [
       "$\\displaystyle \\operatorname{GroebnerBasis}\\left(\\left( x + 3, \\  y - 2, \\  z + 1\\right), \\left( x, \\  y, \\  z\\right)\\right)$"
      ],
      "text/plain": [
       "GroebnerBasis([x + 3, y - 2, z + 1], x, y, z, domain='ZZ', order='lex')"
      ]
     },
     "metadata": {},
     "output_type": "display_data"
    }
   ],
   "source": [
    "eqs = [x + 2*y - z - 2, x + y - 4*z - 3, x + 3*y + 3*z]\n",
    "res = sympy.groebner(eqs, x, y, z, order='lex')\n",
    "\n",
    "display(res)"
   ]
  },
  {
   "cell_type": "markdown",
   "id": "ee17febb-2b82-43d7-8164-541ab04b24c6",
   "metadata": {},
   "source": [
    "問題1.2\n",
    "$$\n",
    "\\begin{cases}\n",
    "    x^2 + y^2 + 4z^2 = 81 \\\\\n",
    "    x - y + z^2 = 13 \\\\\n",
    "    xz - 2y = 18 \\\\\n",
    "\\end{cases}\n",
    "$$"
   ]
  },
  {
   "cell_type": "code",
   "execution_count": 4,
   "id": "c8055687-88f9-48d0-8e1a-35f01b422f44",
   "metadata": {},
   "outputs": [
    {
     "data": {
      "text/latex": [
       "$\\displaystyle \\operatorname{GroebnerBasis}\\left(\\left( x - y + z^{2} - 13, \\  2 y^{2} + 18 y - z^{4} - 4 z^{3} + 4 z^{2} + 16 z + 16, \\  y z - 2 y - z^{3} + 13 z - 18, \\  z^{5} + 2 z^{4} - 14 z^{3} - 8 z^{2} + 56 z - 32\\right), \\left( x, \\  y, \\  z\\right)\\right)$"
      ],
      "text/plain": [
       "GroebnerBasis([x - y + z**2 - 13, 2*y**2 + 18*y - z**4 - 4*z**3 + 4*z**2 + 16*z + 16, y*z - 2*y - z**3 + 13*z - 18, z**5 + 2*z**4 - 14*z**3 - 8*z**2 + 56*z - 32], x, y, z, domain='ZZ', order='lex')"
      ]
     },
     "metadata": {},
     "output_type": "display_data"
    }
   ],
   "source": [
    "eqs = [x**2 + y**2 + 4*z**2 - 81, x - y + z**2 - 13, x*z - 2*y - 18]\n",
    "res = sympy.groebner(eqs, x, y, z, order='lex')\n",
    "\n",
    "display(res)"
   ]
  },
  {
   "cell_type": "markdown",
   "id": "b7c712d3-455b-4116-ba4c-8518f7fc1a59",
   "metadata": {},
   "source": [
    "問題1.3\n",
    "$$\n",
    "\\begin{cases}\n",
    "    x^2 + y^2 + 4z^2 = 90 \\\\\n",
    "    x - y + z = 12 \\\\\n",
    "    xz - 3y = 28 \\\\\n",
    "\\end{cases}\n",
    "$$"
   ]
  },
  {
   "cell_type": "code",
   "execution_count": 5,
   "id": "29b26470-ea5b-4fae-88a0-3658a35bb68d",
   "metadata": {},
   "outputs": [
    {
     "data": {
      "text/latex": [
       "$\\displaystyle \\operatorname{GroebnerBasis}\\left(\\left( 2 x + 5 z^{3} - 33 z^{2} + 56 z - 18, \\  2 y + 5 z^{3} - 33 z^{2} + 54 z + 6, \\  5 z^{4} - 48 z^{3} + 155 z^{2} - 180 z + 38\\right), \\left( x, \\  y, \\  z\\right)\\right)$"
      ],
      "text/plain": [
       "GroebnerBasis([2*x + 5*z**3 - 33*z**2 + 56*z - 18, 2*y + 5*z**3 - 33*z**2 + 54*z + 6, 5*z**4 - 48*z**3 + 155*z**2 - 180*z + 38], x, y, z, domain='ZZ', order='lex')"
      ]
     },
     "metadata": {},
     "output_type": "display_data"
    }
   ],
   "source": [
    "eqs = [x**2 + y**2 + 4*z**2 - 90, x - y + z - 12, x*z - 3*y - 28]\n",
    "res = sympy.groebner(eqs, x, y, z, order='lex')\n",
    "\n",
    "display(res)"
   ]
  },
  {
   "cell_type": "code",
   "execution_count": 6,
   "id": "df17623e-2b95-4723-b809-85402a3cde45",
   "metadata": {},
   "outputs": [
    {
     "data": {
      "text/latex": [
       "$\\displaystyle \\operatorname{GroebnerBasis}\\left(\\left( 2 y + 5 z^{3} - 33 z^{2} + 54 z + 6, \\  2 y^{2} + 18 y + 3 z^{2} - 2, \\  y z - 3 y - z^{2} + 12 z - 28, \\  x - y + z - 12\\right), \\left( x, \\  y, \\  z\\right)\\right)$"
      ],
      "text/plain": [
       "GroebnerBasis([5*z**3 - 33*z**2 + 2*y + 54*z + 6, 2*y**2 + 3*z**2 + 18*y - 2, y*z - z**2 - 3*y + 12*z - 28, x - y + z - 12], x, y, z, domain='ZZ', order='grlex')"
      ]
     },
     "metadata": {},
     "output_type": "display_data"
    }
   ],
   "source": [
    "eqs = [x**2 + y**2 + 4*z**2 - 90, x - y + z - 12, x*z - 3*y - 28]\n",
    "res = sympy.groebner(eqs, x, y, z, order='grlex')\n",
    "\n",
    "display(res)"
   ]
  },
  {
   "cell_type": "code",
   "execution_count": 7,
   "id": "cb5c0e32-44a6-46af-ae4e-08ebd75fc0c2",
   "metadata": {},
   "outputs": [
    {
     "data": {
      "text/latex": [
       "$\\displaystyle \\operatorname{GroebnerBasis}\\left(\\left( 2 y + 5 z^{3} - 33 z^{2} + 54 z + 6, \\  2 y^{2} + 18 y + 3 z^{2} - 2, \\  y z - 3 y - z^{2} + 12 z - 28, \\  x - y + z - 12\\right), \\left( x, \\  y, \\  z\\right)\\right)$"
      ],
      "text/plain": [
       "GroebnerBasis([5*z**3 - 33*z**2 + 2*y + 54*z + 6, 2*y**2 + 3*z**2 + 18*y - 2, y*z - z**2 - 3*y + 12*z - 28, x - y + z - 12], x, y, z, domain='ZZ', order='grevlex')"
      ]
     },
     "metadata": {},
     "output_type": "display_data"
    }
   ],
   "source": [
    "eqs = [x**2 + y**2 + 4*z**2 - 90, x - y + z - 12, x*z - 3*y - 28]\n",
    "res = sympy.groebner(eqs, x, y, z, order='grevlex')\n",
    "\n",
    "display(res)"
   ]
  },
  {
   "cell_type": "code",
   "execution_count": null,
   "id": "873582b5-2610-4244-b80b-bd01a1bd9860",
   "metadata": {},
   "outputs": [],
   "source": []
  },
  {
   "cell_type": "markdown",
   "id": "923f9f1c-3dd8-4962-830c-4e17fc1f405c",
   "metadata": {},
   "source": [
    "### 任意の連立方程式\n",
    "+ 3変数で一つの変数の最大次数を設定して、そういった多項式を3つ用意した時のグレブナー基底を確認する"
   ]
  },
  {
   "cell_type": "markdown",
   "id": "70182495-54f8-43b0-ab1e-42127a4fe455",
   "metadata": {},
   "source": [
    "+ 注意: n_eq, n_termの設定に応じて、自明なグレブナー基底($<1>$から生成される多項式で、任意の多項式)しか生成されないことがある"
   ]
  },
  {
   "cell_type": "code",
   "execution_count": 8,
   "id": "a7718be8-d5cf-4506-acab-0e0f1ac01ec2",
   "metadata": {},
   "outputs": [],
   "source": [
    "# 用いる変数の数\n",
    "n_var = 3\n",
    "\n",
    "# 多項式の数\n",
    "n_eq = 3\n",
    "\n",
    "# 一つの変数の最大次数\n",
    "deg = 1\n",
    "\n",
    "# 一つの変数の次数がdeg以下の時の3変数の組み合わせ, すべて0は除くので、-1している\n",
    "max_term = (deg+1)**n_var - 1\n",
    "\n",
    "# 各多項式の項の数\n",
    "n_term = 2\n",
    "\n",
    "# 係数をランダムに決める\n",
    "data_seed = 20240831\n",
    "np.random.seed(data_seed)\n",
    "\n",
    "# deg以下の次数を各変数が持つとき、すべての次数の組み合わせを使う想定であれば、(deg+1)**3の組み合わせがあるので、\n",
    "coef = np.random.normal(\n",
    "    size=(\n",
    "        max_term,\n",
    "        n_eq,\n",
    "    )\n",
    ")\n",
    "coef = np.around(coef, decimals=2) # 係数を有理数にする\n",
    "\n",
    "# 解の設定\n",
    "solution = np.around(np.random.normal(size=n_var), decimals=1)\n",
    "\n",
    "# 使う多項式を決める, is_useが1の項を用いる\n",
    "use_rand = np.random.dirichlet(alpha=np.ones(max_term), size=n_eq)\n",
    "# use_rand[:,-1] = 1 # 使いたくない項は0にする\n",
    "# use_rand[:,-9:-1] = 1 # 使いたくない項は0にする\n",
    "use_priority = np.argsort(use_rand).T\n",
    "is_use = np.zeros((max_term, n_eq))\n",
    "for k in range(n_eq):\n",
    "    is_use[use_priority[:n_term,k],k] = 1"
   ]
  },
  {
   "cell_type": "code",
   "execution_count": 9,
   "id": "9d906b7a-d72a-411b-978d-b78a1d393f1b",
   "metadata": {},
   "outputs": [],
   "source": [
    "expres = list()\n",
    "for i_var in range(n_eq):\n",
    "    # expre = intercept[i_var]\n",
    "    # if i_var == 0:\n",
    "    #     expre = coef[0,i_var]*x\n",
    "    # elif i_var == 1:\n",
    "    #     expre = coef[1,i_var]*y\n",
    "    # elif i_var == 2:\n",
    "    #     expre = coef[2,i_var]*z\n",
    "    # else:\n",
    "    #     expre = 0\n",
    "    expre = 0\n",
    "    for ind, val in enumerate(itertools.product(range(deg+1), range(deg+1), range(deg+1))):\n",
    "        if sum(val) == 0:\n",
    "            # 定数項は無視する\n",
    "            continue\n",
    "        if is_use[ind-1,i_var] == 1:\n",
    "            expre += coef[ind-1, i_var] * x**val[0]*y**val[1]*z**val[2]\n",
    "        pass\n",
    "    # x,y,zに解を代入して、整合性のとれた関係式を作る\n",
    "    expre -= expre.subs(x, solution[0]).subs(y, solution[1]).subs(z, solution[2])\n",
    "    expres.append(expre)"
   ]
  },
  {
   "cell_type": "code",
   "execution_count": 10,
   "id": "a678baad-d78a-4692-a021-741b85f41fc7",
   "metadata": {},
   "outputs": [
    {
     "data": {
      "text/latex": [
       "$\\displaystyle \\operatorname{GroebnerBasis}\\left(\\left( 1.0 x + 0.56002514142049 z^{2} + 2.59280326838466 z - 0.143604651162791, \\  1.0 y + 2.66945317410434 z^{2} + 12.3590289126336 z + 3.8121511627907, \\  1.0 z^{4} + 9.25959595959596 z^{3} + 22.6066684129563 z^{2} + 5.066492954749 z - 2.02347113091508\\right), \\left( x, \\  y, \\  z\\right)\\right)$"
      ],
      "text/plain": [
       "GroebnerBasis([1.0*x + 0.56002514142049*z**2 + 2.59280326838466*z - 0.143604651162791, 1.0*y + 2.66945317410434*z**2 + 12.3590289126336*z + 3.8121511627907, 1.0*z**4 + 9.25959595959596*z**3 + 22.6066684129563*z**2 + 5.066492954749*z - 2.02347113091508], x, y, z, domain='RR', order='lex')"
      ]
     },
     "metadata": {},
     "output_type": "display_data"
    }
   ],
   "source": [
    "res = sympy.groebner(expres, x, y, z, order='lex')\n",
    "\n",
    "display(res)"
   ]
  },
  {
   "cell_type": "code",
   "execution_count": 11,
   "id": "ea14457f-f868-4147-a964-5d36bab72d46",
   "metadata": {},
   "outputs": [
    {
     "data": {
      "text/latex": [
       "$\\displaystyle \\operatorname{GroebnerBasis}\\left(\\left( 1.0 y^{2} + 4.49666666666667 y - 2.55081081081081 z - 11.8097387387387, \\  0.374608556426738 y + 1.0 z^{2} + 4.62979797979798 z + 1.42806444397353, \\  1.0 x - 0.20979020979021 y - 0.943356643356643\\right), \\left( x, \\  y, \\  z\\right)\\right)$"
      ],
      "text/plain": [
       "GroebnerBasis([1.0*y**2 + 4.49666666666667*y - 2.55081081081081*z - 11.8097387387387, 1.0*z**2 + 0.374608556426738*y + 4.62979797979798*z + 1.42806444397353, 1.0*x - 0.20979020979021*y - 0.943356643356643], x, y, z, domain='RR', order='grlex')"
      ]
     },
     "metadata": {},
     "output_type": "display_data"
    }
   ],
   "source": [
    "res = sympy.groebner(expres, x, y, z, order='grlex')\n",
    "\n",
    "display(res)"
   ]
  },
  {
   "cell_type": "code",
   "execution_count": 12,
   "id": "02545d63-c36f-4605-b2bb-ac3418c0c6b7",
   "metadata": {},
   "outputs": [
    {
     "data": {
      "text/latex": [
       "$\\displaystyle \\operatorname{GroebnerBasis}\\left(\\left( 1.0 y^{2} + 4.49666666666667 y - 2.55081081081081 z - 11.8097387387387, \\  0.374608556426738 y + 1.0 z^{2} + 4.62979797979798 z + 1.42806444397353, \\  1.0 x - 0.20979020979021 y - 0.943356643356643\\right), \\left( x, \\  y, \\  z\\right)\\right)$"
      ],
      "text/plain": [
       "GroebnerBasis([1.0*y**2 + 4.49666666666667*y - 2.55081081081081*z - 11.8097387387387, 1.0*z**2 + 0.374608556426738*y + 4.62979797979798*z + 1.42806444397353, 1.0*x - 0.20979020979021*y - 0.943356643356643], x, y, z, domain='RR', order='grevlex')"
      ]
     },
     "metadata": {},
     "output_type": "display_data"
    }
   ],
   "source": [
    "res = sympy.groebner(expres, x, y, z, order='grevlex')\n",
    "\n",
    "display(res)"
   ]
  },
  {
   "cell_type": "code",
   "execution_count": null,
   "id": "bd04632b-b4fd-4823-bae9-8e1c57e35ad7",
   "metadata": {},
   "outputs": [],
   "source": []
  }
 ],
 "metadata": {
  "kernelspec": {
   "display_name": "Python 3 (ipykernel)",
   "language": "python",
   "name": "python3"
  },
  "language_info": {
   "codemirror_mode": {
    "name": "ipython",
    "version": 3
   },
   "file_extension": ".py",
   "mimetype": "text/x-python",
   "name": "python",
   "nbconvert_exporter": "python",
   "pygments_lexer": "ipython3",
   "version": "3.12.4"
  }
 },
 "nbformat": 4,
 "nbformat_minor": 5
}

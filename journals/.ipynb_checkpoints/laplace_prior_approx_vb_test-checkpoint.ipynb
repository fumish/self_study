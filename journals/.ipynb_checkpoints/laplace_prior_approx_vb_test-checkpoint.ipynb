{
 "cells": [
  {
   "cell_type": "markdown",
   "metadata": {},
   "source": [
    "# Implementation to estimate linear regression with Laplace by approximated Laplace prior\n",
    "+ We consider the Gaussian approximated Laplace prior:\n",
    "$$\n",
    "|w_j| \\approx |\\xi_j| + \\frac{1}{2\\sqrt{\\xi_j}}(w_j^2 - \\xi_j^2).\n",
    "$$  \n",
    "This is derived from condition of $C^1$ convex function because $|w_j| = \\sqrt{w_j^2}$ and $\\sqrt{x}$ is convex function.\n",
    "+ Note that $|\\xi_j|$ is optimized by objective function."
   ]
  },
  {
   "cell_type": "code",
   "execution_count": 1,
   "metadata": {},
   "outputs": [],
   "source": [
    "%load_ext autoreload\n",
    "%autoreload 2"
   ]
  },
  {
   "cell_type": "code",
   "execution_count": 2,
   "metadata": {},
   "outputs": [],
   "source": [
    "import numpy as np\n",
    "from scipy.stats import wishart"
   ]
  },
  {
   "cell_type": "code",
   "execution_count": 83,
   "metadata": {},
   "outputs": [],
   "source": [
    "# data setting\n",
    "n = 20\n",
    "M = 40\n",
    "zero_features = M // 2\n",
    "data_seed = 20201010"
   ]
  },
  {
   "cell_type": "code",
   "execution_count": 84,
   "metadata": {},
   "outputs": [],
   "source": [
    "# problem setting\n",
    "np.random.seed(data_seed)\n",
    "true_w = np.random.normal(scale = 3, size = M)\n",
    "zero_ind = np.random.choice(M, size = zero_features, replace = False)\n",
    "true_w[zero_ind] = 0"
   ]
  },
  {
   "cell_type": "code",
   "execution_count": 85,
   "metadata": {},
   "outputs": [],
   "source": [
    "# data generation\n",
    "train_X = np.random.normal(size = (n, M))\n",
    "train_Y = np.random.normal(size = n) + train_X @ true_w"
   ]
  },
  {
   "cell_type": "code",
   "execution_count": 86,
   "metadata": {},
   "outputs": [],
   "source": [
    "# learning setting\n",
    "seed = 20201011\n",
    "pri_beta = 0.001\n",
    "iteration = 1000\n",
    "tol = 1e-8\n",
    "is_trace = True\n",
    "step = 10\n",
    "opt_pri_beta = True"
   ]
  },
  {
   "cell_type": "code",
   "execution_count": 87,
   "metadata": {},
   "outputs": [],
   "source": [
    "def _obj_func(y, pri_beta, mean, inv_sigma, h_xi, v_xi):\n",
    "    F = 0\n",
    "    F += pri_beta/2*np.sqrt(h_xi).sum() + v_xi@h_xi - M*np.log(pri_beta/2)\n",
    "    F += n/2*np.log(2*np.pi) + train_Y@train_Y/2 - mean @ (inv_sigma @ mean)/2 + np.linalg.slogdet(inv_sigma)[0]/2\n",
    "    return F"
   ]
  },
  {
   "cell_type": "code",
   "execution_count": 88,
   "metadata": {},
   "outputs": [],
   "source": [
    "# initialization\n",
    "if seed > 0:\n",
    "    np.random.seed(seed)\n",
    "    pass\n",
    "mean = np.random.normal(size = M)\n",
    "inv_sigma = wishart.rvs(df = M + 2, scale = np.eye(M), size = 1)\n",
    "sigma = np.linalg.inv(inv_sigma)\n",
    "est_pri_beta = pri_beta if not opt_pri_beta else np.random.gamma(shape = 3, size = 1)"
   ]
  },
  {
   "cell_type": "code",
   "execution_count": 89,
   "metadata": {},
   "outputs": [
    {
     "name": "stdout",
     "output_type": "stream",
     "text": [
      "267.67310380833146\n",
      "297.28696437576815\n",
      "297.46317321818674\n",
      "297.4633457979906\n"
     ]
    }
   ],
   "source": [
    "F = []\n",
    "for ite in range(iteration):\n",
    "    # update form of approximated laplace prior\n",
    "    est_h_xi = mean**2 + np.diag(sigma)\n",
    "    est_v_xi = -pri_beta/2/np.sqrt(est_h_xi)\n",
    "\n",
    "    # update posterior distribution\n",
    "    inv_sigma = train_X.T @ train_X -2*np.diag(est_v_xi)\n",
    "    mean = np.linalg.solve(inv_sigma, train_X.T @ train_Y)\n",
    "    sigma = np.linalg.inv(inv_sigma)\n",
    "\n",
    "    est_pri_beta = M/((mean**2 + np.diag(sigma))/(2*np.sqrt(est_h_xi))).sum()\n",
    "    \n",
    "    current_F = _obj_func(train_Y, est_pri_beta, mean, inv_sigma, est_h_xi, est_v_xi)\n",
    "    F.append(current_F)\n",
    "    if ite > 0 and np.abs(current_F - F[ite-1]) < tol:\n",
    "        break\n",
    "    if is_trace and ite % step == 0:\n",
    "        print(current_F)"
   ]
  },
  {
   "cell_type": "code",
   "execution_count": null,
   "metadata": {},
   "outputs": [],
   "source": []
  }
 ],
 "metadata": {
  "jupytext": {
   "text_representation": {
    "extension": ".py",
    "format_name": "light",
    "format_version": "1.5",
    "jupytext_version": "1.5.2"
   }
  },
  "kernelspec": {
   "display_name": "Python 3",
   "language": "python",
   "name": "python3"
  },
  "language_info": {
   "codemirror_mode": {
    "name": "ipython",
    "version": 3
   },
   "file_extension": ".py",
   "mimetype": "text/x-python",
   "name": "python",
   "nbconvert_exporter": "python",
   "pygments_lexer": "ipython3",
   "version": "3.6.3"
  }
 },
 "nbformat": 4,
 "nbformat_minor": 4
}
